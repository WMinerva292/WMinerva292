{
  "nbformat": 4,
  "nbformat_minor": 0,
  "metadata": {
    "colab": {
      "provenance": [],
      "authorship_tag": "ABX9TyNVAMk2GlCN94gMHNodEI4Z",
      "include_colab_link": true
    },
    "kernelspec": {
      "name": "python3",
      "display_name": "Python 3"
    },
    "language_info": {
      "name": "python"
    }
  },
  "cells": [
    {
      "cell_type": "markdown",
      "metadata": {
        "id": "view-in-github",
        "colab_type": "text"
      },
      "source": [
        "<a href=\"https://colab.research.google.com/github/WMinerva292/WMinerva292/blob/main/Python_1_Python_Basics.ipynb\" target=\"_parent\"><img src=\"https://colab.research.google.com/assets/colab-badge.svg\" alt=\"Open In Colab\"/></a>"
      ]
    },
    {
      "cell_type": "markdown",
      "source": [
        "# **Python Variables**"
      ],
      "metadata": {
        "id": "T6pe5y5JMtiM"
      }
    },
    {
      "cell_type": "markdown",
      "source": [
        "## **1. Assigning Values**"
      ],
      "metadata": {
        "id": "MbsPdv5iOD3E"
      }
    },
    {
      "cell_type": "markdown",
      "source": [
        "1. Assigning a single value to a variable:"
      ],
      "metadata": {
        "id": "zf7keMMHM_j6"
      }
    },
    {
      "cell_type": "code",
      "source": [
        "a = 10\n",
        "name = 'Victor'\n",
        "salary = 15000.00\n",
        "print (a)\n",
        "print (name)\n",
        "print (salary)"
      ],
      "metadata": {
        "colab": {
          "base_uri": "https://localhost:8080/"
        },
        "id": "EHMwutdPNHIC",
        "outputId": "4affa98c-e3f9-4089-9dc7-ae09da089dab"
      },
      "execution_count": 1,
      "outputs": [
        {
          "output_type": "stream",
          "name": "stdout",
          "text": [
            "10\n",
            "Victor\n",
            "15000.0\n"
          ]
        }
      ]
    },
    {
      "cell_type": "markdown",
      "source": [
        "2. Assigning multiple values to a variable:"
      ],
      "metadata": {
        "id": "hJ29T0W4Ne_0"
      }
    },
    {
      "cell_type": "code",
      "source": [
        "a = b = c = 10\n",
        "x, y, z = 10, 20, 30\n",
        "print (y)\n",
        "print (z)\n",
        "print (a)"
      ],
      "metadata": {
        "colab": {
          "base_uri": "https://localhost:8080/"
        },
        "id": "TqaccIZDNkp0",
        "outputId": "f7761902-bebc-466f-c3ed-d3b8efc47d78"
      },
      "execution_count": 2,
      "outputs": [
        {
          "output_type": "stream",
          "name": "stdout",
          "text": [
            "20\n",
            "30\n",
            "10\n"
          ]
        }
      ]
    },
    {
      "cell_type": "markdown",
      "source": [
        "## **2. Getting User Input**"
      ],
      "metadata": {
        "id": "tarJgoAdOTe2"
      }
    },
    {
      "cell_type": "code",
      "source": [
        "# Get user's name as input\n",
        "name = input(\"Enter your name: \")"
      ],
      "metadata": {
        "colab": {
          "base_uri": "https://localhost:8080/"
        },
        "id": "nh2YNubaOaci",
        "outputId": "45b30c9a-1fbb-4be8-d025-7ae1d217407a"
      },
      "execution_count": 3,
      "outputs": [
        {
          "name": "stdout",
          "output_type": "stream",
          "text": [
            "Enter your name: Minerva\n"
          ]
        }
      ]
    },
    {
      "cell_type": "markdown",
      "source": [
        "# **Python Data Types**"
      ],
      "metadata": {
        "id": "WDNcCzloQNeI"
      }
    },
    {
      "cell_type": "markdown",
      "source": [
        "1. Integer\n",
        "2. Float\n",
        "3. String\n",
        "4. Boolean"
      ],
      "metadata": {
        "id": "RaCrVlf7QbQ8"
      }
    },
    {
      "cell_type": "markdown",
      "source": [
        "## **Conditional Statements**"
      ],
      "metadata": {
        "id": "4Og86IEcQrfA"
      }
    },
    {
      "cell_type": "markdown",
      "source": [
        "1. If Statement\n",
        "2. If-else Statement\n",
        "3. If-elif Statement"
      ],
      "metadata": {
        "id": "gASNzZFqS9Mz"
      }
    },
    {
      "cell_type": "code",
      "source": [
        "# If\n",
        "isUserLoggedIn = False\n",
        "\n",
        "if not isUserLoggedIn:\n",
        "  print(\"Redirect to login\")\n",
        "\n",
        "print(\"Make Purchaase\")"
      ],
      "metadata": {
        "colab": {
          "base_uri": "https://localhost:8080/"
        },
        "id": "kfmgjPLfQUVn",
        "outputId": "3bcefa45-1cb2-43f9-9c4a-8d4a5cea0311"
      },
      "execution_count": 4,
      "outputs": [
        {
          "output_type": "stream",
          "name": "stdout",
          "text": [
            "Redirect to login\n",
            "Make Purchaase\n"
          ]
        }
      ]
    },
    {
      "cell_type": "code",
      "source": [
        "# If-else\n",
        "youAreSick = True\n",
        "\n",
        "if youAreSick:\n",
        "  print(\"Go to Doctor\")\n",
        "else:\n",
        "  print(\"Go and play football\")"
      ],
      "metadata": {
        "colab": {
          "base_uri": "https://localhost:8080/"
        },
        "id": "IWLbdB4jRUyj",
        "outputId": "16732068-fda2-4138-b34f-0abf390eb8e6"
      },
      "execution_count": 6,
      "outputs": [
        {
          "output_type": "stream",
          "name": "stdout",
          "text": [
            "Go to Doctor\n"
          ]
        }
      ]
    },
    {
      "cell_type": "code",
      "source": [
        "# If-else\n",
        "youAreSick = False\n",
        "\n",
        "if youAreSick:\n",
        "  print(\"Go to Doctor\")\n",
        "else:\n",
        "  print(\"Go and play football\")"
      ],
      "metadata": {
        "colab": {
          "base_uri": "https://localhost:8080/"
        },
        "id": "3Qvq6LH9R4Yg",
        "outputId": "da8fe21b-bd81-469e-a65b-c16aaf3ab8f5"
      },
      "execution_count": 7,
      "outputs": [
        {
          "output_type": "stream",
          "name": "stdout",
          "text": [
            "Go and play football\n"
          ]
        }
      ]
    },
    {
      "cell_type": "code",
      "source": [
        "# If-elif\n",
        "marks = 95\n",
        "if marks >=90:\n",
        "  print(\"Grade is A\")\n",
        "elif marks >=80:\n",
        "  print(\"Grade is B\")\n",
        "else:\n",
        "  print(\"Grade is C\")"
      ],
      "metadata": {
        "colab": {
          "base_uri": "https://localhost:8080/"
        },
        "id": "EDEB9S8CSQoH",
        "outputId": "61f4e523-992a-4555-deab-2cbc85f9c487"
      },
      "execution_count": 8,
      "outputs": [
        {
          "output_type": "stream",
          "name": "stdout",
          "text": [
            "Grade is A\n"
          ]
        }
      ]
    },
    {
      "cell_type": "markdown",
      "source": [
        "## **Looping Statement**"
      ],
      "metadata": {
        "id": "HrwVNtrwTKbU"
      }
    },
    {
      "cell_type": "markdown",
      "source": [
        "1. For Loop\n",
        "2. While Loop"
      ],
      "metadata": {
        "id": "cJQQQo7CTQ7x"
      }
    },
    {
      "cell_type": "code",
      "source": [
        "# For Loop\n",
        "\n",
        "for num in range (0, 10):\n",
        "  print(num)"
      ],
      "metadata": {
        "colab": {
          "base_uri": "https://localhost:8080/"
        },
        "id": "vPn2tf0RTaJB",
        "outputId": "3475f5a8-2a71-4841-a6e3-63240b702832"
      },
      "execution_count": 9,
      "outputs": [
        {
          "output_type": "stream",
          "name": "stdout",
          "text": [
            "0\n",
            "1\n",
            "2\n",
            "3\n",
            "4\n",
            "5\n",
            "6\n",
            "7\n",
            "8\n",
            "9\n"
          ]
        }
      ]
    },
    {
      "cell_type": "code",
      "source": [
        "# While Loop\n",
        "\n",
        "count = 0\n",
        "while count < 10:\n",
        "  print (count)\n",
        "  count += 1"
      ],
      "metadata": {
        "colab": {
          "base_uri": "https://localhost:8080/"
        },
        "id": "ppM1n8-pTpK2",
        "outputId": "bb5e2b19-fe78-40ac-8b18-71355b4255bf"
      },
      "execution_count": 10,
      "outputs": [
        {
          "output_type": "stream",
          "name": "stdout",
          "text": [
            "0\n",
            "1\n",
            "2\n",
            "3\n",
            "4\n",
            "5\n",
            "6\n",
            "7\n",
            "8\n",
            "9\n"
          ]
        }
      ]
    },
    {
      "cell_type": "markdown",
      "source": [
        "# **Lists**\n",
        "\n",
        "### **List Operations:**\n",
        "\n",
        "1. Create\n",
        "2. Initialize\n",
        "3. Append\n",
        "4. Delete"
      ],
      "metadata": {
        "id": "i30fCC6NUAfp"
      }
    },
    {
      "cell_type": "code",
      "source": [
        "# Create\n",
        "\n",
        "names = list()\n",
        "age = []\n",
        "print (age)"
      ],
      "metadata": {
        "colab": {
          "base_uri": "https://localhost:8080/"
        },
        "id": "sI-J_pnpUxnv",
        "outputId": "b2f1fdf1-c9b5-429b-b0c4-75171934bac1"
      },
      "execution_count": 11,
      "outputs": [
        {
          "output_type": "stream",
          "name": "stdout",
          "text": [
            "[]\n"
          ]
        }
      ]
    },
    {
      "cell_type": "code",
      "source": [
        "# Initialize\n",
        "\n",
        "age = [25, 18, 21]\n",
        "print (age)"
      ],
      "metadata": {
        "colab": {
          "base_uri": "https://localhost:8080/"
        },
        "id": "dayTVUytVlpu",
        "outputId": "1c2a7209-c432-45c9-b459-7bac926a8f9c"
      },
      "execution_count": 12,
      "outputs": [
        {
          "output_type": "stream",
          "name": "stdout",
          "text": [
            "[25, 18, 21]\n"
          ]
        }
      ]
    },
    {
      "cell_type": "code",
      "source": [
        "# Append\n",
        "\n",
        "age.append(30)\n",
        "print (age)"
      ],
      "metadata": {
        "colab": {
          "base_uri": "https://localhost:8080/"
        },
        "id": "p6zkWYw0V9jc",
        "outputId": "af822c60-1221-4e55-cc53-2d7471d28f35"
      },
      "execution_count": 13,
      "outputs": [
        {
          "output_type": "stream",
          "name": "stdout",
          "text": [
            "[25, 18, 21, 30]\n"
          ]
        }
      ]
    },
    {
      "cell_type": "code",
      "source": [
        "# Delete\n",
        "\n",
        "age.pop()\n",
        "print (age)"
      ],
      "metadata": {
        "colab": {
          "base_uri": "https://localhost:8080/"
        },
        "id": "vE0rUF32WVz2",
        "outputId": "b5ff180e-ad46-4908-8ed0-93a343c276f9"
      },
      "execution_count": 14,
      "outputs": [
        {
          "output_type": "stream",
          "name": "stdout",
          "text": [
            "[25, 18, 21]\n"
          ]
        }
      ]
    },
    {
      "cell_type": "code",
      "source": [
        "age.pop()\n",
        "print (age)"
      ],
      "metadata": {
        "colab": {
          "base_uri": "https://localhost:8080/"
        },
        "id": "uwGvoGDDWo4T",
        "outputId": "aa06d670-2dcc-4c0a-ae1a-fbeb9749eee4"
      },
      "execution_count": 18,
      "outputs": [
        {
          "output_type": "stream",
          "name": "stdout",
          "text": [
            "[25, 18]\n"
          ]
        }
      ]
    },
    {
      "cell_type": "code",
      "source": [
        "age.pop()\n",
        "print (age)"
      ],
      "metadata": {
        "colab": {
          "base_uri": "https://localhost:8080/"
        },
        "id": "Y_1s-_k6W-zd",
        "outputId": "d0416b7d-c23f-4e44-a26b-034dcdf912fb"
      },
      "execution_count": 19,
      "outputs": [
        {
          "output_type": "stream",
          "name": "stdout",
          "text": [
            "[25]\n"
          ]
        }
      ]
    },
    {
      "cell_type": "code",
      "source": [
        "age.append(45)\n",
        "print (age)"
      ],
      "metadata": {
        "colab": {
          "base_uri": "https://localhost:8080/"
        },
        "id": "LJpVnwnOXPdP",
        "outputId": "ede7ad6b-84fd-465b-9280-35188e39d9e8"
      },
      "execution_count": 24,
      "outputs": [
        {
          "output_type": "stream",
          "name": "stdout",
          "text": [
            "[45, 45]\n"
          ]
        }
      ]
    },
    {
      "cell_type": "code",
      "source": [
        "age.pop(1)\n",
        "print (age)"
      ],
      "metadata": {
        "colab": {
          "base_uri": "https://localhost:8080/"
        },
        "id": "Rj8uBinGXbEh",
        "outputId": "42e2b62a-0b19-4172-c0c0-e9b4fff69af7"
      },
      "execution_count": 25,
      "outputs": [
        {
          "output_type": "stream",
          "name": "stdout",
          "text": [
            "[45]\n"
          ]
        }
      ]
    },
    {
      "cell_type": "markdown",
      "source": [
        "## **Tuples**\n",
        "\n",
        "### **Tuple Operations:**\n",
        "\n",
        "1. Create\n",
        "2. Initialize\n",
        "3. Search\n",
        "4. Slice"
      ],
      "metadata": {
        "id": "areP0bVuXssY"
      }
    },
    {
      "cell_type": "code",
      "source": [
        "# Create\n",
        "\n",
        "options = ()\n",
        "names = tuple()\n",
        "print (options)"
      ],
      "metadata": {
        "colab": {
          "base_uri": "https://localhost:8080/"
        },
        "id": "b4vlhBQEYlYV",
        "outputId": "f240d704-f4c7-4c78-a054-cd4a4f69d93b"
      },
      "execution_count": 26,
      "outputs": [
        {
          "output_type": "stream",
          "name": "stdout",
          "text": [
            "()\n"
          ]
        }
      ]
    },
    {
      "cell_type": "code",
      "source": [
        "# Initialize\n",
        "\n",
        "age = 25, 18, 21\n",
        "print (age)"
      ],
      "metadata": {
        "colab": {
          "base_uri": "https://localhost:8080/"
        },
        "id": "C8U_S3C-Y5hq",
        "outputId": "330861c3-7c50-4c18-bafc-2e9865836f6b"
      },
      "execution_count": 27,
      "outputs": [
        {
          "output_type": "stream",
          "name": "stdout",
          "text": [
            "(25, 18, 21)\n"
          ]
        }
      ]
    },
    {
      "cell_type": "code",
      "source": [
        "# Search\n",
        "\n",
        "print (age)"
      ],
      "metadata": {
        "colab": {
          "base_uri": "https://localhost:8080/"
        },
        "id": "TRE4BTcBZGEb",
        "outputId": "c843bd7c-96fc-48a4-9bb7-9b059b0533b1"
      },
      "execution_count": 28,
      "outputs": [
        {
          "output_type": "stream",
          "name": "stdout",
          "text": [
            "(25, 18, 21)\n"
          ]
        }
      ]
    },
    {
      "cell_type": "code",
      "source": [
        "21 in age"
      ],
      "metadata": {
        "colab": {
          "base_uri": "https://localhost:8080/"
        },
        "id": "qZrwMuQ5ZNjj",
        "outputId": "5698e93e-fc15-4bea-c2a5-234cf8e62180"
      },
      "execution_count": 29,
      "outputs": [
        {
          "output_type": "execute_result",
          "data": {
            "text/plain": [
              "True"
            ]
          },
          "metadata": {},
          "execution_count": 29
        }
      ]
    },
    {
      "cell_type": "code",
      "source": [
        "age.index(21)"
      ],
      "metadata": {
        "colab": {
          "base_uri": "https://localhost:8080/"
        },
        "id": "Xor4glwBZYbT",
        "outputId": "77eb1cb9-0361-4e6f-c9dd-977b22543622"
      },
      "execution_count": 30,
      "outputs": [
        {
          "output_type": "execute_result",
          "data": {
            "text/plain": [
              "2"
            ]
          },
          "metadata": {},
          "execution_count": 30
        }
      ]
    },
    {
      "cell_type": "code",
      "source": [
        "age.index(25)"
      ],
      "metadata": {
        "colab": {
          "base_uri": "https://localhost:8080/"
        },
        "id": "exUe9vL0ZdhC",
        "outputId": "501aaf6c-5631-4637-d693-e3799853aedf"
      },
      "execution_count": 31,
      "outputs": [
        {
          "output_type": "execute_result",
          "data": {
            "text/plain": [
              "0"
            ]
          },
          "metadata": {},
          "execution_count": 31
        }
      ]
    },
    {
      "cell_type": "code",
      "source": [
        "age.index(18)"
      ],
      "metadata": {
        "colab": {
          "base_uri": "https://localhost:8080/"
        },
        "id": "66kG6aKEZico",
        "outputId": "4089fbfe-8b4d-4aab-98fe-e9f6cd99194c"
      },
      "execution_count": 32,
      "outputs": [
        {
          "output_type": "execute_result",
          "data": {
            "text/plain": [
              "1"
            ]
          },
          "metadata": {},
          "execution_count": 32
        }
      ]
    },
    {
      "cell_type": "code",
      "source": [
        "# Slice\n",
        "\n",
        "age = (25, 18, 25, 40, 50, 45)\n",
        "print (age)"
      ],
      "metadata": {
        "colab": {
          "base_uri": "https://localhost:8080/"
        },
        "id": "hxvOelCkZpUw",
        "outputId": "f637ee52-e9d4-4296-fe27-8aa745908b32"
      },
      "execution_count": 33,
      "outputs": [
        {
          "output_type": "stream",
          "name": "stdout",
          "text": [
            "(25, 18, 25, 40, 50, 45)\n"
          ]
        }
      ]
    },
    {
      "cell_type": "code",
      "source": [
        "print (age [1:4])"
      ],
      "metadata": {
        "colab": {
          "base_uri": "https://localhost:8080/"
        },
        "id": "Qs5MwuHWZ1Jy",
        "outputId": "193dbbd4-7225-4061-a251-13118ad2e9e5"
      },
      "execution_count": 34,
      "outputs": [
        {
          "output_type": "stream",
          "name": "stdout",
          "text": [
            "(18, 25, 40)\n"
          ]
        }
      ]
    },
    {
      "cell_type": "markdown",
      "source": [
        "## **Dictionaries**\n",
        "\n",
        "### **Dictionary Operations:**\n",
        "\n",
        "1. Create\n",
        "2. Initialize\n",
        "3. Add\n",
        "4. Remove\n",
        "5. Search"
      ],
      "metadata": {
        "id": "U_TsM6STZ-Ep"
      }
    },
    {
      "cell_type": "code",
      "source": [
        "# Create\n",
        "\n",
        "names = {}\n",
        "age = dict()\n",
        "print (age)"
      ],
      "metadata": {
        "colab": {
          "base_uri": "https://localhost:8080/"
        },
        "id": "VRvltCWSaX-w",
        "outputId": "5ce46afd-217f-4ce7-9ef6-10fd148dc264"
      },
      "execution_count": 35,
      "outputs": [
        {
          "output_type": "stream",
          "name": "stdout",
          "text": [
            "{}\n"
          ]
        }
      ]
    },
    {
      "cell_type": "code",
      "source": [
        "# Initialize\n",
        "\n",
        "age_list = [['a',10], ['b',20], ['c',30]]\n",
        "age = dict(age_list)\n",
        "print (age)"
      ],
      "metadata": {
        "colab": {
          "base_uri": "https://localhost:8080/"
        },
        "id": "UDctsuHKaoSo",
        "outputId": "b7c8d75c-aaa7-4c25-bde2-a185041c8797"
      },
      "execution_count": 36,
      "outputs": [
        {
          "output_type": "stream",
          "name": "stdout",
          "text": [
            "{'a': 10, 'b': 20, 'c': 30}\n"
          ]
        }
      ]
    },
    {
      "cell_type": "code",
      "source": [
        "age = {'a':10, 'b':20, 'c':30}\n",
        "print (age)"
      ],
      "metadata": {
        "colab": {
          "base_uri": "https://localhost:8080/"
        },
        "id": "8cHqLUd9a9I8",
        "outputId": "cab82c31-10a8-4131-96c3-cf4fcea75fb2"
      },
      "execution_count": 37,
      "outputs": [
        {
          "output_type": "stream",
          "name": "stdout",
          "text": [
            "{'a': 10, 'b': 20, 'c': 30}\n"
          ]
        }
      ]
    },
    {
      "cell_type": "code",
      "source": [
        "# Add\n",
        "\n",
        "age['d'] = 40\n",
        "print (age)"
      ],
      "metadata": {
        "colab": {
          "base_uri": "https://localhost:8080/"
        },
        "id": "L0mXHB4kbGTm",
        "outputId": "781cc81a-319c-47d5-8fc8-0b4769251ef8"
      },
      "execution_count": 40,
      "outputs": [
        {
          "output_type": "stream",
          "name": "stdout",
          "text": [
            "{'a': 10, 'b': 20, 'c': 30, 'd': 40}\n"
          ]
        }
      ]
    },
    {
      "cell_type": "code",
      "source": [
        "# Remove\n",
        "\n",
        "del age['a']\n",
        "print (age)"
      ],
      "metadata": {
        "colab": {
          "base_uri": "https://localhost:8080/"
        },
        "id": "zV3KfX9Pbe6R",
        "outputId": "b3450877-877b-49fe-a4f4-0d4b9a122fdf"
      },
      "execution_count": 41,
      "outputs": [
        {
          "output_type": "stream",
          "name": "stdout",
          "text": [
            "{'b': 20, 'c': 30, 'd': 40}\n"
          ]
        }
      ]
    },
    {
      "cell_type": "code",
      "source": [
        "# Search\n",
        "\n",
        "'b' in age"
      ],
      "metadata": {
        "colab": {
          "base_uri": "https://localhost:8080/"
        },
        "id": "mbeY7vR4btRJ",
        "outputId": "baa08b61-5797-43a3-8574-a229d6f8fed4"
      },
      "execution_count": 42,
      "outputs": [
        {
          "output_type": "execute_result",
          "data": {
            "text/plain": [
              "True"
            ]
          },
          "metadata": {},
          "execution_count": 42
        }
      ]
    },
    {
      "cell_type": "markdown",
      "source": [
        "## **Creating a Function**\n",
        "\n",
        "### **Parts of Function:**\n",
        "\n",
        "1. Name\n",
        "2. Parameters\n",
        "3. Return Statement"
      ],
      "metadata": {
        "id": "3om_vB3Sb2Q0"
      }
    },
    {
      "cell_type": "code",
      "source": [
        "# Function:\n",
        "\n",
        "def add_two_numbers(a, b):\n",
        "  print(\"Adding two numbers\")\n",
        "  return a + b"
      ],
      "metadata": {
        "id": "HnbhqyG6cmgD"
      },
      "execution_count": 43,
      "outputs": []
    },
    {
      "cell_type": "markdown",
      "source": [
        "### **Types of Function:**\n",
        "\n",
        "1. User Defined Function\n",
        "2. Built-in Defined Function"
      ],
      "metadata": {
        "id": "D5CzXeisc9sV"
      }
    },
    {
      "cell_type": "code",
      "source": [
        "# User-Defined Function:\n",
        "\n",
        "def find_max(nums):\n",
        "  result = nums[0]\n",
        "  for x in nums:\n",
        "    if x > result:\n",
        "      result = x\n",
        "  return result\n"
      ],
      "metadata": {
        "id": "dqJfrK7RdOKp"
      },
      "execution_count": 51,
      "outputs": []
    },
    {
      "cell_type": "code",
      "source": [
        "find_max([1, 2, 3, 4, 5])"
      ],
      "metadata": {
        "colab": {
          "base_uri": "https://localhost:8080/"
        },
        "id": "XU4QLCSrdlwl",
        "outputId": "12575f0f-78e1-4690-cf2e-9191dcbf47b6"
      },
      "execution_count": 52,
      "outputs": [
        {
          "output_type": "execute_result",
          "data": {
            "text/plain": [
              "5"
            ]
          },
          "metadata": {},
          "execution_count": 52
        }
      ]
    }
  ]
}