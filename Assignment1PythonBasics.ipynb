{
  "nbformat": 4,
  "nbformat_minor": 0,
  "metadata": {
    "colab": {
      "provenance": [],
      "authorship_tag": "ABX9TyN2w6N6rcc5MS89XT6SUtXF",
      "include_colab_link": true
    },
    "kernelspec": {
      "name": "python3",
      "display_name": "Python 3"
    },
    "language_info": {
      "name": "python"
    }
  },
  "cells": [
    {
      "cell_type": "markdown",
      "metadata": {
        "id": "view-in-github",
        "colab_type": "text"
      },
      "source": [
        "<a href=\"https://colab.research.google.com/github/WMinerva292/WMinerva292/blob/main/Assignment1PythonBasics.ipynb\" target=\"_parent\"><img src=\"https://colab.research.google.com/assets/colab-badge.svg\" alt=\"Open In Colab\"/></a>"
      ]
    },
    {
      "cell_type": "markdown",
      "source": [
        "# **ASSIGNMENT 1 - PYTHON BASICS**"
      ],
      "metadata": {
        "id": "qwZ8ifUUPUWt"
      }
    },
    {
      "cell_type": "markdown",
      "source": [
        "Q1. Using Python script as a calculator create the variables n, r, p, and assign them values 10, 5, and 100 respectively. Then evaluate the following expression in the Python console.\n",
        "\n",
        "A = p(1 + r/100)^n\n",
        "\n",
        "a. 100\n",
        "b. 162.89\n",
        "c. 189\n",
        "d. None of the above\n"
      ],
      "metadata": {
        "id": "ssWTPMKSPlNr"
      }
    },
    {
      "cell_type": "code",
      "source": [
        "n = 10\n",
        "r = 5\n",
        "p = 100\n",
        "A = p * (1 + r/100)**n\n",
        "print(A)"
      ],
      "metadata": {
        "colab": {
          "base_uri": "https://localhost:8080/"
        },
        "id": "OCae5RuDTKMU",
        "outputId": "bd87d2ee-939e-413c-edcb-ae1335595776"
      },
      "execution_count": null,
      "outputs": [
        {
          "output_type": "stream",
          "name": "stdout",
          "text": [
            "162.8894626777442\n"
          ]
        }
      ]
    },
    {
      "cell_type": "markdown",
      "source": [
        "Ans: b. 162.89"
      ],
      "metadata": {
        "id": "1TG7N060Ud8-"
      }
    },
    {
      "cell_type": "markdown",
      "source": [
        "Q2. In a given string format operation, how will you print the given string.\n",
        "A = 10\n",
        "B = 20\n",
        "Str = \"There are {} students in the class, with {} who play at least one sport.\"\n",
        "\n",
        "a. print(string.format(a,b))\n",
        "b. print(string+a+b)\n",
        "c. print(string.format(b,a))\n",
        "d. None of the above"
      ],
      "metadata": {
        "id": "qlUmYbkVUjyN"
      }
    },
    {
      "cell_type": "code",
      "source": [
        "A = 10\n",
        "B = 20\n",
        "Str = \"There are {} students in the class with {} who play at least one sport. \"\n",
        "print(Str.format(A,B))"
      ],
      "metadata": {
        "colab": {
          "base_uri": "https://localhost:8080/"
        },
        "id": "TbS8CM2XVhIY",
        "outputId": "b9283d50-4f6b-4c8f-ce23-149b543050ac"
      },
      "execution_count": null,
      "outputs": [
        {
          "output_type": "stream",
          "name": "stdout",
          "text": [
            "There are 10 students in the class with 20 who play at least one sport. \n"
          ]
        }
      ]
    },
    {
      "cell_type": "markdown",
      "source": [
        "Ans: d. None of the above"
      ],
      "metadata": {
        "id": "5EgGEszXWPzP"
      }
    },
    {
      "cell_type": "markdown",
      "source": [
        "Q3. In a given sample string, how do you print a double quoted string in between a regular string using the escape character?\n",
        "Sample output = It goes without saying, \"Time is Money\", and none can deny it.\n",
        "\n",
        "a. print(\"It goes without saying ,\\\"Time is Money\\\", and none can deny it.\")\n",
        "b. print(\"It goes without saying,\\Time is Money\\, and none can deny it.\")\n",
        "c. print(\"It goes without saying\" + \"Time is Money\" + \"and none can deny it.\")\n",
        "d. None of the above."
      ],
      "metadata": {
        "id": "RcDUuzuvWU4r"
      }
    },
    {
      "cell_type": "code",
      "source": [
        "print(\"It goes without saying, \\\"Time is Money\\\", and none can deny it.\")"
      ],
      "metadata": {
        "colab": {
          "base_uri": "https://localhost:8080/"
        },
        "id": "DSXoqGgIX73x",
        "outputId": "91dc7074-eb0d-4e75-d26e-39f8b33748d9"
      },
      "execution_count": null,
      "outputs": [
        {
          "output_type": "stream",
          "name": "stdout",
          "text": [
            "It goes without saying, \"Time is Money\", and none can deny it.\n"
          ]
        }
      ]
    },
    {
      "cell_type": "markdown",
      "source": [
        "Ans: a. print(\"It goes without saying ,\\\"Time is Money\\\", and none can deny it.\")"
      ],
      "metadata": {
        "id": "qYfs4mrSYm5H"
      }
    },
    {
      "cell_type": "markdown",
      "source": [
        "Q4. What will be the output of the following code?\n",
        "x = lambda a,b: a//b\n",
        "x(10,3)\n",
        "\n",
        "a. 3.3333333333\n",
        "b. 3\n",
        "c. 30\n",
        "d. 1000"
      ],
      "metadata": {
        "id": "1ZvqaYyoYzqC"
      }
    },
    {
      "cell_type": "code",
      "source": [
        "# lambda function for integer division\n",
        "x = lambda a, b: a // b\n",
        "x(10, 3)"
      ],
      "metadata": {
        "colab": {
          "base_uri": "https://localhost:8080/"
        },
        "id": "05bH5bYDZWcF",
        "outputId": "9f9ac0f0-bf34-4d49-db91-f3b73bdd2598"
      },
      "execution_count": null,
      "outputs": [
        {
          "output_type": "execute_result",
          "data": {
            "text/plain": [
              "3"
            ]
          },
          "metadata": {},
          "execution_count": 14
        }
      ]
    },
    {
      "cell_type": "markdown",
      "source": [
        "Ans: b. 3"
      ],
      "metadata": {
        "id": "rhUQMEfyaLMI"
      }
    },
    {
      "cell_type": "markdown",
      "source": [
        "Q5. What will be the output of the following code?\n",
        "A = 10\n",
        "B = 12\n",
        "print(\"Smaller\") if A==B\n",
        "else\n",
        "print(\"Greater\") if A < B\n",
        "else\n",
        "print(\"True\")\n",
        "\n",
        "a. True\n",
        "b. Smaller\n",
        "c. Greater\n",
        "d. None of the above"
      ],
      "metadata": {
        "id": "p_3Vi91naSYn"
      }
    },
    {
      "cell_type": "code",
      "source": [
        "A = 10\n",
        "B = 12\n",
        "print(\"Smaller\") if A == B else print(\"Greater\") if A < B else print(\"True\")"
      ],
      "metadata": {
        "colab": {
          "base_uri": "https://localhost:8080/"
        },
        "id": "-O8VP3RpbHQb",
        "outputId": "be409ff1-ed2b-45ba-96b1-982306e0e57a"
      },
      "execution_count": null,
      "outputs": [
        {
          "output_type": "stream",
          "name": "stdout",
          "text": [
            "Greater\n"
          ]
        }
      ]
    },
    {
      "cell_type": "markdown",
      "source": [
        "Ans: c. Greater"
      ],
      "metadata": {
        "id": "M7TJJJ9OcU8z"
      }
    },
    {
      "cell_type": "markdown",
      "source": [
        "Q6. What will be the output of the following code?\n",
        "\n",
        "import os\n",
        "import numpy as np\n",
        "my_list1 = [2, 7, 3, 5, 4, 6]\n",
        "print(my_list)\n",
        "arr_1 = numpy.array(my_list1, dtype = int)\n",
        "print(arr_1)\n",
        "\n",
        "a. [2 7 3 5 4 6\n",
        "b. TypeError\n",
        "c. NameError: name 'numpy' is not defined\n",
        "d. None of the above"
      ],
      "metadata": {
        "id": "92EUfRYFcdpI"
      }
    },
    {
      "cell_type": "code",
      "source": [
        "import os\n",
        "import numpy as np\n",
        "my_list1 = [2, 7, 3, 5, 4, 6]\n",
        "print(my_list1)\n",
        "arr_1 = numpy.array(my_list1, dtype=int)\n",
        "print(arr_1)"
      ],
      "metadata": {
        "colab": {
          "base_uri": "https://localhost:8080/",
          "height": 211
        },
        "id": "FzZs6YpD76JW",
        "outputId": "68ef1b4c-c9d6-442c-f38f-3fa98dbff843"
      },
      "execution_count": null,
      "outputs": [
        {
          "output_type": "stream",
          "name": "stdout",
          "text": [
            "[2, 7, 3, 5, 4, 6]\n"
          ]
        },
        {
          "output_type": "error",
          "ename": "NameError",
          "evalue": "name 'numpy' is not defined",
          "traceback": [
            "\u001b[0;31m---------------------------------------------------------------------------\u001b[0m",
            "\u001b[0;31mNameError\u001b[0m                                 Traceback (most recent call last)",
            "\u001b[0;32m<ipython-input-2-084c3b706c1e>\u001b[0m in \u001b[0;36m<cell line: 5>\u001b[0;34m()\u001b[0m\n\u001b[1;32m      3\u001b[0m \u001b[0mmy_list1\u001b[0m \u001b[0;34m=\u001b[0m \u001b[0;34m[\u001b[0m\u001b[0;36m2\u001b[0m\u001b[0;34m,\u001b[0m \u001b[0;36m7\u001b[0m\u001b[0;34m,\u001b[0m \u001b[0;36m3\u001b[0m\u001b[0;34m,\u001b[0m \u001b[0;36m5\u001b[0m\u001b[0;34m,\u001b[0m \u001b[0;36m4\u001b[0m\u001b[0;34m,\u001b[0m \u001b[0;36m6\u001b[0m\u001b[0;34m]\u001b[0m\u001b[0;34m\u001b[0m\u001b[0;34m\u001b[0m\u001b[0m\n\u001b[1;32m      4\u001b[0m \u001b[0mprint\u001b[0m\u001b[0;34m(\u001b[0m\u001b[0mmy_list1\u001b[0m\u001b[0;34m)\u001b[0m\u001b[0;34m\u001b[0m\u001b[0;34m\u001b[0m\u001b[0m\n\u001b[0;32m----> 5\u001b[0;31m \u001b[0marr_1\u001b[0m \u001b[0;34m=\u001b[0m \u001b[0mnumpy\u001b[0m\u001b[0;34m.\u001b[0m\u001b[0marray\u001b[0m\u001b[0;34m(\u001b[0m\u001b[0mmy_list1\u001b[0m\u001b[0;34m,\u001b[0m \u001b[0mdtype\u001b[0m\u001b[0;34m=\u001b[0m\u001b[0mint\u001b[0m\u001b[0;34m)\u001b[0m\u001b[0;34m\u001b[0m\u001b[0;34m\u001b[0m\u001b[0m\n\u001b[0m\u001b[1;32m      6\u001b[0m \u001b[0mprint\u001b[0m\u001b[0;34m(\u001b[0m\u001b[0marr_1\u001b[0m\u001b[0;34m)\u001b[0m\u001b[0;34m\u001b[0m\u001b[0;34m\u001b[0m\u001b[0m\n",
            "\u001b[0;31mNameError\u001b[0m: name 'numpy' is not defined"
          ]
        }
      ]
    },
    {
      "cell_type": "markdown",
      "source": [
        "Ans: c. NameError: name 'numpy' is not defined"
      ],
      "metadata": {
        "id": "xSoip2Ou8b0Y"
      }
    },
    {
      "cell_type": "code",
      "source": [
        "# Correction\n",
        "import os\n",
        "import numpy as np\n",
        "my_list1 = [2, 7, 3, 5, 4, 6]\n",
        "print(my_list1)\n",
        "arr_1 = np.array(my_list1, dtype=int)\n",
        "print(arr_1)"
      ],
      "metadata": {
        "colab": {
          "base_uri": "https://localhost:8080/"
        },
        "id": "GWaCL--O8jAL",
        "outputId": "1f3164aa-76b9-46c9-e614-7667a512923c"
      },
      "execution_count": null,
      "outputs": [
        {
          "output_type": "stream",
          "name": "stdout",
          "text": [
            "[2, 7, 3, 5, 4, 6]\n",
            "[2 7 3 5 4 6]\n"
          ]
        }
      ]
    },
    {
      "cell_type": "markdown",
      "source": [
        "Q7. Create a string called 'string' with the value as \"Machine Learning\". Which code(s) is/are appropriate to slice the substring \"Learn\"?\n",
        "\n",
        "a. string[slice(13, 8, 1)]\n",
        "b. string[slice(1, 8, 1)]\n",
        "c. string[8:14]\n",
        "d. string[slice(8, 13, 1)]"
      ],
      "metadata": {
        "id": "iJI_GYRR81hT"
      }
    },
    {
      "cell_type": "code",
      "source": [
        "# Creating string\n",
        "string = \"Machine Learning\"\n",
        "\n",
        "# Slicing to get \"Learn\"\n",
        "substring = string[slice(8, 13, 1)]\n",
        "print(substring)"
      ],
      "metadata": {
        "colab": {
          "base_uri": "https://localhost:8080/"
        },
        "id": "oJe6rT4c-QAg",
        "outputId": "df3a4e9c-93bc-47df-d514-8652de98f9b2"
      },
      "execution_count": null,
      "outputs": [
        {
          "output_type": "stream",
          "name": "stdout",
          "text": [
            "Learn\n"
          ]
        }
      ]
    },
    {
      "cell_type": "markdown",
      "source": [
        "Ans: d. string[slice(8, 13, 1)]"
      ],
      "metadata": {
        "id": "eYPEO9xG_ZwX"
      }
    },
    {
      "cell_type": "markdown",
      "source": [
        "Q8. Create a sequence of numbers from 10 to 25 and increment by 4. What is the index of the value 18?\n",
        "\n",
        "a. 3\n",
        "b. 2\n",
        "c. 0\n",
        "d. 1"
      ],
      "metadata": {
        "id": "ZGePNIPV_hcu"
      }
    },
    {
      "cell_type": "code",
      "source": [
        "# Creating a sequence from 10 to 25 incrementing by 4\n",
        "sequence = list(range(10, 25, 4))\n",
        "\n",
        "print(sequence)\n",
        "\n",
        "# Finding the index of the value 18 in the sequence\n",
        "index = sequence.index(18)\n",
        "\n",
        "print(index)"
      ],
      "metadata": {
        "colab": {
          "base_uri": "https://localhost:8080/"
        },
        "id": "nErXtCmW_5QB",
        "outputId": "a910d1ec-eb2a-4af9-932a-398b61608f28"
      },
      "execution_count": null,
      "outputs": [
        {
          "output_type": "stream",
          "name": "stdout",
          "text": [
            "[10, 14, 18, 22]\n",
            "2\n"
          ]
        }
      ]
    },
    {
      "cell_type": "markdown",
      "source": [
        "Ans: b. 2"
      ],
      "metadata": {
        "id": "p5TJ5FRLA0Od"
      }
    },
    {
      "cell_type": "markdown",
      "source": [
        "Q9. Which of the following is true with respect to the below codes?\n",
        "\n",
        "num1 = 5**4\n",
        "num2 = pow(5,4)\n",
        "print(num1,num2)\n",
        "\n",
        "a. num1 = num2\n",
        "b. num1 =/ num2\n",
        "c. num1 < num2\n",
        "d. num1 > num2"
      ],
      "metadata": {
        "id": "wxuww89BA5sS"
      }
    },
    {
      "cell_type": "code",
      "source": [
        "num1 = 5**4\n",
        "num2 = pow(5, 4)\n",
        "print(num1, num2)"
      ],
      "metadata": {
        "colab": {
          "base_uri": "https://localhost:8080/"
        },
        "id": "17SRzbEB_3GJ",
        "outputId": "94eed270-d6da-402a-db70-a0688a1d2f20"
      },
      "execution_count": null,
      "outputs": [
        {
          "output_type": "stream",
          "name": "stdout",
          "text": [
            "625 625\n"
          ]
        }
      ]
    },
    {
      "cell_type": "markdown",
      "source": [
        "Ans: a. num1 = num2"
      ],
      "metadata": {
        "id": "BqYMp7VuAKK6"
      }
    },
    {
      "cell_type": "markdown",
      "source": [
        "Q10. A Python NameError exception is raised when:\n",
        "\n",
        "a. Trying to access a variable which has not been defined.\n",
        "b. Trying to access a key in a dictionary that does not exist.\n",
        "c. Accessing a column with misspelled column name.\n",
        "d. Accessing the functiion from a module that has not been imported."
      ],
      "metadata": {
        "id": "EBrCCBA0ANrK"
      }
    },
    {
      "cell_type": "markdown",
      "source": [
        "Ans: a. Trying to access a variable which has not been defined."
      ],
      "metadata": {
        "id": "k3SzrqPLBSyh"
      }
    },
    {
      "cell_type": "markdown",
      "source": [
        "Q11. What type of exception will be raised for the code given below?\n",
        "\n",
        "x = \"string\"\n",
        "int(x)\n",
        "\n",
        "a. NameError\n",
        "b. KeyError\n",
        "c. ValueError\n",
        "d. AttributeError"
      ],
      "metadata": {
        "id": "TFzxehG1BcpU"
      }
    },
    {
      "cell_type": "code",
      "source": [
        "x = \"string\"\n",
        "int(x)"
      ],
      "metadata": {
        "colab": {
          "base_uri": "https://localhost:8080/",
          "height": 159
        },
        "id": "h2aaUilvB3ji",
        "outputId": "d03a950a-6330-43e3-a188-359eb7c6a00e"
      },
      "execution_count": null,
      "outputs": [
        {
          "output_type": "error",
          "ename": "ValueError",
          "evalue": "invalid literal for int() with base 10: 'string'",
          "traceback": [
            "\u001b[0;31m---------------------------------------------------------------------------\u001b[0m",
            "\u001b[0;31mValueError\u001b[0m                                Traceback (most recent call last)",
            "\u001b[0;32m<ipython-input-2-71a3c6915243>\u001b[0m in \u001b[0;36m<cell line: 2>\u001b[0;34m()\u001b[0m\n\u001b[1;32m      1\u001b[0m \u001b[0mx\u001b[0m \u001b[0;34m=\u001b[0m \u001b[0;34m\"string\"\u001b[0m\u001b[0;34m\u001b[0m\u001b[0;34m\u001b[0m\u001b[0m\n\u001b[0;32m----> 2\u001b[0;31m \u001b[0mint\u001b[0m\u001b[0;34m(\u001b[0m\u001b[0mx\u001b[0m\u001b[0;34m)\u001b[0m\u001b[0;34m\u001b[0m\u001b[0;34m\u001b[0m\u001b[0m\n\u001b[0m",
            "\u001b[0;31mValueError\u001b[0m: invalid literal for int() with base 10: 'string'"
          ]
        }
      ]
    },
    {
      "cell_type": "markdown",
      "source": [
        "Ans: c. ValueError"
      ],
      "metadata": {
        "id": "DBURxq1kB-4D"
      }
    },
    {
      "cell_type": "markdown",
      "source": [
        "Q12. A **FileNotFoundError** exception is raised by operating system errors when:\n",
        "\n",
        "a. Trying to create a file or directory which already exists.\n",
        "b. A file or directory is requested but does not exist in the working directory.\n",
        "c. Trying to run an operation without the adequate access rights.\n",
        "d. A directory operation, os.listdir() is requested on something which is not a directory."
      ],
      "metadata": {
        "id": "ontLIR-nCDAB"
      }
    },
    {
      "cell_type": "markdown",
      "source": [
        "Ans: b. A file or directory is requested but does not exist in the working directory."
      ],
      "metadata": {
        "id": "KxJtz-xEDUmN"
      }
    },
    {
      "cell_type": "markdown",
      "source": [
        "Q13. Consider a variable Z. The value of Z is \"ID-5632\". Data type of Z is:-\n",
        "\n",
        "a. Complex\n",
        "b. Character\n",
        "c. Integer\n",
        "d. Boolean"
      ],
      "metadata": {
        "id": "n2bq447RD3Wm"
      }
    },
    {
      "cell_type": "code",
      "source": [
        "Z = \"ID-5632\"\n",
        "type(Z)"
      ],
      "metadata": {
        "colab": {
          "base_uri": "https://localhost:8080/"
        },
        "id": "vwnJxylCEXrS",
        "outputId": "44443317-1d4b-4719-d462-11f4fbb7358f"
      },
      "execution_count": null,
      "outputs": [
        {
          "output_type": "execute_result",
          "data": {
            "text/plain": [
              "str"
            ]
          },
          "metadata": {},
          "execution_count": 4
        }
      ]
    },
    {
      "cell_type": "markdown",
      "source": [
        "Ans: b. Character"
      ],
      "metadata": {
        "id": "Xv8ar6IlEyii"
      }
    },
    {
      "cell_type": "markdown",
      "source": [
        "Q14. Which of the following variable(s) are character datatype?\n",
        "\n",
        "a. K = \"4\"\n",
        "b. J = \"Welcome\"\n",
        "c. L = \"?\"\n",
        "d. All of the above"
      ],
      "metadata": {
        "id": "YVF1-alhE2qG"
      }
    },
    {
      "cell_type": "code",
      "source": [
        "K = \"4\"\n",
        "J = \"Welcome\"\n",
        "L = \"?\"\n",
        "print(type(K))\n",
        "print(type(J))\n",
        "print(type(L))"
      ],
      "metadata": {
        "colab": {
          "base_uri": "https://localhost:8080/"
        },
        "id": "T5mbqjJZFUeg",
        "outputId": "b97ecb72-1a1a-4c8e-bd76-ac0a49559bda"
      },
      "execution_count": null,
      "outputs": [
        {
          "output_type": "stream",
          "name": "stdout",
          "text": [
            "<class 'str'>\n",
            "<class 'str'>\n",
            "<class 'str'>\n"
          ]
        }
      ]
    },
    {
      "cell_type": "markdown",
      "source": [
        "Ans: d. All of the above"
      ],
      "metadata": {
        "id": "jfpaDeN4Fbj_"
      }
    },
    {
      "cell_type": "markdown",
      "source": [
        "Q15. Choose the symbol/s that does not have the ability to convert any values to string?\n",
        "\n",
        "a. ()\n",
        "b. \"\"\n",
        "c. {}\n",
        "d. #"
      ],
      "metadata": {
        "id": "MDMHejt-Fhq-"
      }
    },
    {
      "cell_type": "code",
      "source": [
        "a = (123)\n",
        "b = \"welcome\"\n",
        "c = {\"name\": \"John\"}\n",
        "d = #\n",
        "print(type(b))\n",
        "print(type(c))\n",
        "print(type(d))"
      ],
      "metadata": {
        "colab": {
          "base_uri": "https://localhost:8080/",
          "height": 106
        },
        "id": "-NbdQIxLF2X4",
        "outputId": "653d0df7-756d-4171-f79e-949ba314c450"
      },
      "execution_count": null,
      "outputs": [
        {
          "output_type": "error",
          "ename": "SyntaxError",
          "evalue": "invalid syntax (<ipython-input-6-d929623251e8>, line 4)",
          "traceback": [
            "\u001b[0;36m  File \u001b[0;32m\"<ipython-input-6-d929623251e8>\"\u001b[0;36m, line \u001b[0;32m4\u001b[0m\n\u001b[0;31m    d = #\u001b[0m\n\u001b[0m        ^\u001b[0m\n\u001b[0;31mSyntaxError\u001b[0m\u001b[0;31m:\u001b[0m invalid syntax\n"
          ]
        }
      ]
    },
    {
      "cell_type": "code",
      "source": [
        "a = (123)\n",
        "b = \"welcome\"\n",
        "c = {\"name\": \"John\"}\n",
        "d = None #Assuming you want to assign None to d\n",
        "print(type(a))\n",
        "print(type(b))\n",
        "print(type(c))\n",
        "print(type(d))"
      ],
      "metadata": {
        "colab": {
          "base_uri": "https://localhost:8080/"
        },
        "id": "Hext9qQtGkRr",
        "outputId": "cb73a78f-945f-4357-9a78-ac9921dcb99d"
      },
      "execution_count": null,
      "outputs": [
        {
          "output_type": "stream",
          "name": "stdout",
          "text": [
            "<class 'int'>\n",
            "<class 'str'>\n",
            "<class 'dict'>\n",
            "<class 'NoneType'>\n"
          ]
        }
      ]
    },
    {
      "cell_type": "code",
      "source": [
        "a = \"(123)\"\n",
        "b = \"welcome\"\n",
        "c = ({\"name\": \"John\"})\n",
        "d = None #Assuming you want to assign None to d\n",
        "print(type(a))\n",
        "print(type(b))\n",
        "print(type(c))\n",
        "print(type(d))"
      ],
      "metadata": {
        "colab": {
          "base_uri": "https://localhost:8080/"
        },
        "id": "pYLDku6BHWHv",
        "outputId": "49d972c4-126c-4f27-be69-c818de129df0"
      },
      "execution_count": null,
      "outputs": [
        {
          "output_type": "stream",
          "name": "stdout",
          "text": [
            "<class 'str'>\n",
            "<class 'str'>\n",
            "<class 'dict'>\n",
            "<class 'NoneType'>\n"
          ]
        }
      ]
    },
    {
      "cell_type": "markdown",
      "source": [
        "Ans: d. #"
      ],
      "metadata": {
        "id": "kfNGB7ozH_-3"
      }
    },
    {
      "cell_type": "markdown",
      "source": [
        "Q16. Create a distionary 'Country' that maps the following countries to their capitals respectively:\n",
        "\n",
        "Country: State\n",
        "India: Delhi\n",
        "China: Beijing\n",
        "Japan: Tokyo\n",
        "Qatar: Doha\n",
        "France: Marseilles\n",
        "\n",
        "Find 2 commands to replace \"Marseilles\" with \"**Paris**\" is:"
      ],
      "metadata": {
        "id": "YMqWYih12vgg"
      }
    },
    {
      "cell_type": "code",
      "source": [
        "# Creating the dictionary \"Country\"\n",
        "Country = {\n",
        "    \"India\": \"Delhi\",\n",
        "    \"China\": \"Beijing\",\n",
        "    \"Japan\": \"Tokyo\",\n",
        "    \"Qatar\": \"Doha\",\n",
        "    \"France\": \"Marseilles\"\n",
        "}\n",
        "print (Country)\n",
        "\n",
        "# Replacing \"Marseilles\" with \"Paris\" (2 commands)\n",
        "# Command 1: Direct assignment\n",
        "Country[\"France\"] = \"Paris\"\n",
        "print (Country)\n",
        "\n",
        "#Command 2: Using update() method\n",
        "Country.update({\"France\": \"Paris\"})\n",
        "print (Country)"
      ],
      "metadata": {
        "colab": {
          "base_uri": "https://localhost:8080/"
        },
        "id": "Whb7ND4g39fh",
        "outputId": "e86cd6ff-5cd7-4663-f27b-eff99305cd8f"
      },
      "execution_count": 2,
      "outputs": [
        {
          "output_type": "stream",
          "name": "stdout",
          "text": [
            "{'India': 'Delhi', 'China': 'Beijing', 'Japan': 'Tokyo', 'Qatar': 'Doha', 'France': 'Marseilles'}\n",
            "{'India': 'Delhi', 'China': 'Beijing', 'Japan': 'Tokyo', 'Qatar': 'Doha', 'France': 'Paris'}\n",
            "{'India': 'Delhi', 'China': 'Beijing', 'Japan': 'Tokyo', 'Qatar': 'Doha', 'France': 'Paris'}\n"
          ]
        }
      ]
    },
    {
      "cell_type": "markdown",
      "source": [
        "Q17. Create the tuples given below\n",
        "tuple_1 = (1, 5, 6, 7, 8)\n",
        "tuple_2 = (8,9, 4)\n",
        "Identify which of the following code does not work on a tuple.\n",
        "\n",
        "a. sum(tuple_1)\n",
        "b. len(tuple_2)\n",
        "c. tuple_2 + tuple_1\n",
        "d. tuple_1[3] = 45"
      ],
      "metadata": {
        "id": "oTiqgeex5d5e"
      }
    },
    {
      "cell_type": "code",
      "source": [
        "tuple_1 = (1, 5, 6, 7, 8)\n",
        "tuple_2 = (8, 9, 4)\n",
        "\n",
        "# Code that doesn't work on a tuple:\n",
        "sum(tuple_1)"
      ],
      "metadata": {
        "colab": {
          "base_uri": "https://localhost:8080/"
        },
        "id": "Dzml9c5HHDJf",
        "outputId": "6f5b81db-a575-44af-dfc1-9efd3b1505a5"
      },
      "execution_count": 3,
      "outputs": [
        {
          "output_type": "execute_result",
          "data": {
            "text/plain": [
              "27"
            ]
          },
          "metadata": {},
          "execution_count": 3
        }
      ]
    },
    {
      "cell_type": "code",
      "source": [
        "tuple_1 = (1, 5, 6, 7, 8)\n",
        "tuple_2 = (8, 9, 4)\n",
        "\n",
        "# Code that doesn't work on a tuple:\n",
        "len(tuple_2)"
      ],
      "metadata": {
        "colab": {
          "base_uri": "https://localhost:8080/"
        },
        "id": "NfxyggKPHS6x",
        "outputId": "a3740ba9-0cd7-4a92-e776-40778d36466d"
      },
      "execution_count": 4,
      "outputs": [
        {
          "output_type": "execute_result",
          "data": {
            "text/plain": [
              "3"
            ]
          },
          "metadata": {},
          "execution_count": 4
        }
      ]
    },
    {
      "cell_type": "code",
      "source": [
        "tuple_1 = (1, 5, 6, 7, 8)\n",
        "tuple_2 = (8, 9, 4)\n",
        "\n",
        "# Code that doesn't work on a tuple:\n",
        "tuple_2 + tuple_1"
      ],
      "metadata": {
        "colab": {
          "base_uri": "https://localhost:8080/"
        },
        "id": "__yNlZdYHcDy",
        "outputId": "6d32a517-6d6c-4751-c7c2-d4f2afb9f8a7"
      },
      "execution_count": 5,
      "outputs": [
        {
          "output_type": "execute_result",
          "data": {
            "text/plain": [
              "(8, 9, 4, 1, 5, 6, 7, 8)"
            ]
          },
          "metadata": {},
          "execution_count": 5
        }
      ]
    },
    {
      "cell_type": "code",
      "source": [
        "tuple_1 = (1, 5, 6, 7, 8)\n",
        "tuple_2 = (8, 9, 4)\n",
        "\n",
        "# Code that doesn't work on a tuple:\n",
        "tuple_1[3] = 45"
      ],
      "metadata": {
        "colab": {
          "base_uri": "https://localhost:8080/",
          "height": 176
        },
        "id": "u2BzxNDGHlob",
        "outputId": "a9127572-aab0-45ee-cab3-a119f4330fac"
      },
      "execution_count": 6,
      "outputs": [
        {
          "output_type": "error",
          "ename": "TypeError",
          "evalue": "'tuple' object does not support item assignment",
          "traceback": [
            "\u001b[0;31m---------------------------------------------------------------------------\u001b[0m",
            "\u001b[0;31mTypeError\u001b[0m                                 Traceback (most recent call last)",
            "\u001b[0;32m<ipython-input-6-425caae9b18d>\u001b[0m in \u001b[0;36m<cell line: 5>\u001b[0;34m()\u001b[0m\n\u001b[1;32m      3\u001b[0m \u001b[0;34m\u001b[0m\u001b[0m\n\u001b[1;32m      4\u001b[0m \u001b[0;31m# Code that doesn't work on a tuple:\u001b[0m\u001b[0;34m\u001b[0m\u001b[0;34m\u001b[0m\u001b[0m\n\u001b[0;32m----> 5\u001b[0;31m \u001b[0mtuple_1\u001b[0m\u001b[0;34m[\u001b[0m\u001b[0;36m3\u001b[0m\u001b[0;34m]\u001b[0m \u001b[0;34m=\u001b[0m \u001b[0;36m45\u001b[0m\u001b[0;34m\u001b[0m\u001b[0;34m\u001b[0m\u001b[0m\n\u001b[0m",
            "\u001b[0;31mTypeError\u001b[0m: 'tuple' object does not support item assignment"
          ]
        }
      ]
    },
    {
      "cell_type": "markdown",
      "source": [
        "Ans: d. tuple_1[3] = 45"
      ],
      "metadata": {
        "id": "1zd5BfFiHpHB"
      }
    },
    {
      "cell_type": "markdown",
      "source": [
        "Q18. How many elements in the following data struture?\n",
        "S = {1, 2, 3, 4, 4, 4, 5, 6}"
      ],
      "metadata": {
        "id": "coF_mnpDIAv8"
      }
    },
    {
      "cell_type": "code",
      "source": [
        "S = {1, 2, 3, 4, 4, 4, 5, 6}\n",
        "# Elements in the above data structure:\n",
        "print(len(S))"
      ],
      "metadata": {
        "colab": {
          "base_uri": "https://localhost:8080/"
        },
        "id": "Odj5lEFUITOa",
        "outputId": "4f9b01c0-7661-435b-cf3d-6ffd2af2da41"
      },
      "execution_count": 7,
      "outputs": [
        {
          "output_type": "stream",
          "name": "stdout",
          "text": [
            "6\n"
          ]
        }
      ]
    },
    {
      "cell_type": "markdown",
      "source": [
        "Ans: There are 6(six) elements in the data structure S = {1, 2, 3, 4, 4, 4, 5, 6}. The sets removes the duplicates automatically."
      ],
      "metadata": {
        "id": "8TCjbGFHJMaB"
      }
    },
    {
      "cell_type": "markdown",
      "source": [
        "Q19. Write a function which finds all pythagorean triplets of triangles whose sides are no greater than a natural number N."
      ],
      "metadata": {
        "id": "VLrjDqVYJf_3"
      }
    },
    {
      "cell_type": "code",
      "source": [
        "# Function to find all pythagorean triplets of triangles\n",
        "# whose sides are not greater than a natural number N\n",
        "\n",
        "def find_pythagorean_triplets(N):\n",
        "    triplets = []\n",
        "    for a in range(1, N + 1):\n",
        "        for b in range(a, N + 1):\n",
        "            c = (a**2 + b**2)**0.5\n",
        "            if c.is_integer() and c <= N:\n",
        "                triplets.append((a, b, int(c)))\n",
        "    return triplets\n",
        "\n",
        "#Example\n",
        "N = 20\n",
        "print(find_pythagorean_triplets(N))"
      ],
      "metadata": {
        "colab": {
          "base_uri": "https://localhost:8080/"
        },
        "id": "dCsZSWkpJztC",
        "outputId": "03c78715-b7a2-4e3c-d56a-23cf3db2ecbf"
      },
      "execution_count": 9,
      "outputs": [
        {
          "output_type": "stream",
          "name": "stdout",
          "text": [
            "[(3, 4, 5), (5, 12, 13), (6, 8, 10), (8, 15, 17), (9, 12, 15), (12, 16, 20)]\n"
          ]
        }
      ]
    }
  ]
}