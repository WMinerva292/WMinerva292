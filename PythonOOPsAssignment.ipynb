{
  "nbformat": 4,
  "nbformat_minor": 0,
  "metadata": {
    "colab": {
      "provenance": [],
      "authorship_tag": "ABX9TyOyEfxgBlKl5Uu0evN421gs",
      "include_colab_link": true
    },
    "kernelspec": {
      "name": "python3",
      "display_name": "Python 3"
    },
    "language_info": {
      "name": "python"
    }
  },
  "cells": [
    {
      "cell_type": "markdown",
      "metadata": {
        "id": "view-in-github",
        "colab_type": "text"
      },
      "source": [
        "<a href=\"https://colab.research.google.com/github/WMinerva292/WMinerva292/blob/main/PythonOOPsAssignment.ipynb\" target=\"_parent\"><img src=\"https://colab.research.google.com/assets/colab-badge.svg\" alt=\"Open In Colab\"/></a>"
      ]
    },
    {
      "cell_type": "markdown",
      "source": [
        "# **Python OOPs Assignment**"
      ],
      "metadata": {
        "id": "QaoCx8L2XPOV"
      }
    },
    {
      "cell_type": "markdown",
      "source": [
        "Q1. Write a Python program to demonstrate multiple inheritance.\n",
        "1. Employee class has 3 data members EmployeeID, Gender (String), Salary and\n",
        "PerformanceRating(Out of 5) of type int. It has a get() function to get these details from\n",
        "the user.\n",
        "2. JoiningDetail class has a data member DateOfJoining of type Date and a function\n",
        "getDoJ to get the Date of joining of employees.\n",
        "3. Information Class uses the marks from Employee class and the DateOfJoining date\n",
        "from the JoiningDetail class to calculate the top 3 Employees based on their Ratings\n",
        "and then Display, using readData, all the details on these employees in Ascending\n",
        "order of their Date Of Joining.\n"
      ],
      "metadata": {
        "id": "n7BWAiUFZRR4"
      }
    },
    {
      "cell_type": "code",
      "execution_count": null,
      "metadata": {
        "id": "I4KHkeT7ZP-M"
      },
      "outputs": [],
      "source": [
        "from datetime import datetime\n",
        "\n",
        "class Employee:\n",
        "    def __init__(self):\n",
        "        self.EmployeeID = 0\n",
        "        self.Gender = \"\"\n",
        "        self.Salary = 0\n",
        "        self.PerformanceRating = 0\n",
        "\n",
        "    def get(self):\n",
        "        self.EmployeeID = int(input(\"Enter Employee ID: \"))\n",
        "        self.Gender = input(\"Enter Gender: \")\n",
        "        self.Salary = int(input(\"Enter Salary: \"))\n",
        "        self.PerformanceRating = int(input(\"Enter Performance Rating (out of 5): \"))"
      ]
    },
    {
      "cell_type": "code",
      "source": [
        "class JoiningDetail:\n",
        "    def __init__(self):\n",
        "        self.DateOfJoining = None\n",
        "\n",
        "    def getDoJ(self):\n",
        "        date_str = input(\"Enter Date of Joining (YYYY-MM-DD): \")\n",
        "        self.DateOfJoining = datetime.strptime(date_str, \"%Y-%m-%d\")"
      ],
      "metadata": {
        "id": "hj7K9KACZmw1"
      },
      "execution_count": null,
      "outputs": []
    },
    {
      "cell_type": "code",
      "source": [
        "class Information(Employee, JoiningDetail):\n",
        "    def __init__(self):\n",
        "        Employee.__init__(self)\n",
        "        JoiningDetail.__init__(self)\n",
        "\n",
        "    def readData(self, employees):\n",
        "        # Sort employees by PerformanceRating (Descending) and pick top 3\n",
        "        top_employees = sorted(employees, key=lambda e: e.PerformanceRating, reverse=True)[:3]\n",
        "        # Sort top 3 by DateOfJoining (Ascending)\n",
        "        top_employees.sort(key=lambda e: e.DateOfJoining)\n",
        "\n",
        "        print(\"\\nTop 3 Employees based on Performance Rating:\")\n",
        "        for emp in top_employees:\n",
        "            print(f\"Employee ID: {emp.EmployeeID}, Gender: {emp.Gender}, Salary: {emp.Salary}, \"\n",
        "                  f\"Performance Rating: {emp.PerformanceRating}, Date of Joining: {emp.DateOfJoining.date()}\")\n",
        "\n",
        "if __name__ == \"__main__\":\n",
        "    num_employees = int(input(\"Enter number of employees: \"))\n",
        "    employees = []\n",
        "\n",
        "    for _ in range(num_employees):\n",
        "        emp = Information()\n",
        "        emp.get()\n",
        "        emp.getDoJ()\n",
        "        employees.append(emp)\n",
        "\n",
        "    info = Information()\n",
        "    info.readData(employees)"
      ],
      "metadata": {
        "colab": {
          "base_uri": "https://localhost:8080/"
        },
        "id": "rlF9jPreZzqd",
        "outputId": "aea7c251-e674-4c99-f867-36a0a4bc79a4"
      },
      "execution_count": null,
      "outputs": [
        {
          "output_type": "stream",
          "name": "stdout",
          "text": [
            "Enter number of employees: 3\n",
            "Enter Employee ID: 1\n",
            "Enter Gender: Male\n",
            "Enter Salary: 100000\n",
            "Enter Performance Rating (out of 5): 4\n",
            "Enter Date of Joining (YYYY-MM-DD): 2022-05-20\n",
            "Enter Employee ID: 2\n",
            "Enter Gender: Female\n",
            "Enter Salary: 100000\n",
            "Enter Performance Rating (out of 5): 5\n",
            "Enter Date of Joining (YYYY-MM-DD): 2020-01-10\n",
            "Enter Employee ID: 3\n",
            "Enter Gender: Male\n",
            "Enter Salary: 110000\n",
            "Enter Performance Rating (out of 5): 5\n",
            "Enter Date of Joining (YYYY-MM-DD): 2019-02-20\n",
            "\n",
            "Top 3 Employees based on Performance Rating:\n",
            "Employee ID: 3, Gender: Male, Salary: 110000, Performance Rating: 5, Date of Joining: 2019-02-20\n",
            "Employee ID: 2, Gender: Female, Salary: 100000, Performance Rating: 5, Date of Joining: 2020-01-10\n",
            "Employee ID: 1, Gender: Male, Salary: 100000, Performance Rating: 4, Date of Joining: 2022-05-20\n"
          ]
        }
      ]
    },
    {
      "cell_type": "markdown",
      "source": [
        "Q.2 Write a Python program to demonstrate Polymorphism.\n",
        "1. Class Vehicle with a parameterized function Fare, that takes input value as fare and\n",
        "returns it to calling Objects.\n",
        "2. Create five separate variables Bus, Car, Train, Truck and Ship that call the Fare\n",
        "function.\n",
        "3. Use a third variable TotalFare to store the sum of fare for each Vehicle Type.\n",
        "4. Print the TotalFare."
      ],
      "metadata": {
        "id": "hrkTJ0mEa40p"
      }
    },
    {
      "cell_type": "code",
      "source": [
        "class Vehicle:\n",
        "    def Fare(self, fare):\n",
        "        return fare"
      ],
      "metadata": {
        "id": "O48H2m5ycH2F"
      },
      "execution_count": null,
      "outputs": []
    },
    {
      "cell_type": "code",
      "source": [
        "# Creating vehicle objects and calling Fare method\n",
        "bus = Vehicle()\n",
        "car = Vehicle()\n",
        "train = Vehicle()\n",
        "truck = Vehicle()\n",
        "ship = Vehicle()"
      ],
      "metadata": {
        "id": "JBPHdUVqcPYX"
      },
      "execution_count": null,
      "outputs": []
    },
    {
      "cell_type": "code",
      "source": [
        "# Taking fare input for each vehicle type\n",
        "bus_fare = bus.Fare(float(input(\"Enter Bus Fare: \")))\n",
        "car_fare = car.Fare(float(input(\"Enter Car Fare: \")))\n",
        "train_fare = train.Fare(float(input(\"Enter Train Fare: \")))\n",
        "truck_fare = truck.Fare(float(input(\"Enter Truck Fare: \")))\n",
        "ship_fare = ship.Fare(float(input(\"Enter Ship Fare: \")))"
      ],
      "metadata": {
        "colab": {
          "base_uri": "https://localhost:8080/"
        },
        "id": "rColjjpZcTmY",
        "outputId": "3afa5169-ea3e-4e54-d2fe-788ed856d4ee"
      },
      "execution_count": null,
      "outputs": [
        {
          "name": "stdout",
          "output_type": "stream",
          "text": [
            "Enter Bus Fare: 20\n",
            "Enter Car Fare: 1000\n",
            "Enter Train Fare: 250\n",
            "Enter Truck Fare: 500\n",
            "Enter Ship Fare: 10000\n"
          ]
        }
      ]
    },
    {
      "cell_type": "code",
      "source": [
        "# Calculating Total Fare\n",
        "total_fare = bus_fare + car_fare + train_fare + truck_fare + ship_fare"
      ],
      "metadata": {
        "id": "eN1KwgPicsMc"
      },
      "execution_count": null,
      "outputs": []
    },
    {
      "cell_type": "code",
      "source": [
        "# Display Total Fare\n",
        "print(f\"Total Fare for all vehicles: {total_fare}\")"
      ],
      "metadata": {
        "colab": {
          "base_uri": "https://localhost:8080/"
        },
        "id": "G0lCR48icw1y",
        "outputId": "ebb636d9-5a59-42b3-df07-2b71880094d8"
      },
      "execution_count": null,
      "outputs": [
        {
          "output_type": "stream",
          "name": "stdout",
          "text": [
            "Total Fare for all vehicles: 11770.0\n"
          ]
        }
      ]
    },
    {
      "cell_type": "markdown",
      "source": [
        "Q3. Consider an ongoing test cricket series. Following are the names of the players and their\n",
        "scores in the test1 and 2.\n",
        "\n",
        "Test Match 1 :\n",
        "\n",
        "Dhoni : 56 , Balaji : 94\n",
        "\n",
        "Test Match 2 :\n",
        "\n",
        "Balaji : 80 , Dravid : 105\n",
        "\n",
        "Calculate the highest number of runs scored by an individual cricketer in both of the matches.\n",
        "Create a python function Max_Score (M) that reads a dictionary M that recognizes the player\n",
        "with the highest total score. This function will return ( Top player , Total Score ) . You can\n",
        "consider the Top player as String who is the highest scorer and Top score as Integer .\n",
        "\n",
        "Input : Max_Score({‘test1’:{‘Dhoni’:56, ‘Balaji : 85}, ‘test2’:{‘Dhoni’ 87, ‘Balaji’’:200}})\n",
        "\n",
        "Output : (‘Balaji ‘ , 200)"
      ],
      "metadata": {
        "id": "ZjuEzWe_c8e2"
      }
    },
    {
      "cell_type": "code",
      "source": [
        "def Max_Score(M):\n",
        "    total_scores = {}\n",
        "\n",
        "    # Iterate through each test match and player scores\n",
        "    for match in M.values():\n",
        "        for player, score in match.items():\n",
        "            total_scores[player] = total_scores.get(player, 0) + score\n",
        "\n",
        "    # Find the player with the highest total score\n",
        "    top_player = max(total_scores, key=total_scores.get)\n",
        "\n",
        "    return (top_player, total_scores[top_player])"
      ],
      "metadata": {
        "id": "28D0HR24e8Ov"
      },
      "execution_count": null,
      "outputs": []
    },
    {
      "cell_type": "code",
      "source": [
        "# Example Input\n",
        "test_matches = {\n",
        "    'test1': {'Dhoni': 56, 'Balaji': 85},\n",
        "    'test2': {'Dhoni': 87, 'Balaji': 200}\n",
        "}"
      ],
      "metadata": {
        "id": "lx5QSVKHe-LO"
      },
      "execution_count": null,
      "outputs": []
    },
    {
      "cell_type": "code",
      "source": [
        "# Function Call\n",
        "print(Max_Score(test_matches))"
      ],
      "metadata": {
        "colab": {
          "base_uri": "https://localhost:8080/"
        },
        "id": "HMpthr9GfC2m",
        "outputId": "f473e26b-7d4f-40fb-95ec-0ae79987891a"
      },
      "execution_count": null,
      "outputs": [
        {
          "output_type": "stream",
          "name": "stdout",
          "text": [
            "('Balaji', 285)\n"
          ]
        }
      ]
    },
    {
      "cell_type": "markdown",
      "source": [
        "Q4. Create a simple Card game in which there are 8 cards which are randomly chosen from a\n",
        "deck. The first card is shown face up. The game asks the player to predict whether the next card\n",
        "in the selection will have a higher or lower value than the currently showing card.\n",
        "\n",
        "For example, say the card that’s shown is a 3. The player chooses “higher,” and the next card is\n",
        "shown. If that card has a higher value, the player is correct. In this example, if the player had\n",
        "chosen “lower,” they would have been incorrect. If the player guesses correctly, they get 20\n",
        "points. If they choose incorrectly, they lose 15 points. If the next card to be turned over has the\n",
        "same value as the previous card, the player is incorrect.\n"
      ],
      "metadata": {
        "id": "R3LjLMECgGHP"
      }
    },
    {
      "cell_type": "code",
      "source": [
        "import random"
      ],
      "metadata": {
        "id": "7449nzIpgPZ7"
      },
      "execution_count": null,
      "outputs": []
    },
    {
      "cell_type": "code",
      "source": [
        "def create_deck():\n",
        "    # Creates a standard deck of 52 cards (only values are needed for this game).\n",
        "    return [value for value in range(2, 15)] * 4  # Values 2-14 (2-10, J=11, Q=12, K=13, A=14)"
      ],
      "metadata": {
        "id": "etQlAxaLhf8F"
      },
      "execution_count": null,
      "outputs": []
    },
    {
      "cell_type": "code",
      "source": [
        "def play_game():\n",
        "    deck = create_deck()\n",
        "    random.shuffle(deck)\n",
        "    selected_cards = random.sample(deck, 8)  # Select 8 random cards from the deck\n",
        "\n",
        "    score = 0\n",
        "    current_card = selected_cards[0]\n",
        "    print(f\"Starting card: {current_card}\")\n",
        "\n",
        "    for i in range(1, len(selected_cards)):\n",
        "        next_card = selected_cards[i]\n",
        "        choice = input(\"Will the next card be higher or lower? (h/l): \").strip().lower()\n",
        "\n",
        "        if choice not in ('h', 'l'):\n",
        "            print(\"Invalid choice. Please enter 'h' for higher or 'l' for lower.\")\n",
        "            continue\n",
        "\n",
        "        print(f\"Next card: {next_card}\")\n",
        "\n",
        "        if (choice == 'h' and next_card > current_card) or (choice == 'l' and next_card < current_card):\n",
        "            print(\"Correct! +20 points\")\n",
        "            score += 20\n",
        "        else:\n",
        "            print(\"Incorrect! -15 points\")\n",
        "            score -= 15\n",
        "\n",
        "        current_card = next_card  # Update the current card\n",
        "\n",
        "    print(f\"Final Score: {score}\")\n"
      ],
      "metadata": {
        "id": "wgl4V1QWhkE2"
      },
      "execution_count": null,
      "outputs": []
    },
    {
      "cell_type": "code",
      "source": [
        "if __name__ == \"__main__\":\n",
        "    play_game()"
      ],
      "metadata": {
        "colab": {
          "base_uri": "https://localhost:8080/"
        },
        "id": "Gtj4KOjHhryU",
        "outputId": "3989c283-4991-4a74-c85b-e4d6c6039d9f"
      },
      "execution_count": null,
      "outputs": [
        {
          "output_type": "stream",
          "name": "stdout",
          "text": [
            "Starting card: 5\n",
            "Will the next card be higher or lower? (h/l): h\n",
            "Next card: 3\n",
            "Incorrect! -15 points\n",
            "Will the next card be higher or lower? (h/l): h\n",
            "Next card: 4\n",
            "Correct! +20 points\n",
            "Will the next card be higher or lower? (h/l): l\n",
            "Next card: 3\n",
            "Correct! +20 points\n",
            "Will the next card be higher or lower? (h/l): l\n",
            "Next card: 13\n",
            "Incorrect! -15 points\n",
            "Will the next card be higher or lower? (h/l): h\n",
            "Next card: 10\n",
            "Incorrect! -15 points\n",
            "Will the next card be higher or lower? (h/l): h\n",
            "Next card: 8\n",
            "Incorrect! -15 points\n",
            "Will the next card be higher or lower? (h/l): l\n",
            "Next card: 14\n",
            "Incorrect! -15 points\n",
            "Final Score: -35\n"
          ]
        }
      ]
    },
    {
      "cell_type": "markdown",
      "source": [
        "Q5. Create an empty dictionary called Car_0 . Then fill the dictionary with Keys : color , speed\n",
        ", X_position and Y_position.\n",
        "\n",
        "```\n",
        "car_0 = {'x_position': 10, 'y_position': 72, 'speed': 'medium'} .\n",
        "```\n",
        "\n",
        "a) If the speed is slow the coordinates of the X_pos get incremented by 2.\n",
        "\n",
        "b) If the speed is Medium the coordinates of the X_pos gets incremented by 9\n",
        "\n",
        "c) Now if the speed is Fast the coordinates of the X_pos gets incremented by 22.\n",
        "\n",
        "Print the modified dictionary"
      ],
      "metadata": {
        "id": "QTBh6vXHiuHw"
      }
    },
    {
      "cell_type": "code",
      "source": [
        "# Creating an empty dictionary\n",
        "car_0 = {}"
      ],
      "metadata": {
        "id": "g6ldFX4slHMw"
      },
      "execution_count": null,
      "outputs": []
    },
    {
      "cell_type": "code",
      "source": [
        "# Filling the dictionary with keys and values\n",
        "car_0['color'] = 'red'\n",
        "car_0['speed'] = 'medium'\n",
        "car_0['x_position'] = 10\n",
        "car_0['y_position'] = 72"
      ],
      "metadata": {
        "id": "7s1Urky1lJM4"
      },
      "execution_count": null,
      "outputs": []
    },
    {
      "cell_type": "code",
      "source": [
        "# Determine the increment based on speed\n",
        "if car_0['speed'] == 'slow':\n",
        "    x_increment = 2\n",
        "elif car_0['speed'] == 'medium':\n",
        "    x_increment = 9\n",
        "elif car_0['speed'] == 'fast':\n",
        "    x_increment = 22\n",
        "else:\n",
        "    x_increment = 0  # Default case if speed is not recognized"
      ],
      "metadata": {
        "id": "Vd1C_5fllOkR"
      },
      "execution_count": null,
      "outputs": []
    },
    {
      "cell_type": "code",
      "source": [
        "# Update x_position\n",
        "car_0['x_position'] += x_increment"
      ],
      "metadata": {
        "id": "Q3uXaWEylVMz"
      },
      "execution_count": null,
      "outputs": []
    },
    {
      "cell_type": "code",
      "source": [
        "# Print the modified dictionary\n",
        "print(car_0)"
      ],
      "metadata": {
        "colab": {
          "base_uri": "https://localhost:8080/"
        },
        "id": "BoPBuZgNlauV",
        "outputId": "69d0919d-efce-459b-c941-8f3d47b717bd"
      },
      "execution_count": null,
      "outputs": [
        {
          "output_type": "stream",
          "name": "stdout",
          "text": [
            "{'color': 'red', 'speed': 'medium', 'x_position': 19, 'y_position': 72}\n"
          ]
        }
      ]
    },
    {
      "cell_type": "markdown",
      "source": [
        "Q6. Show a basic implementation of abstraction in python using the abstract classes.\n",
        "1. Create an abstract class in python.\n",
        "2. Implement abstraction with the other classes and base class as abstract class."
      ],
      "metadata": {
        "id": "e5KZf9aJqkyy"
      }
    },
    {
      "cell_type": "code",
      "source": [
        "from abc import ABC, abstractmethod"
      ],
      "metadata": {
        "id": "CewunzISqulJ"
      },
      "execution_count": 1,
      "outputs": []
    },
    {
      "cell_type": "code",
      "source": [
        "# Step 1: Create an abstract class\n",
        "class Vehicle(ABC):\n",
        "\n",
        "    @abstractmethod\n",
        "    def start(self):\n",
        "        pass\n",
        "\n",
        "    @abstractmethod\n",
        "    def stop(self):\n",
        "        pass"
      ],
      "metadata": {
        "id": "nutsotelsDgE"
      },
      "execution_count": 2,
      "outputs": []
    },
    {
      "cell_type": "code",
      "source": [
        "# Step 2: Implement abstraction with concrete classes\n",
        "class Car(Vehicle):\n",
        "    def start(self):\n",
        "        print(\"Car is starting with ignition key.\")\n",
        "\n",
        "    def stop(self):\n",
        "        print(\"Car is stopping with brake pedal.\")\n",
        "\n",
        "class Bike(Vehicle):\n",
        "    def start(self):\n",
        "        print(\"Bike is starting with self-start button.\")\n",
        "\n",
        "    def stop(self):\n",
        "        print(\"Bike is stopping using disc brakes.\")"
      ],
      "metadata": {
        "id": "XQVrPjzqsL_9"
      },
      "execution_count": 3,
      "outputs": []
    },
    {
      "cell_type": "code",
      "source": [
        "# Creating objects of the concrete classes\n",
        "car = Car()\n",
        "bike = Bike()"
      ],
      "metadata": {
        "id": "zlMCUnnTsVec"
      },
      "execution_count": 4,
      "outputs": []
    },
    {
      "cell_type": "code",
      "source": [
        "# Calling methods\n",
        "car.start()\n",
        "car.stop()"
      ],
      "metadata": {
        "colab": {
          "base_uri": "https://localhost:8080/"
        },
        "id": "bYHB0pPisaYh",
        "outputId": "7b9437b6-b254-456a-c33e-01658cb3a5f6"
      },
      "execution_count": 5,
      "outputs": [
        {
          "output_type": "stream",
          "name": "stdout",
          "text": [
            "Car is starting with ignition key.\n",
            "Car is stopping with brake pedal.\n"
          ]
        }
      ]
    },
    {
      "cell_type": "code",
      "source": [
        "bike.start()\n",
        "bike.stop()"
      ],
      "metadata": {
        "colab": {
          "base_uri": "https://localhost:8080/"
        },
        "id": "vvN2ibOssghl",
        "outputId": "03a92bbd-56c3-4cfc-9749-9cb67ffbddd5"
      },
      "execution_count": 6,
      "outputs": [
        {
          "output_type": "stream",
          "name": "stdout",
          "text": [
            "Bike is starting with self-start button.\n",
            "Bike is stopping using disc brakes.\n"
          ]
        }
      ]
    },
    {
      "cell_type": "markdown",
      "source": [
        "Q7. Create a program in python to demonstrate Polymorphism.\n",
        "1. Make use of private and protected members using python name mangling techniques.\n"
      ],
      "metadata": {
        "id": "6qXQvckvxNVh"
      }
    },
    {
      "cell_type": "code",
      "source": [
        "# Demonstrating Polymorphism with Private and Protected Members\n",
        "\n",
        "class Animal:\n",
        "    def __init__(self, name, sound):\n",
        "        self._name = name  # Protected member\n",
        "        self.__sound = sound  # Private member\n",
        "\n",
        "    def make_sound(self):\n",
        "        return f\"{self._name} makes a {self.__sound} sound.\""
      ],
      "metadata": {
        "id": "d6Dyc3eMxO46"
      },
      "execution_count": 7,
      "outputs": []
    },
    {
      "cell_type": "code",
      "source": [
        "class Dog(Animal):\n",
        "    def __init__(self, name):\n",
        "        super().__init__(name, \"bark\")\n",
        "\n",
        "    def make_sound(self):\n",
        "        return f\"{self._name} barks loudly!\""
      ],
      "metadata": {
        "id": "vBycSJ1qxgIZ"
      },
      "execution_count": 8,
      "outputs": []
    },
    {
      "cell_type": "code",
      "source": [
        "class Cat(Animal):\n",
        "    def __init__(self, name):\n",
        "        super().__init__(name, \"meow\")\n",
        "\n",
        "    def make_sound(self):\n",
        "        return f\"{self._name} meows softly.\""
      ],
      "metadata": {
        "id": "qTPEDoySxoL7"
      },
      "execution_count": 9,
      "outputs": []
    },
    {
      "cell_type": "code",
      "source": [
        "# Demonstrating Polymorphism\n",
        "animals = [Dog(\"Buddy\"), Cat(\"Whiskers\")]\n",
        "for animal in animals:\n",
        "    print(animal.make_sound())"
      ],
      "metadata": {
        "colab": {
          "base_uri": "https://localhost:8080/"
        },
        "id": "9GZbH3c3xsyz",
        "outputId": "50cc0619-97f2-45f8-a79f-ee73c3057471"
      },
      "execution_count": 10,
      "outputs": [
        {
          "output_type": "stream",
          "name": "stdout",
          "text": [
            "Buddy barks loudly!\n",
            "Whiskers meows softly.\n"
          ]
        }
      ]
    },
    {
      "cell_type": "code",
      "source": [
        "# Accessing Protected Member\n",
        "print(f\"Accessing protected member: {animals[0]._name}\")"
      ],
      "metadata": {
        "colab": {
          "base_uri": "https://localhost:8080/"
        },
        "id": "E8_CiTgbx1UL",
        "outputId": "7028baa3-d64e-4393-edd9-e2a61dbbb1de"
      },
      "execution_count": 11,
      "outputs": [
        {
          "output_type": "stream",
          "name": "stdout",
          "text": [
            "Accessing protected member: Buddy\n"
          ]
        }
      ]
    },
    {
      "cell_type": "code",
      "source": [
        "# Accessing Private Member Using Name Mangling\n",
        "print(f\"Accessing private member using name mangling: {animals[0]._Animal__sound}\")"
      ],
      "metadata": {
        "colab": {
          "base_uri": "https://localhost:8080/"
        },
        "id": "2t8Cj4yux55V",
        "outputId": "ae6f4b28-d7fd-45a9-b251-f67cb78938f7"
      },
      "execution_count": 12,
      "outputs": [
        {
          "output_type": "stream",
          "name": "stdout",
          "text": [
            "Accessing private member using name mangling: bark\n"
          ]
        }
      ]
    },
    {
      "cell_type": "markdown",
      "source": [
        "Q8. Given a list of 50 natural numbers from 1-50. Create a function that will take every element\n",
        "from the list and return the square of each element. Use the python map and filter methods to\n",
        "implement the function on the given list.\n"
      ],
      "metadata": {
        "id": "WFuSJs_XyCKQ"
      }
    },
    {
      "cell_type": "code",
      "source": [
        "# List of natural numbers from 1 to 50\n",
        "numbers = list(range(1, 51))"
      ],
      "metadata": {
        "id": "hrK_mgds147A"
      },
      "execution_count": 14,
      "outputs": []
    },
    {
      "cell_type": "code",
      "source": [
        "# Function to square a number\n",
        "def square(num):\n",
        "    return num ** 2"
      ],
      "metadata": {
        "id": "fBqTfRbI1vo5"
      },
      "execution_count": 13,
      "outputs": []
    },
    {
      "cell_type": "code",
      "source": [
        "# Using map to apply square function to each element\n",
        "squared_numbers = list(map(square, numbers))"
      ],
      "metadata": {
        "id": "GCt9GcNR10cv"
      },
      "execution_count": 15,
      "outputs": []
    },
    {
      "cell_type": "code",
      "source": [
        "# Using filter to extract only even squared numbers\n",
        "even_squared_numbers = list(filter(lambda x: x % 2 == 0, squared_numbers))"
      ],
      "metadata": {
        "id": "sq_Dn1a32OCF"
      },
      "execution_count": 16,
      "outputs": []
    },
    {
      "cell_type": "code",
      "source": [
        "# Print results\n",
        "print(\"Squared Numbers:\", squared_numbers)\n",
        "print(\"Even Squared Numbers:\", even_squared_numbers)"
      ],
      "metadata": {
        "colab": {
          "base_uri": "https://localhost:8080/"
        },
        "id": "RiY-v93g2Sla",
        "outputId": "0715909f-642f-4441-9f9e-79dbfba48a37"
      },
      "execution_count": 17,
      "outputs": [
        {
          "output_type": "stream",
          "name": "stdout",
          "text": [
            "Squared Numbers: [1, 4, 9, 16, 25, 36, 49, 64, 81, 100, 121, 144, 169, 196, 225, 256, 289, 324, 361, 400, 441, 484, 529, 576, 625, 676, 729, 784, 841, 900, 961, 1024, 1089, 1156, 1225, 1296, 1369, 1444, 1521, 1600, 1681, 1764, 1849, 1936, 2025, 2116, 2209, 2304, 2401, 2500]\n",
            "Even Squared Numbers: [4, 16, 36, 64, 100, 144, 196, 256, 324, 400, 484, 576, 676, 784, 900, 1024, 1156, 1296, 1444, 1600, 1764, 1936, 2116, 2304, 2500]\n"
          ]
        }
      ]
    },
    {
      "cell_type": "markdown",
      "source": [
        "Q9. Create a class, Triangle. Its init() method should take self, angle1, angle2, and angle3 as\n",
        "arguments.\n"
      ],
      "metadata": {
        "id": "OEkBqr0r4Ve2"
      }
    },
    {
      "cell_type": "code",
      "source": [
        "class Triangle:\n",
        "    def __init__(self, angle1, angle2, angle3):\n",
        "        self.angle1 = angle1\n",
        "        self.angle2 = angle2\n",
        "        self.angle3 = angle3\n",
        "\n",
        "    def is_valid(self):\n",
        "       # Check if the sum of angles is 180° (valid triangle condition)\n",
        "        return self.angle1 + self.angle2 + self.angle3 == 180\n",
        "\n",
        "    def type_of_triangle(self):\n",
        "       # Determine the type of triangle based on its angles\n",
        "        if not self.is_valid():\n",
        "            return \"Not a valid triangle\"\n",
        "        if self.angle1 == 90 or self.angle2 == 90 or self.angle3 == 90:\n",
        "            return \"Right-angled triangle\"\n",
        "        elif self.angle1 < 90 and self.angle2 < 90 and self.angle3 < 90:\n",
        "            return \"Acute-angled triangle\"\n",
        "        else:\n",
        "            return \"Obtuse-angled triangle\"\n",
        "\n",
        "# Example usage\n",
        "triangle1 = Triangle(60, 60, 60)\n",
        "print(\"Triangle 1 is valid:\", triangle1.is_valid())  # True\n",
        "print(\"Triangle 1 type:\", triangle1.type_of_triangle())  # Equilateral (Acute)\n",
        "\n",
        "triangle2 = Triangle(90, 45, 45)\n",
        "print(\"Triangle 2 is valid:\", triangle2.is_valid())  # True\n",
        "print(\"Triangle 2 type:\", triangle2.type_of_triangle())  # Right-angled\n",
        "\n",
        "triangle3 = Triangle(120, 30, 30)\n",
        "print(\"Triangle 3 is valid:\", triangle3.is_valid())  # True\n",
        "print(\"Triangle 3 type:\", triangle3.type_of_triangle())  # Obtuse-angled\n"
      ],
      "metadata": {
        "colab": {
          "base_uri": "https://localhost:8080/"
        },
        "id": "DdSiY3B84vkV",
        "outputId": "e97abdfc-acdb-4faa-c83f-5eaa3f074422"
      },
      "execution_count": 21,
      "outputs": [
        {
          "output_type": "stream",
          "name": "stdout",
          "text": [
            "Triangle 1 is valid: True\n",
            "Triangle 1 type: Acute-angled triangle\n",
            "Triangle 2 is valid: True\n",
            "Triangle 2 type: Right-angled triangle\n",
            "Triangle 3 is valid: True\n",
            "Triangle 3 type: Obtuse-angled triangle\n"
          ]
        }
      ]
    },
    {
      "cell_type": "markdown",
      "source": [
        "Q10. Create a class variable named number_of_sides and set it equal to 3.\n"
      ],
      "metadata": {
        "id": "56zrW0JyCCpw"
      }
    },
    {
      "cell_type": "code",
      "source": [
        "class Triangle:\n",
        "    # Class variable shared by all instances\n",
        "    number_of_sides = 3\n",
        "\n",
        "    def __init__(self, angle1, angle2, angle3):\n",
        "        self.angle1 = angle1\n",
        "        self.angle2 = angle2\n",
        "        self.angle3 = angle3\n",
        "\n",
        "    def is_valid(self):\n",
        "     # Check if the sum of angles is 180° (valid triangle condition)\n",
        "        return self.angle1 + self.angle2 + self.angle3 == 180\n",
        "\n",
        "    def display_info(self):\n",
        "      # Display triangle information\n",
        "        print(f\"Triangle has {Triangle.number_of_sides} sides.\")\n",
        "        print(f\"Angles: {self.angle1}, {self.angle2}, {self.angle3}\")\n",
        "        print(f\"Valid Triangle: {self.is_valid()}\")\n",
        "\n",
        "# Creating an instance of Triangle\n",
        "triangle1 = Triangle(60, 60, 60)\n",
        "triangle1.display_info()\n",
        "\n",
        "# Accessing the class variable without an instance\n",
        "print(\"Number of sides (accessed through class):\", Triangle.number_of_sides)\n"
      ],
      "metadata": {
        "colab": {
          "base_uri": "https://localhost:8080/"
        },
        "id": "EETbjaI6CN6L",
        "outputId": "16a8f58c-2ecb-4514-e974-608d50fd049c"
      },
      "execution_count": 20,
      "outputs": [
        {
          "output_type": "stream",
          "name": "stdout",
          "text": [
            "Triangle has 3 sides.\n",
            "Angles: 60, 60, 60\n",
            "Valid Triangle: True\n",
            "Number of sides (accessed through class): 3\n"
          ]
        }
      ]
    },
    {
      "cell_type": "markdown",
      "source": [
        "Q11. Create a method named check_angles. The sum of a triangle's three angles should return\n",
        "True if the sum is equal to 180, and False otherwise. The method should print whether the\n",
        "angles belong to a triangle or not.\n",
        "\n",
        "11.1 Write methods to verify if the triangle is an acute triangle or obtuse triangle.\n",
        "\n",
        "11.2 Create an instance of the triangle class and call all the defined methods.\n",
        "\n",
        "11.3 Create three child classes of triangle class - isosceles_triangle, right_triangle and\n",
        "equilateral_triangle.\n",
        "\n",
        "11.4 Define methods which check for their properties"
      ],
      "metadata": {
        "id": "cQtR1zg1EZmy"
      }
    },
    {
      "cell_type": "code",
      "source": [
        "class Triangle:\n",
        "    number_of_sides = 3  # Class variable\n",
        "\n",
        "    def __init__(self, angle1, angle2, angle3):\n",
        "        self.angle1 = angle1\n",
        "        self.angle2 = angle2\n",
        "        self.angle3 = angle3\n",
        "\n",
        "    def check_angles(self):\n",
        "        # Checks if the sum of angles is 180° to determine if it's a valid triangle.\n",
        "        return self.angle1 + self.angle2 + self.angle3 == 180\n",
        "\n",
        "    def is_acute_triangle(self):\n",
        "        # Checks if all angles are less than 90° (Acute Triangle).\n",
        "        return all(angle < 90 for angle in [self.angle1, self.angle2, self.angle3])\n",
        "\n",
        "    def is_obtuse_triangle(self):\n",
        "        # Checks if one angle is greater than 90° (Obtuse Triangle).\n",
        "        return any(angle > 90 for angle in [self.angle1, self.angle2, self.angle3])\n",
        "\n",
        "    def display_info(self):\n",
        "        # Displays details about the triangle.\n",
        "        print(f\"Angles: {self.angle1}, {self.angle2}, {self.angle3}\")\n",
        "        print(f\"Valid Triangle: {self.check_angles()}\")\n",
        "        print(f\"Acute Triangle: {self.is_acute_triangle()}\")\n",
        "        print(f\"Obtuse Triangle: {self.is_obtuse_triangle()}\")\n",
        "        print(\"-\" * 40)"
      ],
      "metadata": {
        "id": "ZQQraAmHJ0B9"
      },
      "execution_count": 22,
      "outputs": []
    },
    {
      "cell_type": "code",
      "source": [
        "# Creating an instance of Triangle\n",
        "triangle1 = Triangle(60, 60, 60)\n",
        "triangle1.display_info()"
      ],
      "metadata": {
        "colab": {
          "base_uri": "https://localhost:8080/"
        },
        "id": "2Oa8XzPeKHIg",
        "outputId": "a3dc3279-360f-4c96-90e9-b4fa47275e16"
      },
      "execution_count": 26,
      "outputs": [
        {
          "output_type": "stream",
          "name": "stdout",
          "text": [
            "Angles: 60, 60, 60\n",
            "Valid Triangle: True\n",
            "Acute Triangle: True\n",
            "Obtuse Triangle: False\n",
            "----------------------------------------\n"
          ]
        }
      ]
    },
    {
      "cell_type": "code",
      "source": [
        "# Child Classes\n",
        "class IsoscelesTriangle(Triangle):\n",
        "    def is_isosceles(self):\n",
        "        # Checks if at least two angles are equal (Isosceles Triangle).\n",
        "        return self.angle1 == self.angle2 or self.angle1 == self.angle3 or self.angle2 == self.angle3\n",
        "\n",
        "\n",
        "class RightTriangle(Triangle):\n",
        "    def is_right_triangle(self):\n",
        "        # Checks if one of the angles is 90° (Right Triangle).\n",
        "        return 90 in [self.angle1, self.angle2, self.angle3]\n",
        "\n",
        "\n",
        "class EquilateralTriangle(Triangle):\n",
        "    def is_equilateral(self):\n",
        "        # Checks if all three angles are equal (Equilateral Triangle).\n",
        "        return self.angle1 == self.angle2 == self.angle3"
      ],
      "metadata": {
        "id": "T2b1VIJnQsCu"
      },
      "execution_count": 24,
      "outputs": []
    },
    {
      "cell_type": "code",
      "source": [
        "# Creating instances of child classes and checking properties\n",
        "iso_triangle = IsoscelesTriangle(70, 70, 40)\n",
        "right_triangle = RightTriangle(90, 45, 45)\n",
        "equilateral_triangle = EquilateralTriangle(60, 60, 60)\n",
        "\n",
        "print(f\"Isosceles Triangle: {iso_triangle.is_isosceles()}\")\n",
        "print(f\"Right Triangle: {right_triangle.is_right_triangle()}\")\n",
        "print(f\"Equilateral Triangle: {equilateral_triangle.is_equilateral()}\")\n"
      ],
      "metadata": {
        "colab": {
          "base_uri": "https://localhost:8080/"
        },
        "id": "mpFCV_zUEhcE",
        "outputId": "33889936-e5f0-4558-c581-6c5309989e4f"
      },
      "execution_count": 25,
      "outputs": [
        {
          "output_type": "stream",
          "name": "stdout",
          "text": [
            "Isosceles Triangle: True\n",
            "Right Triangle: True\n",
            "Equilateral Triangle: True\n"
          ]
        }
      ]
    },
    {
      "cell_type": "markdown",
      "source": [
        "Q12. Create a class isosceles_right_triangle which inherits from isosceles_triangle and\n",
        "right_triangle.\n",
        "\n",
        "12.1 Define methods which check for their properties"
      ],
      "metadata": {
        "id": "ODaQdwvmVG5P"
      }
    },
    {
      "cell_type": "code",
      "source": [
        "class Triangle:\n",
        "    number_of_sides = 3  # Class Variable\n",
        "\n",
        "    def __init__(self, angle1, angle2, angle3):\n",
        "        self.angle1 = angle1\n",
        "        self.angle2 = angle2\n",
        "        self.angle3 = angle3\n",
        "\n",
        "    def check_angles(self):\n",
        "        # Checks if the sum of angles is 180° to determine if it's a valid triangle.\n",
        "        return self.angle1 + self.angle2 + self.angle3 == 180\n",
        "\n",
        "    def display_info(self):\n",
        "        # Displays details about the triangle.\n",
        "        print(f\"Angles: {self.angle1}, {self.angle2}, {self.angle3}\")\n",
        "        print(f\"Valid Triangle: {self.check_angles()}\")\n",
        "        print(\"-\" * 40)"
      ],
      "metadata": {
        "id": "wrH3mHJiVQC6"
      },
      "execution_count": 27,
      "outputs": []
    },
    {
      "cell_type": "code",
      "source": [
        "class IsoscelesTriangle(Triangle):\n",
        "    def is_isosceles(self):\n",
        "        # Checks if at least two angles are equal (Isosceles Triangle).\n",
        "        return self.angle1 == self.angle2 or self.angle1 == self.angle3 or self.angle2 == self.angle3"
      ],
      "metadata": {
        "id": "H4xXM852VtAo"
      },
      "execution_count": 28,
      "outputs": []
    },
    {
      "cell_type": "code",
      "source": [
        "class RightTriangle(Triangle):\n",
        "    def is_right_triangle(self):\n",
        "        # Checks if one of the angles is 90° (Right Triangle).\n",
        "        return 90 in [self.angle1, self.angle2, self.angle3]"
      ],
      "metadata": {
        "id": "SkORSj0rVx3I"
      },
      "execution_count": 29,
      "outputs": []
    },
    {
      "cell_type": "code",
      "source": [
        "# Multiple Inheritance: Isosceles + Right Triangle\n",
        "class IsoscelesRightTriangle(IsoscelesTriangle, RightTriangle):\n",
        "    def is_isosceles_right_triangle(self):\n",
        "        # Checks if the triangle is both Isosceles and Right.\n",
        "        return self.is_isosceles() and self.is_right_triangle()"
      ],
      "metadata": {
        "id": "vo9LkjmiV6Q0"
      },
      "execution_count": 30,
      "outputs": []
    },
    {
      "cell_type": "code",
      "source": [
        "# Creating an instance of IsoscelesRightTriangle\n",
        "triangle = IsoscelesRightTriangle(90, 45, 45)"
      ],
      "metadata": {
        "id": "cGFBRQmNV_mi"
      },
      "execution_count": 31,
      "outputs": []
    },
    {
      "cell_type": "code",
      "source": [
        "# Checking Properties\n",
        "triangle.display_info()\n",
        "print(f\"Isosceles Triangle: {triangle.is_isosceles()}\")\n",
        "print(f\"Right Triangle: {triangle.is_right_triangle()}\")\n",
        "print(f\"Isosceles Right Triangle: {triangle.is_isosceles_right_triangle()}\")"
      ],
      "metadata": {
        "colab": {
          "base_uri": "https://localhost:8080/"
        },
        "id": "HghvZ3f0WEX3",
        "outputId": "50eb8f34-49f4-45e0-bb8c-158484dce45b"
      },
      "execution_count": 32,
      "outputs": [
        {
          "output_type": "stream",
          "name": "stdout",
          "text": [
            "Angles: 90, 45, 45\n",
            "Valid Triangle: True\n",
            "----------------------------------------\n",
            "Isosceles Triangle: True\n",
            "Right Triangle: True\n",
            "Isosceles Right Triangle: True\n"
          ]
        }
      ]
    }
  ]
}