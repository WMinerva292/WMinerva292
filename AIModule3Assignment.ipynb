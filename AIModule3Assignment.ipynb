{
  "nbformat": 4,
  "nbformat_minor": 0,
  "metadata": {
    "colab": {
      "provenance": [],
      "authorship_tag": "ABX9TyMI3OaCwbzNoQ0dzhrqRnYR",
      "include_colab_link": true
    },
    "kernelspec": {
      "name": "python3",
      "display_name": "Python 3"
    },
    "language_info": {
      "name": "python"
    }
  },
  "cells": [
    {
      "cell_type": "markdown",
      "metadata": {
        "id": "view-in-github",
        "colab_type": "text"
      },
      "source": [
        "<a href=\"https://colab.research.google.com/github/WMinerva292/WMinerva292/blob/main/AIModule3Assignment.ipynb\" target=\"_parent\"><img src=\"https://colab.research.google.com/assets/colab-badge.svg\" alt=\"Open In Colab\"/></a>"
      ]
    },
    {
      "cell_type": "markdown",
      "source": [
        "# **Module 3: Introduction to NN Frameworks - Assignment**"
      ],
      "metadata": {
        "id": "uvAy-sQX3RDK"
      }
    },
    {
      "cell_type": "markdown",
      "source": [
        "###**Problem Statement:**\n",
        "\n",
        "This assignment challenges students to construct and train a neural network to\n",
        "accurately classify handwritten digits from the MNIST dataset. The goal is to\n",
        "navigate through the preprocessing of image data, select an appropriate neural\n",
        "network architecture, and apply optimization techniques to achieve high\n",
        "classification accuracy.\n",
        "\n",
        "###**Introduction:**\n",
        "\n",
        "The MNIST dataset is a large database of handwritten digits commonly used for\n",
        "training various image processing systems. The dataset contains 60,000 training\n",
        "images and 10,000 testing images, each of which is a 28x28 pixel grayscale\n",
        "image. The goal is to build a neural network model that can accurately classify\n",
        "these images into one of the ten digit classes (0 through 9).\n",
        "\n",
        "###**Objectives:**\n",
        "\n",
        "**Data Preprocessing:**\n",
        "\n",
        "Prepare the MNIST dataset for training and testing the neural network model. This includes normalization of image pixel values and converting the output labels to a one-hot encoded format.\n",
        "\n",
        "**Model Development:**\n",
        "\n",
        "Create a neural network model capable of classifying 28x28 pixel grayscale images of handwritten digits. The model should have an input layer, one or more hidden layers, and an output layer.\n",
        "\n",
        "**Training:**\n",
        "\n",
        "Train the neural network model using the preprocessed training data.\n",
        "Utilize categorical cross-entropy as the loss function, stochastic gradient descent as the optimizer, and track accuracy as a performance metric.\n",
        "Evaluation: Evaluate the performance of the trained model using the testing\n",
        "dataset, ensuring that the model generalizes well to unseen data.\n",
        "\n",
        "**Prediction:**\n",
        "\n",
        "Implement functionality to make predictions on single images or batches of images, returning the digit class with the highest probability.\n",
        "\n",
        "**Analysis:**\n",
        "\n",
        "Analyze the results, understand the model's performance, and explore\n",
        "ways to improve it if necessary.\n",
        "\n",
        "### **Challenges and Considerations:**\n",
        "\n",
        "**Class Imbalance:**\n",
        "\n",
        "Ensure that the dataset does not have a significant class imbalance that could negatively affect the model’s performance. If imbalance is\n",
        "present, strategies to mitigate its effects should be considered.\n",
        "\n",
        "**Model Complexity:**\n",
        "\n",
        "Choose an appropriate model complexity that is capable of learning from the data without overfitting. This may involve experimenting with different numbers of layers and units, as well as regularization techniques.\n",
        "\n",
        "**Activation Functions:**\n",
        "\n",
        "Use appropriate activation functions in the hidden layers (ReLU is commonly used for image data) and softmax activation in the output layer to convert logits to probabilities.\n",
        "\n",
        "**Evaluation Metrics:**\n",
        "\n",
        "Focus on accuracy as the primary evaluation metric, but also be open to exploring other metrics that could provide additional insights into the model’s performance.\n",
        "\n",
        "**Hyperparameter Tuning:**\n",
        "\n",
        "Experiment with different hyperparameters such as learning rate, batch size, and number of epochs to optimize the model’s performance.\n",
        "\n",
        "**Predictions and Interpretability:**\n",
        "\n",
        "Provide clear and interpretable predictions, ensuring that the output probabilities are well-calibrated and meaningful."
      ],
      "metadata": {
        "id": "2SVD7tBq3yst"
      }
    },
    {
      "cell_type": "code",
      "source": [
        "# Importing required Libraries\n",
        "import tensorflow as tf\n",
        "from tensorflow import keras\n",
        "from tensorflow.keras import layers\n",
        "import numpy as np\n",
        "import matplotlib.pyplot as plt"
      ],
      "metadata": {
        "id": "XkHgmz70l0rb"
      },
      "execution_count": 1,
      "outputs": []
    },
    {
      "cell_type": "code",
      "source": [
        "# Loading the MNIST dataset\n",
        "(x_train, y_train), (x_test, y_test) = keras.datasets.mnist.load_data()"
      ],
      "metadata": {
        "id": "vx6OgnHcnplb"
      },
      "execution_count": 5,
      "outputs": []
    },
    {
      "cell_type": "code",
      "source": [
        "# Data Preprocessing\n",
        "# Normalize pixel values to range [0, 1]\n",
        "x_train, x_test = x_train / 255.0, x_test / 255.0"
      ],
      "metadata": {
        "id": "i9jSWjCSn8f6"
      },
      "execution_count": 4,
      "outputs": []
    },
    {
      "cell_type": "code",
      "source": [
        "# Convert labels to one-hot encoding\n",
        "y_train = keras.utils.to_categorical(y_train, 10)\n",
        "y_test = keras.utils.to_categorical(y_test, 10)"
      ],
      "metadata": {
        "id": "wU3mIuXyoH7g"
      },
      "execution_count": 6,
      "outputs": []
    },
    {
      "cell_type": "code",
      "execution_count": 7,
      "metadata": {
        "colab": {
          "base_uri": "https://localhost:8080/",
          "height": 906
        },
        "id": "RVqGuZXY28N2",
        "outputId": "b568ef6a-b78f-4fa7-9122-c8d405cd870a"
      },
      "outputs": [
        {
          "output_type": "stream",
          "name": "stderr",
          "text": [
            "/usr/local/lib/python3.11/dist-packages/keras/src/layers/reshaping/flatten.py:37: UserWarning: Do not pass an `input_shape`/`input_dim` argument to a layer. When using Sequential models, prefer using an `Input(shape)` object as the first layer in the model instead.\n",
            "  super().__init__(**kwargs)\n"
          ]
        },
        {
          "output_type": "stream",
          "name": "stdout",
          "text": [
            "Epoch 1/10\n",
            "\u001b[1m1875/1875\u001b[0m \u001b[32m━━━━━━━━━━━━━━━━━━━━\u001b[0m\u001b[37m\u001b[0m \u001b[1m12s\u001b[0m 6ms/step - accuracy: 0.7068 - loss: 8.4814 - val_accuracy: 0.8561 - val_loss: 0.5381\n",
            "Epoch 2/10\n",
            "\u001b[1m1875/1875\u001b[0m \u001b[32m━━━━━━━━━━━━━━━━━━━━\u001b[0m\u001b[37m\u001b[0m \u001b[1m17s\u001b[0m 4ms/step - accuracy: 0.8319 - loss: 0.6200 - val_accuracy: 0.9096 - val_loss: 0.4336\n",
            "Epoch 3/10\n",
            "\u001b[1m1875/1875\u001b[0m \u001b[32m━━━━━━━━━━━━━━━━━━━━\u001b[0m\u001b[37m\u001b[0m \u001b[1m9s\u001b[0m 5ms/step - accuracy: 0.8697 - loss: 0.4898 - val_accuracy: 0.9238 - val_loss: 0.3211\n",
            "Epoch 4/10\n",
            "\u001b[1m1875/1875\u001b[0m \u001b[32m━━━━━━━━━━━━━━━━━━━━\u001b[0m\u001b[37m\u001b[0m \u001b[1m8s\u001b[0m 4ms/step - accuracy: 0.8845 - loss: 0.4334 - val_accuracy: 0.9248 - val_loss: 0.3025\n",
            "Epoch 5/10\n",
            "\u001b[1m1875/1875\u001b[0m \u001b[32m━━━━━━━━━━━━━━━━━━━━\u001b[0m\u001b[37m\u001b[0m \u001b[1m9s\u001b[0m 4ms/step - accuracy: 0.8963 - loss: 0.3959 - val_accuracy: 0.9378 - val_loss: 0.2828\n",
            "Epoch 6/10\n",
            "\u001b[1m1875/1875\u001b[0m \u001b[32m━━━━━━━━━━━━━━━━━━━━\u001b[0m\u001b[37m\u001b[0m \u001b[1m11s\u001b[0m 4ms/step - accuracy: 0.9042 - loss: 0.3681 - val_accuracy: 0.9430 - val_loss: 0.2513\n",
            "Epoch 7/10\n",
            "\u001b[1m1875/1875\u001b[0m \u001b[32m━━━━━━━━━━━━━━━━━━━━\u001b[0m\u001b[37m\u001b[0m \u001b[1m11s\u001b[0m 5ms/step - accuracy: 0.9090 - loss: 0.3529 - val_accuracy: 0.9389 - val_loss: 0.2802\n",
            "Epoch 8/10\n",
            "\u001b[1m1875/1875\u001b[0m \u001b[32m━━━━━━━━━━━━━━━━━━━━\u001b[0m\u001b[37m\u001b[0m \u001b[1m9s\u001b[0m 5ms/step - accuracy: 0.9140 - loss: 0.3393 - val_accuracy: 0.9346 - val_loss: 0.3202\n",
            "Epoch 9/10\n",
            "\u001b[1m1875/1875\u001b[0m \u001b[32m━━━━━━━━━━━━━━━━━━━━\u001b[0m\u001b[37m\u001b[0m \u001b[1m8s\u001b[0m 4ms/step - accuracy: 0.9192 - loss: 0.3234 - val_accuracy: 0.9382 - val_loss: 0.2865\n",
            "Epoch 10/10\n",
            "\u001b[1m1875/1875\u001b[0m \u001b[32m━━━━━━━━━━━━━━━━━━━━\u001b[0m\u001b[37m\u001b[0m \u001b[1m12s\u001b[0m 5ms/step - accuracy: 0.9199 - loss: 0.3237 - val_accuracy: 0.9422 - val_loss: 0.2852\n",
            "313/313 - 1s - 2ms/step - accuracy: 0.9422 - loss: 0.2852\n",
            "Test accuracy: 0.9422\n",
            "\u001b[1m1/1\u001b[0m \u001b[32m━━━━━━━━━━━━━━━━━━━━\u001b[0m\u001b[37m\u001b[0m \u001b[1m0s\u001b[0m 84ms/step\n"
          ]
        },
        {
          "output_type": "display_data",
          "data": {
            "text/plain": [
              "<Figure size 640x480 with 1 Axes>"
            ],
            "image/png": "[encoded data removed]"
          },
          "metadata": {}
        }
      ],
      "source": [
        "# Defining the Neural Network Model\n",
        "model = keras.Sequential([\n",
        "    layers.Flatten(input_shape=(28, 28)),\n",
        "    layers.Dense(128, activation='relu'), # Using ReLU activation\n",
        "    layers.Dropout(0.2), # Prevents overfitting\n",
        "    layers.Dense(10, activation='softmax') # Using Softmax activation for output layer\n",
        "])\n",
        "\n",
        "# Compiling the Model\n",
        "model.compile(optimizer='adam',\n",
        "              loss='categorical_crossentropy',\n",
        "              metrics=['accuracy'])\n",
        "\n",
        "# Training the Model\n",
        "history = model.fit(x_train, y_train, epochs=10, batch_size=32, validation_data=(x_test, y_test))\n",
        "\n",
        "# Evaluating the Model\n",
        "test_loss, test_acc = model.evaluate(x_test, y_test, verbose=2)\n",
        "print(f\"Test accuracy: {test_acc:.4f}\")\n",
        "\n",
        "# Making Predictions\n",
        "def predict_digit(image):\n",
        "    image = image / 255.0  # Normalize\n",
        "    image = np.expand_dims(image, axis=0)  # Expand dimensions\n",
        "    prediction = model.predict(image)\n",
        "    return np.argmax(prediction)\n",
        "\n",
        "# Display a sample prediction\n",
        "sample_image = x_test[0]\n",
        "predicted_label = predict_digit(sample_image)\n",
        "plt.imshow(sample_image, cmap='gray')\n",
        "plt.title(f\"Predicted Label: {predicted_label}\")\n",
        "plt.show()\n"
      ]
    }
  ]
}