{
  "nbformat": 4,
  "nbformat_minor": 0,
  "metadata": {
    "colab": {
      "provenance": [],
      "authorship_tag": "ABX9TyOLvYDypApRXNTOBWXjxmQ6",
      "include_colab_link": true
    },
    "kernelspec": {
      "name": "python3",
      "display_name": "Python 3"
    },
    "language_info": {
      "name": "python"
    }
  },
  "cells": [
    {
      "cell_type": "markdown",
      "metadata": {
        "id": "view-in-github",
        "colab_type": "text"
      },
      "source": [
        "<a href=\"https://colab.research.google.com/github/WMinerva292/WMinerva292/blob/main/Python_3_OOPs.ipynb\" target=\"_parent\"><img src=\"https://colab.research.google.com/assets/colab-badge.svg\" alt=\"Open In Colab\"/></a>"
      ]
    },
    {
      "cell_type": "markdown",
      "source": [
        "# **Python 3 - Introduction to OOPs**\n",
        "\n",
        "Object-Oriented Programming(OOPs)is a programming paradigm that organizes code by bundling related properties and behaviours into individual objects.\n",
        "\n",
        "**Four Basic Principles of OOPS**\n",
        "\n",
        "1. Class and Object\n",
        "2. Encapsulation\n",
        "3. Inheritance\n",
        "4. Polymorphism"
      ],
      "metadata": {
        "id": "Z5UFOV6nfQ3h"
      }
    },
    {
      "cell_type": "markdown",
      "source": [
        "# **Class and Object**"
      ],
      "metadata": {
        "id": "Go1izR_PgYs4"
      }
    },
    {
      "cell_type": "markdown",
      "source": [
        "# **Class**\n",
        "\n",
        "A blueprint for creating objects(a particular data structure), defining attributes (properties) and methods(behavors).\n",
        "A Class describe the structure of an object. It is made up of two things.\n",
        "\n",
        "1. **Fields** - A Field is simply a variable that is associated with a class which allows its object to store some data in it and can be accessed using the same object.\n",
        "\n",
        "2. **Method** - A Method is simply a function that is associated with an object of a class and can be called using that object.\n",
        "\n",
        "# **Object**\n",
        "\n",
        "Object is the basic unit of object-oriented programming.\n",
        "An oject represents a particular instance of a class.\n",
        "There can be more than one instance of a class.\n",
        "Each instance of an object can hold its own relevant data.\n",
        "Objects with similar properties and methods are grouped together to form a Class."
      ],
      "metadata": {
        "id": "_TwOHWF1kR9y"
      }
    },
    {
      "cell_type": "code",
      "execution_count": 1,
      "metadata": {
        "id": "f4ZzSYLPeyvB"
      },
      "outputs": [],
      "source": [
        "# Define a class called ClassName\n",
        "class ClassName:\n",
        "  pass # Add any attributes or method\n",
        "\n",
        "# Create an object of the class\n",
        "obj1 = ClassName()"
      ]
    },
    {
      "cell_type": "code",
      "source": [
        "\n",
        "# Defining a class\n",
        "class Car:           #defines a new class named Car\n",
        "  def __init__(self, make, model):  #__init__method is the constructor method that initialzes a new object.\n",
        "  #It is called automatically when an object is created. Here, it takes two parameters make and model to define specific details about a car.\n",
        "    self.make = make        # Assign the given values to the instance attribute make\n",
        "    self.model = model      # Assign the given values to the instance attribute model\n",
        "\n",
        "  def display_info(self):    # display_info method is a regular method that prints the car's details.\n",
        "    print(f\"This car is a {self.make} {self.model}.\")\n",
        "\n",
        "# Creating an object\n",
        "car1 = Car(\"Toyota\", \"Corolla\")  # creates an instance of the Car class, passing \"Toyota\" and \"Corolla\" as arguments to the __init__ method.\n",
        "car1.display_info()      # calls the display_info method, displaying information about the car."
      ],
      "metadata": {
        "colab": {
          "base_uri": "https://localhost:8080/"
        },
        "id": "NUmisaoDkpvj",
        "outputId": "1a570bd9-4e66-4f1f-95fd-0c486db5f051"
      },
      "execution_count": 4,
      "outputs": [
        {
          "output_type": "stream",
          "name": "stdout",
          "text": [
            "This car is a Toyota Corolla.\n"
          ]
        }
      ]
    },
    {
      "cell_type": "markdown",
      "source": [
        "# **Encapsulation**\n",
        "\n",
        "Encapsulation restricts direct access to some of an object's components, which is achieved by making attributes private(using an underscore prefix)."
      ],
      "metadata": {
        "id": "LNlV9Va9mB6u"
      }
    },
    {
      "cell_type": "code",
      "source": [
        "class BankAccount:\n",
        "  def __init__(self, balance=0):\n",
        "    self._balance = balance\n",
        "#Private attribute __balance is private(indicated by the double underscore prefix __), so it cannot be accessed directly outside the class.\n",
        "\n",
        "  def deposit(self, amount):   # deposit method adds an amount to the balance. It updates the __balance attribute, ensuring that only this method can change the balance.\n",
        "    self._balance += amount\n",
        "\n",
        "  def get_balance(self):  # get_balance method is a getter method that returns the balance. By using this, we can safely access the balance without exposing it directly.\n",
        "    return self._balance\n",
        "\n",
        "account = BankAccount(1000)\n",
        "account.deposit(500)   # Adds 500 to the balance using the deposit method\n",
        "print(account.get_balance())\n",
        "# account.get_balance() retrives and print the balance 500, showing controlled access to the private __balance attribute."
      ],
      "metadata": {
        "colab": {
          "base_uri": "https://localhost:8080/"
        },
        "id": "HcBvcez7mzFc",
        "outputId": "66c8d37e-7a6d-4f96-aea8-dbb57bc11f14"
      },
      "execution_count": 5,
      "outputs": [
        {
          "output_type": "stream",
          "name": "stdout",
          "text": [
            "1500\n"
          ]
        }
      ]
    },
    {
      "cell_type": "markdown",
      "source": [
        "# **Inheritance**\n",
        "\n",
        "Inheritance allows a class(child) to inherit attributes and method from another class(parents)."
      ],
      "metadata": {
        "id": "QoWn1wclnmMW"
      }
    },
    {
      "cell_type": "code",
      "source": [
        "class Animal:  # This is the parent class, which has a method sound that returns a general sound.\n",
        "  def sound(self):\n",
        "    return \"Animal sound\"\n",
        "\n",
        "class Dog(Animal):  # Dog is a child class that inherits from Animal. This means Dog has access to the sound method from Animal.\n",
        "  def sound(self):\n",
        "    return \"Woof\"\n",
        "\n",
        "dog = Dog()  #Creating an instance dog: When we create a Dog object, it has access to both the sound method\n",
        "print(dog.sound())"
      ],
      "metadata": {
        "colab": {
          "base_uri": "https://localhost:8080/"
        },
        "id": "UOSJqbPJnlxu",
        "outputId": "59cd3aee-b5fa-4452-cd4c-f48a9a82789b"
      },
      "execution_count": 6,
      "outputs": [
        {
          "output_type": "stream",
          "name": "stdout",
          "text": [
            "Woof\n"
          ]
        }
      ]
    },
    {
      "cell_type": "code",
      "source": [
        "class Animal:  # This is the parent class, which has a method sound that returns a general sound.\n",
        "  def sound(self):\n",
        "    return \"Animal sound\"\n",
        "\n",
        "class Dog(Animal):  # Dog is a child class that inherits from Animal. This means Dog has access to the sound method from Animal.\n",
        "  def bark(self):  # bark method: the Dog class also defines its own method, bark, which returns \"Woof!\".\n",
        "    return \"Woof\"\n",
        "\n",
        "dog = Dog()  # Creating an intance dog: When we create a Dog object, it has access to both the sound method (inherited from Animal) and its own bark method.\n",
        "print(dog.sound())  # dog.sound() calls the inherited sound method, which outputs \"Animal sound\"\n",
        "print(dog.bark())  # dog.bark() calls the bark method, specific to Dog, outputting \"Woof!\""
      ],
      "metadata": {
        "colab": {
          "base_uri": "https://localhost:8080/"
        },
        "id": "fOFSl37ZoaGo",
        "outputId": "8cd5f45f-1212-4710-b9d1-9742be81463c"
      },
      "execution_count": 10,
      "outputs": [
        {
          "output_type": "stream",
          "name": "stdout",
          "text": [
            "Animal sound\n",
            "Woof\n"
          ]
        }
      ]
    },
    {
      "cell_type": "markdown",
      "source": [
        "# **Polymorphism**\n",
        "\n",
        "Polymorphism allows methods to be used interchangeably among different classes, even if they operate differently."
      ],
      "metadata": {
        "id": "-3bTzYjppQQZ"
      }
    },
    {
      "cell_type": "code",
      "source": [
        "class Cat:\n",
        "  def sound(self):\n",
        "    return \"Meow!\"\n",
        "# Cat and Dog classes: Both have a method called sound, but they return differnt values (\"Meow!\" and \"Woof!\", respectively).\n",
        "class Dog:\n",
        "  def sound(self):\n",
        "    return \"Woof!\"\n",
        "\n",
        "# Using polymorphism (Polymorphism in Action): In the loop, we create a list containing an instance of Cat and an instance of Dog. We call sound on each object without needing to know which specific type it is.\n",
        "for animal in [Cat(), Dog()]:\n",
        "  print(animal.sound())"
      ],
      "metadata": {
        "colab": {
          "base_uri": "https://localhost:8080/"
        },
        "id": "IF_iVppKpnXr",
        "outputId": "2cf62171-ea9f-4fb4-a30a-4e2dcbe61fef"
      },
      "execution_count": 13,
      "outputs": [
        {
          "output_type": "stream",
          "name": "stdout",
          "text": [
            "Meow!\n",
            "Woof!\n"
          ]
        }
      ]
    },
    {
      "cell_type": "markdown",
      "source": [
        "Output: Even though both objects have the sound method, they respond differently based on their class. This demonstrates polymorphism, where we can treat Cat and Dog objects as the same type (both have sound), but each behaves according to its class."
      ],
      "metadata": {
        "id": "YNBbNzGL2bJT"
      }
    },
    {
      "cell_type": "markdown",
      "source": [
        "# **Abstraction**\n",
        "\n",
        "Abstraction is hiding complex implementation details and showing only the essential features of the object."
      ],
      "metadata": {
        "id": "AvYuLHNXqgA3"
      }
    },
    {
      "cell_type": "code",
      "source": [
        "from abc import ABC, abstractmethod\n",
        "\n",
        "class Shape(ABC):\n",
        "  @abstractmethod\n",
        "  def area(self):\n",
        "    pass\n",
        "\n",
        "class Square(Shape):\n",
        "  def __init__(self, side):\n",
        "    self.side = side\n",
        "\n",
        "  def area(self):\n",
        "    return self.side ** 2\n",
        "\n",
        "square = Square(4)\n",
        "print(square.area())"
      ],
      "metadata": {
        "colab": {
          "base_uri": "https://localhost:8080/"
        },
        "id": "k-E_E10ssARI",
        "outputId": "00cc7772-30d9-4022-b170-47ea0fa9c96a"
      },
      "execution_count": 15,
      "outputs": [
        {
          "output_type": "stream",
          "name": "stdout",
          "text": [
            "16\n"
          ]
        }
      ]
    },
    {
      "cell_type": "markdown",
      "source": [
        "Explanation:\n",
        "1. Shape class: Shape is an abstract class because it inherits from ABC. An abstract class can't be instantiated directly and may contain abstract methods.\n",
        "\n",
        "2. @abstractmethod decorator: The area method in Shape is decorated with @abstractmethod, meaning it must be implemented by any subclass of Shape.\n",
        "\n",
        "3. Square class: This is a subclass of Shape that defines its own __init__ method to initialize the side length and implement the area method.\n",
        "\n",
        "4. Instantiating Square and calling area(): We create an instance of Square with a side length of 4. When we call square.area(), it calculates and returns the area(16)."
      ],
      "metadata": {
        "id": "ApouXqu33S0I"
      }
    },
    {
      "cell_type": "markdown",
      "source": [
        "Object-Oriented Programming (OOP) is a paradigm focused on organizing code using objects, which represent real-world entities. It provides a structured approach to writing and organizing software, making it more modular, reusable, and easier to maintain. Here’s a deeper dive into OOP, covering additional aspects beyond the basic principles of classes, inheritance, encapsulation, polymorphism, and abstraction.\n",
        "\n",
        "\n",
        "---\n",
        "\n",
        "1. Advanced Encapsulation\n",
        "\n",
        "Encapsulation is not only about hiding data but also controlling access to it.\n",
        "\n",
        "Access Modifiers:\n",
        "\n",
        "Public: Accessible from anywhere in the program (e.g., self.attribute).\n",
        "\n",
        "Protected: Intended for internal use, marked by a single underscore (e.g., _attribute). It suggests that the attribute shouldn’t be accessed directly outside the class but isn’t fully restricted.\n",
        "\n",
        "Private: Strictly internal, marked by a double underscore (e.g., __attribute). Private members can only be accessed within the class.\n",
        "\n",
        "\n",
        "\n",
        "class Example:\n",
        "    def __init__(self):\n",
        "        self.public = \"I'm public\"\n",
        "        self._protected = \"I'm protected\"\n",
        "        self.__private = \"I'm private\"\n",
        "\n",
        "    def access_private(self):\n",
        "        return self.__private\n",
        "\n",
        "ex = Example()\n",
        "print(ex.public)         # Accessible\n",
        "print(ex._protected)      # Not recommended but accessible\n",
        "# print(ex.__private)     # Would raise an error\n",
        "print(ex.access_private()) # Accessed through a public method\n",
        "\n",
        "2. Inheritance Types\n",
        "\n",
        "Inheritance can be structured in various ways:\n",
        "\n",
        "Single Inheritance: A class inherits from only one parent class.\n",
        "\n",
        "Multiple Inheritance: A class can inherit from multiple parent classes. This can increase flexibility but may introduce complexity.\n",
        "\n",
        "Multilevel Inheritance: A class inherits from a child class, creating a chain.\n",
        "\n",
        "Hierarchical Inheritance: Multiple classes inherit from a single parent class.\n",
        "\n",
        "Hybrid Inheritance: A mix of two or more types of inheritance.\n",
        "\n",
        "\n",
        "# Example of Multiple Inheritance\n",
        "class Parent1:\n",
        "    def func1(self):\n",
        "        print(\"Function of Parent1\")\n",
        "\n",
        "class Parent2:\n",
        "    def func2(self):\n",
        "        print(\"Function of Parent2\")\n",
        "\n",
        "class Child(Parent1, Parent2):\n",
        "    def func3(self):\n",
        "        print(\"Function of Child\")\n",
        "\n",
        "obj = Child()\n",
        "obj.func1()  # Inherited from Parent1\n",
        "obj.func2()  # Inherited from Parent2\n",
        "obj.func3()  # Own function\n",
        "\n",
        "3. Polymorphism in Depth\n",
        "\n",
        "Polymorphism allows objects of different classes to respond to the same method call in ways appropriate to their class. Beyond simple method overriding, polymorphism can be applied using concepts like operator overloading and method overloading.\n",
        "\n",
        "Operator Overloading: Allowing operators like +, -, etc., to be used in a way that’s meaningful for objects.\n",
        "\n",
        "class Vector:\n",
        "    def __init__(self, x, y):\n",
        "        self.x = x\n",
        "        self.y = y\n",
        "\n",
        "    def __add__(self, other):\n",
        "        return Vector(self.x + other.x, self.y + other.y)\n",
        "\n",
        "    def __str__(self):\n",
        "        return f\"Vector({self.x}, {self.y})\"\n",
        "\n",
        "v1 = Vector(2, 3)\n",
        "v2 = Vector(1, 4)\n",
        "print(v1 + v2)  # Output: Vector(3, 7)\n",
        "\n",
        "Method Overloading (Achieved with default arguments or varying arguments):\n",
        "\n",
        "class Math:\n",
        "    def add(self, a, b=0, c=0):\n",
        "        return a + b + c\n",
        "\n",
        "math = Math()\n",
        "print(math.add(5, 10))     # Output: 15\n",
        "print(math.add(5, 10, 15)) # Output: 30\n",
        "\n",
        "\n",
        "4. Abstract Base Classes (ABC)\n",
        "\n",
        "Abstract classes serve as templates for subclasses. They can contain abstract methods (methods that are declared but not implemented) that must be overridden in any subclass.\n",
        "\n",
        "This ensures consistency in subclasses that inherit from the abstract base class.\n",
        "\n",
        "\n",
        "from abc import ABC, abstractmethod\n",
        "\n",
        "class Animal(ABC):\n",
        "    @abstractmethod\n",
        "    def make_sound(self):\n",
        "        pass\n",
        "\n",
        "class Dog(Animal):\n",
        "    def make_sound(self):\n",
        "        return \"Bark!\"\n",
        "\n",
        "class Cat(Animal):\n",
        "    def make_sound(self):\n",
        "        return \"Meow!\"\n",
        "\n",
        "animals = [Dog(), Cat()]\n",
        "for animal in animals:\n",
        "    print(animal.make_sound())\n",
        "\n",
        "5. Composition over Inheritance\n",
        "\n",
        "Composition is another technique for code reuse, where one class contains an instance of another class, allowing it to use its functionality.\n",
        "\n",
        "Unlike inheritance, where a class inherits all behaviors, composition lets you use specific behaviors of another class, which can make code more flexible and modular.\n",
        "\n",
        "\n",
        "class Engine:\n",
        "    def start(self):\n",
        "        return \"Engine started.\"\n",
        "\n",
        "class Car:\n",
        "    def __init__(self, model):\n",
        "        self.model = model\n",
        "        self.engine = Engine()  # Car \"has-a\" Engine\n",
        "\n",
        "    def start(self):\n",
        "        return f\"{self.model} {self.engine.start()}\"\n",
        "\n",
        "car = Car(\"Toyota\")\n",
        "print(car.start())  # Output: Toyota Engine started.\n",
        "\n",
        "6. Class Methods and Static Methods\n",
        "\n",
        "Instance methods: Defined using self, they operate on specific instances.\n",
        "\n",
        "Class methods: Use @classmethod decorator and cls as the first parameter. They work on the class level rather than instance level, allowing access to class variables.\n",
        "\n",
        "Static methods: Use @staticmethod decorator and have no self or cls parameter. They are independent methods inside the class that do not access any instance or class variables.\n",
        "\n",
        "\n",
        "class MyClass:\n",
        "    class_variable = \"Class Level\"\n",
        "\n",
        "    def __init__(self, instance_var):\n",
        "        self.instance_var = instance_var\n",
        "\n",
        "    @classmethod\n",
        "    def class_method(cls):\n",
        "        return cls.class_variable\n",
        "\n",
        "    @staticmethod\n",
        "    def static_method():\n",
        "        return \"I don't need instance or class data\"\n",
        "\n",
        "obj = MyClass(\"Instance Level\")\n",
        "print(obj.class_method())   # Output: Class Level\n",
        "print(MyClass.static_method())  # Output: I don't need instance or class data\n",
        "\n",
        "7. Duck Typing and Interfaces\n",
        "\n",
        "Duck Typing: In Python, objects are determined by their behaviors (methods and attributes) rather than their class. If an object has the required behavior, it’s considered compatible.\n",
        "\n",
        "Interfaces: Interfaces specify a contract that classes must follow, even though Python doesn’t enforce strict interfaces. Abstract Base Classes are often used to mimic interfaces.\n",
        "\n",
        "\n",
        "class Bird:\n",
        "    def fly(self):\n",
        "        return \"Flies in the sky\"\n",
        "\n",
        "class Airplane:\n",
        "    def fly(self):\n",
        "        return \"Flies with engines\"\n",
        "\n",
        "def lift_off(flyable):\n",
        "    print(flyable.fly())\n",
        "\n",
        "lift_off(Bird())       # Output: Flies in the sky\n",
        "lift_off(Airplane())   # Output: Flies with engines\n",
        "\n",
        "8. Inner Classes\n",
        "\n",
        "Inner classes are classes defined within other classes. They are useful when you want to logically group classes and control access to the inner class.\n",
        "\n",
        "\n",
        "class Outer:\n",
        "    class Inner:\n",
        "        def inner_method(self):\n",
        "            return \"Inner Method\"\n",
        "\n",
        "    def outer_method(self):\n",
        "        return self.Inner().inner_method()\n",
        "\n",
        "outer = Outer()\n",
        "print(outer.outer_method())  # Output: Inner Method\n",
        "\n",
        "9. Data Classes (Python 3.7+)\n",
        "\n",
        "Data classes simplify the process of creating classes with attributes by automatically generating special methods like __init__, __repr__, etc.\n",
        "\n",
        "They are useful for classes meant to store data rather than behaviors.\n",
        "\n",
        "\n",
        "from dataclasses import dataclass\n",
        "\n",
        "@dataclass\n",
        "class Point:\n",
        "    x: int\n",
        "    y: int\n",
        "\n",
        "p = Point(1, 2)\n",
        "print(p)  # Output: Point(x=1, y=2)\n",
        "\n",
        "Summary\n",
        "\n",
        "OOP helps create robust, modular, and reusable code. Advanced concepts like composition, abstract base classes, and polymorphism can make your code highly flexible. Understanding these ideas helps in designing scalable and maintainable software solutions.\n",
        "\n",
        "Let me know if you'd like further clarification on any of these advanced topics!\n",
        "\n"
      ],
      "metadata": {
        "id": "Ks4sbjGy53B7"
      }
    },
    {
      "cell_type": "markdown",
      "source": [],
      "metadata": {
        "id": "tkIaW7vZ5-zN"
      }
    }
  ]
}