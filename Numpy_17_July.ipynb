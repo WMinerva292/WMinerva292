{
  "nbformat": 4,
  "nbformat_minor": 0,
  "metadata": {
    "colab": {
      "provenance": [],
      "include_colab_link": true
    },
    "kernelspec": {
      "name": "python3",
      "display_name": "Python 3"
    },
    "language_info": {
      "name": "python"
    }
  },
  "cells": [
    {
      "cell_type": "markdown",
      "metadata": {
        "id": "view-in-github",
        "colab_type": "text"
      },
      "source": [
        "<a href=\"https://colab.research.google.com/github/WMinerva292/WMinerva292/blob/main/Numpy_17_July.ipynb\" target=\"_parent\"><img src=\"https://colab.research.google.com/assets/colab-badge.svg\" alt=\"Open In Colab\"/></a>"
      ]
    },
    {
      "cell_type": "code",
      "execution_count": null,
      "metadata": {
        "id": "n9zQQJuJkIT4"
      },
      "outputs": [],
      "source": [
        "import numpy as np"
      ]
    },
    {
      "cell_type": "markdown",
      "source": [
        "### Manual Creation of the arrays"
      ],
      "metadata": {
        "id": "SNnhBOkYkRKj"
      }
    },
    {
      "cell_type": "code",
      "source": [
        "list1 = [10, 20, 30, 40, 50, 60]"
      ],
      "metadata": {
        "id": "wSDNEccJlTko"
      },
      "execution_count": null,
      "outputs": []
    },
    {
      "cell_type": "code",
      "source": [
        "list1 * 3"
      ],
      "metadata": {
        "colab": {
          "base_uri": "https://localhost:8080/"
        },
        "id": "zLyCMGuTlpSw",
        "outputId": "b13ecaeb-1de0-4897-f61f-b2267a59d71f"
      },
      "execution_count": null,
      "outputs": [
        {
          "output_type": "execute_result",
          "data": {
            "text/plain": [
              "[10, 20, 30, 40, 50, 60, 10, 20, 30, 40, 50, 60, 10, 20, 30, 40, 50, 60]"
            ]
          },
          "metadata": {},
          "execution_count": 4
        }
      ]
    },
    {
      "cell_type": "code",
      "source": [
        "twice = []\n",
        "\n",
        "for value in list1:\n",
        "  twice.append(value * 2)"
      ],
      "metadata": {
        "id": "iEOoF1BoluuO"
      },
      "execution_count": null,
      "outputs": []
    },
    {
      "cell_type": "code",
      "source": [
        "twice"
      ],
      "metadata": {
        "colab": {
          "base_uri": "https://localhost:8080/"
        },
        "id": "OGDScBMtl7Tf",
        "outputId": "ff559909-aa29-4145-a329-762fd3285568"
      },
      "execution_count": null,
      "outputs": [
        {
          "output_type": "execute_result",
          "data": {
            "text/plain": [
              "[20, 40, 60, 80, 100, 120]"
            ]
          },
          "metadata": {},
          "execution_count": 7
        }
      ]
    },
    {
      "cell_type": "code",
      "source": [
        "arr1 = np.array(list1)"
      ],
      "metadata": {
        "id": "ERqh6dpNl9Mg"
      },
      "execution_count": null,
      "outputs": []
    },
    {
      "cell_type": "code",
      "source": [
        "print(arr1)"
      ],
      "metadata": {
        "colab": {
          "base_uri": "https://localhost:8080/"
        },
        "id": "0lI5-2vimS8n",
        "outputId": "88f91f48-661f-44a3-c0b3-2d3bbd4243f5"
      },
      "execution_count": null,
      "outputs": [
        {
          "output_type": "stream",
          "name": "stdout",
          "text": [
            "[10 20 30 40 50 60]\n"
          ]
        }
      ]
    },
    {
      "cell_type": "code",
      "source": [
        "arr1 * 2"
      ],
      "metadata": {
        "colab": {
          "base_uri": "https://localhost:8080/"
        },
        "id": "qi2bvvN1mv7C",
        "outputId": "0c90096f-863f-4602-a6c2-8fb3ce7e4301"
      },
      "execution_count": null,
      "outputs": [
        {
          "output_type": "execute_result",
          "data": {
            "text/plain": [
              "array([ 20,  40,  60,  80, 100, 120])"
            ]
          },
          "metadata": {},
          "execution_count": 14
        }
      ]
    },
    {
      "cell_type": "code",
      "source": [
        "set(arr1)"
      ],
      "metadata": {
        "colab": {
          "base_uri": "https://localhost:8080/"
        },
        "id": "skk-Ok7znYXj",
        "outputId": "b3f1663d-753c-4998-a91f-8f04d3f0b3c2"
      },
      "execution_count": null,
      "outputs": [
        {
          "output_type": "execute_result",
          "data": {
            "text/plain": [
              "{10, 20, 30, 40, 50, 60}"
            ]
          },
          "metadata": {},
          "execution_count": 18
        }
      ]
    },
    {
      "cell_type": "code",
      "source": [
        "list2 = [10, 20, 30, 40.2, 55, 87, 99, 'Python']"
      ],
      "metadata": {
        "id": "Yiu0Qd71nhkM"
      },
      "execution_count": null,
      "outputs": []
    },
    {
      "cell_type": "code",
      "source": [
        "np.array(list2)"
      ],
      "metadata": {
        "colab": {
          "base_uri": "https://localhost:8080/"
        },
        "id": "qBkKfEoVnt5L",
        "outputId": "4e31dd56-3cb4-41e5-e418-0510b39713d3"
      },
      "execution_count": null,
      "outputs": [
        {
          "output_type": "execute_result",
          "data": {
            "text/plain": [
              "array(['10', '20', '30', '40.2', '55', '87', '99', 'Python'], dtype='<U32')"
            ]
          },
          "metadata": {},
          "execution_count": 28
        }
      ]
    },
    {
      "cell_type": "markdown",
      "source": [
        "### Creation of the arrays using functions\n",
        "\n",
        "- np.arange\n",
        "- np.ones\n",
        "- np.zeros\n",
        "- np.eye\n",
        "- np.diag\n",
        "- np.random.random\n",
        "- np.random.randint\n",
        "- np.linspace"
      ],
      "metadata": {
        "id": "v7A0XFAzplN5"
      }
    },
    {
      "cell_type": "markdown",
      "source": [
        "#### np.arange"
      ],
      "metadata": {
        "id": "zbdbKyPFqBlk"
      }
    },
    {
      "cell_type": "code",
      "source": [
        "np.arange(100000)"
      ],
      "metadata": {
        "colab": {
          "base_uri": "https://localhost:8080/"
        },
        "id": "TaVc-FTbnze4",
        "outputId": "be598609-4029-42b0-ec09-bf9973c7fba4"
      },
      "execution_count": null,
      "outputs": [
        {
          "output_type": "execute_result",
          "data": {
            "text/plain": [
              "array([    0,     1,     2, ..., 99997, 99998, 99999])"
            ]
          },
          "metadata": {},
          "execution_count": 35
        }
      ]
    },
    {
      "cell_type": "code",
      "source": [
        "np.arange(500, 5001)  #(start, stop+1)"
      ],
      "metadata": {
        "colab": {
          "base_uri": "https://localhost:8080/"
        },
        "id": "timBGpI2qc4V",
        "outputId": "051d984a-4a47-4f5a-e84b-de8d069e96e4"
      },
      "execution_count": null,
      "outputs": [
        {
          "output_type": "execute_result",
          "data": {
            "text/plain": [
              "array([ 500,  501,  502, ..., 4998, 4999, 5000])"
            ]
          },
          "metadata": {},
          "execution_count": 33
        }
      ]
    },
    {
      "cell_type": "code",
      "source": [
        "np.arange(500, 5001, 10)  #(start, stop+1, step)"
      ],
      "metadata": {
        "colab": {
          "base_uri": "https://localhost:8080/"
        },
        "id": "4n5m7b0Iq1t-",
        "outputId": "2031c967-a577-4711-de98-27e157c44c88"
      },
      "execution_count": null,
      "outputs": [
        {
          "output_type": "execute_result",
          "data": {
            "text/plain": [
              "array([ 500,  510,  520,  530,  540,  550,  560,  570,  580,  590,  600,\n",
              "        610,  620,  630,  640,  650,  660,  670,  680,  690,  700,  710,\n",
              "        720,  730,  740,  750,  760,  770,  780,  790,  800,  810,  820,\n",
              "        830,  840,  850,  860,  870,  880,  890,  900,  910,  920,  930,\n",
              "        940,  950,  960,  970,  980,  990, 1000, 1010, 1020, 1030, 1040,\n",
              "       1050, 1060, 1070, 1080, 1090, 1100, 1110, 1120, 1130, 1140, 1150,\n",
              "       1160, 1170, 1180, 1190, 1200, 1210, 1220, 1230, 1240, 1250, 1260,\n",
              "       1270, 1280, 1290, 1300, 1310, 1320, 1330, 1340, 1350, 1360, 1370,\n",
              "       1380, 1390, 1400, 1410, 1420, 1430, 1440, 1450, 1460, 1470, 1480,\n",
              "       1490, 1500, 1510, 1520, 1530, 1540, 1550, 1560, 1570, 1580, 1590,\n",
              "       1600, 1610, 1620, 1630, 1640, 1650, 1660, 1670, 1680, 1690, 1700,\n",
              "       1710, 1720, 1730, 1740, 1750, 1760, 1770, 1780, 1790, 1800, 1810,\n",
              "       1820, 1830, 1840, 1850, 1860, 1870, 1880, 1890, 1900, 1910, 1920,\n",
              "       1930, 1940, 1950, 1960, 1970, 1980, 1990, 2000, 2010, 2020, 2030,\n",
              "       2040, 2050, 2060, 2070, 2080, 2090, 2100, 2110, 2120, 2130, 2140,\n",
              "       2150, 2160, 2170, 2180, 2190, 2200, 2210, 2220, 2230, 2240, 2250,\n",
              "       2260, 2270, 2280, 2290, 2300, 2310, 2320, 2330, 2340, 2350, 2360,\n",
              "       2370, 2380, 2390, 2400, 2410, 2420, 2430, 2440, 2450, 2460, 2470,\n",
              "       2480, 2490, 2500, 2510, 2520, 2530, 2540, 2550, 2560, 2570, 2580,\n",
              "       2590, 2600, 2610, 2620, 2630, 2640, 2650, 2660, 2670, 2680, 2690,\n",
              "       2700, 2710, 2720, 2730, 2740, 2750, 2760, 2770, 2780, 2790, 2800,\n",
              "       2810, 2820, 2830, 2840, 2850, 2860, 2870, 2880, 2890, 2900, 2910,\n",
              "       2920, 2930, 2940, 2950, 2960, 2970, 2980, 2990, 3000, 3010, 3020,\n",
              "       3030, 3040, 3050, 3060, 3070, 3080, 3090, 3100, 3110, 3120, 3130,\n",
              "       3140, 3150, 3160, 3170, 3180, 3190, 3200, 3210, 3220, 3230, 3240,\n",
              "       3250, 3260, 3270, 3280, 3290, 3300, 3310, 3320, 3330, 3340, 3350,\n",
              "       3360, 3370, 3380, 3390, 3400, 3410, 3420, 3430, 3440, 3450, 3460,\n",
              "       3470, 3480, 3490, 3500, 3510, 3520, 3530, 3540, 3550, 3560, 3570,\n",
              "       3580, 3590, 3600, 3610, 3620, 3630, 3640, 3650, 3660, 3670, 3680,\n",
              "       3690, 3700, 3710, 3720, 3730, 3740, 3750, 3760, 3770, 3780, 3790,\n",
              "       3800, 3810, 3820, 3830, 3840, 3850, 3860, 3870, 3880, 3890, 3900,\n",
              "       3910, 3920, 3930, 3940, 3950, 3960, 3970, 3980, 3990, 4000, 4010,\n",
              "       4020, 4030, 4040, 4050, 4060, 4070, 4080, 4090, 4100, 4110, 4120,\n",
              "       4130, 4140, 4150, 4160, 4170, 4180, 4190, 4200, 4210, 4220, 4230,\n",
              "       4240, 4250, 4260, 4270, 4280, 4290, 4300, 4310, 4320, 4330, 4340,\n",
              "       4350, 4360, 4370, 4380, 4390, 4400, 4410, 4420, 4430, 4440, 4450,\n",
              "       4460, 4470, 4480, 4490, 4500, 4510, 4520, 4530, 4540, 4550, 4560,\n",
              "       4570, 4580, 4590, 4600, 4610, 4620, 4630, 4640, 4650, 4660, 4670,\n",
              "       4680, 4690, 4700, 4710, 4720, 4730, 4740, 4750, 4760, 4770, 4780,\n",
              "       4790, 4800, 4810, 4820, 4830, 4840, 4850, 4860, 4870, 4880, 4890,\n",
              "       4900, 4910, 4920, 4930, 4940, 4950, 4960, 4970, 4980, 4990, 5000])"
            ]
          },
          "metadata": {},
          "execution_count": 36
        }
      ]
    },
    {
      "cell_type": "code",
      "source": [
        "np.arange(10.0, 51.0, 0.1)"
      ],
      "metadata": {
        "colab": {
          "base_uri": "https://localhost:8080/"
        },
        "id": "7yFRmYqDrWEM",
        "outputId": "9d1854c7-c3cf-4c34-ae8d-dcf661694c21"
      },
      "execution_count": null,
      "outputs": [
        {
          "output_type": "execute_result",
          "data": {
            "text/plain": [
              "array([10. , 10.1, 10.2, 10.3, 10.4, 10.5, 10.6, 10.7, 10.8, 10.9, 11. ,\n",
              "       11.1, 11.2, 11.3, 11.4, 11.5, 11.6, 11.7, 11.8, 11.9, 12. , 12.1,\n",
              "       12.2, 12.3, 12.4, 12.5, 12.6, 12.7, 12.8, 12.9, 13. , 13.1, 13.2,\n",
              "       13.3, 13.4, 13.5, 13.6, 13.7, 13.8, 13.9, 14. , 14.1, 14.2, 14.3,\n",
              "       14.4, 14.5, 14.6, 14.7, 14.8, 14.9, 15. , 15.1, 15.2, 15.3, 15.4,\n",
              "       15.5, 15.6, 15.7, 15.8, 15.9, 16. , 16.1, 16.2, 16.3, 16.4, 16.5,\n",
              "       16.6, 16.7, 16.8, 16.9, 17. , 17.1, 17.2, 17.3, 17.4, 17.5, 17.6,\n",
              "       17.7, 17.8, 17.9, 18. , 18.1, 18.2, 18.3, 18.4, 18.5, 18.6, 18.7,\n",
              "       18.8, 18.9, 19. , 19.1, 19.2, 19.3, 19.4, 19.5, 19.6, 19.7, 19.8,\n",
              "       19.9, 20. , 20.1, 20.2, 20.3, 20.4, 20.5, 20.6, 20.7, 20.8, 20.9,\n",
              "       21. , 21.1, 21.2, 21.3, 21.4, 21.5, 21.6, 21.7, 21.8, 21.9, 22. ,\n",
              "       22.1, 22.2, 22.3, 22.4, 22.5, 22.6, 22.7, 22.8, 22.9, 23. , 23.1,\n",
              "       23.2, 23.3, 23.4, 23.5, 23.6, 23.7, 23.8, 23.9, 24. , 24.1, 24.2,\n",
              "       24.3, 24.4, 24.5, 24.6, 24.7, 24.8, 24.9, 25. , 25.1, 25.2, 25.3,\n",
              "       25.4, 25.5, 25.6, 25.7, 25.8, 25.9, 26. , 26.1, 26.2, 26.3, 26.4,\n",
              "       26.5, 26.6, 26.7, 26.8, 26.9, 27. , 27.1, 27.2, 27.3, 27.4, 27.5,\n",
              "       27.6, 27.7, 27.8, 27.9, 28. , 28.1, 28.2, 28.3, 28.4, 28.5, 28.6,\n",
              "       28.7, 28.8, 28.9, 29. , 29.1, 29.2, 29.3, 29.4, 29.5, 29.6, 29.7,\n",
              "       29.8, 29.9, 30. , 30.1, 30.2, 30.3, 30.4, 30.5, 30.6, 30.7, 30.8,\n",
              "       30.9, 31. , 31.1, 31.2, 31.3, 31.4, 31.5, 31.6, 31.7, 31.8, 31.9,\n",
              "       32. , 32.1, 32.2, 32.3, 32.4, 32.5, 32.6, 32.7, 32.8, 32.9, 33. ,\n",
              "       33.1, 33.2, 33.3, 33.4, 33.5, 33.6, 33.7, 33.8, 33.9, 34. , 34.1,\n",
              "       34.2, 34.3, 34.4, 34.5, 34.6, 34.7, 34.8, 34.9, 35. , 35.1, 35.2,\n",
              "       35.3, 35.4, 35.5, 35.6, 35.7, 35.8, 35.9, 36. , 36.1, 36.2, 36.3,\n",
              "       36.4, 36.5, 36.6, 36.7, 36.8, 36.9, 37. , 37.1, 37.2, 37.3, 37.4,\n",
              "       37.5, 37.6, 37.7, 37.8, 37.9, 38. , 38.1, 38.2, 38.3, 38.4, 38.5,\n",
              "       38.6, 38.7, 38.8, 38.9, 39. , 39.1, 39.2, 39.3, 39.4, 39.5, 39.6,\n",
              "       39.7, 39.8, 39.9, 40. , 40.1, 40.2, 40.3, 40.4, 40.5, 40.6, 40.7,\n",
              "       40.8, 40.9, 41. , 41.1, 41.2, 41.3, 41.4, 41.5, 41.6, 41.7, 41.8,\n",
              "       41.9, 42. , 42.1, 42.2, 42.3, 42.4, 42.5, 42.6, 42.7, 42.8, 42.9,\n",
              "       43. , 43.1, 43.2, 43.3, 43.4, 43.5, 43.6, 43.7, 43.8, 43.9, 44. ,\n",
              "       44.1, 44.2, 44.3, 44.4, 44.5, 44.6, 44.7, 44.8, 44.9, 45. , 45.1,\n",
              "       45.2, 45.3, 45.4, 45.5, 45.6, 45.7, 45.8, 45.9, 46. , 46.1, 46.2,\n",
              "       46.3, 46.4, 46.5, 46.6, 46.7, 46.8, 46.9, 47. , 47.1, 47.2, 47.3,\n",
              "       47.4, 47.5, 47.6, 47.7, 47.8, 47.9, 48. , 48.1, 48.2, 48.3, 48.4,\n",
              "       48.5, 48.6, 48.7, 48.8, 48.9, 49. , 49.1, 49.2, 49.3, 49.4, 49.5,\n",
              "       49.6, 49.7, 49.8, 49.9, 50. , 50.1, 50.2, 50.3, 50.4, 50.5, 50.6,\n",
              "       50.7, 50.8, 50.9])"
            ]
          },
          "metadata": {},
          "execution_count": 40
        }
      ]
    },
    {
      "cell_type": "code",
      "source": [
        "np.arange(10, 51, 1.5)"
      ],
      "metadata": {
        "colab": {
          "base_uri": "https://localhost:8080/"
        },
        "id": "-FqF_YNjrwaX",
        "outputId": "05164f6b-db77-4c0e-8703-205cdfba7b82"
      },
      "execution_count": null,
      "outputs": [
        {
          "output_type": "execute_result",
          "data": {
            "text/plain": [
              "array([10. , 11.5, 13. , 14.5, 16. , 17.5, 19. , 20.5, 22. , 23.5, 25. ,\n",
              "       26.5, 28. , 29.5, 31. , 32.5, 34. , 35.5, 37. , 38.5, 40. , 41.5,\n",
              "       43. , 44.5, 46. , 47.5, 49. , 50.5])"
            ]
          },
          "metadata": {},
          "execution_count": 43
        }
      ]
    },
    {
      "cell_type": "markdown",
      "source": [
        "#### np.ones"
      ],
      "metadata": {
        "id": "wFuWU9MFsjb-"
      }
    },
    {
      "cell_type": "code",
      "source": [
        "np.ones(10)"
      ],
      "metadata": {
        "colab": {
          "base_uri": "https://localhost:8080/"
        },
        "id": "rI-BfX_dsPJ4",
        "outputId": "de1e237c-d97a-4516-b876-b439f1034664"
      },
      "execution_count": null,
      "outputs": [
        {
          "output_type": "execute_result",
          "data": {
            "text/plain": [
              "array([1., 1., 1., 1., 1., 1., 1., 1., 1., 1.])"
            ]
          },
          "metadata": {},
          "execution_count": 44
        }
      ]
    },
    {
      "cell_type": "code",
      "source": [
        "np.ones((5,4))"
      ],
      "metadata": {
        "colab": {
          "base_uri": "https://localhost:8080/"
        },
        "id": "f1Y-51znsnGr",
        "outputId": "c5c970d1-c60d-4840-a14a-a626576e43d9"
      },
      "execution_count": null,
      "outputs": [
        {
          "output_type": "execute_result",
          "data": {
            "text/plain": [
              "array([[1., 1., 1., 1.],\n",
              "       [1., 1., 1., 1.],\n",
              "       [1., 1., 1., 1.],\n",
              "       [1., 1., 1., 1.],\n",
              "       [1., 1., 1., 1.]])"
            ]
          },
          "metadata": {},
          "execution_count": 45
        }
      ]
    },
    {
      "cell_type": "code",
      "source": [
        "np.ones((5,4), dtype = 'int')"
      ],
      "metadata": {
        "colab": {
          "base_uri": "https://localhost:8080/"
        },
        "id": "Md1_zCKTvc60",
        "outputId": "7286b427-6c1a-466c-c930-f1557c4ad66f"
      },
      "execution_count": null,
      "outputs": [
        {
          "output_type": "execute_result",
          "data": {
            "text/plain": [
              "array([[1, 1, 1, 1],\n",
              "       [1, 1, 1, 1],\n",
              "       [1, 1, 1, 1],\n",
              "       [1, 1, 1, 1],\n",
              "       [1, 1, 1, 1]])"
            ]
          },
          "metadata": {},
          "execution_count": 50
        }
      ]
    },
    {
      "cell_type": "code",
      "source": [
        "np.ones((5,4)) * 10.5"
      ],
      "metadata": {
        "colab": {
          "base_uri": "https://localhost:8080/"
        },
        "id": "iHvMplRvtRX8",
        "outputId": "1115dfd7-2854-4ec6-c6cd-7783758d6bc9"
      },
      "execution_count": null,
      "outputs": [
        {
          "output_type": "execute_result",
          "data": {
            "text/plain": [
              "array([[10.5, 10.5, 10.5, 10.5],\n",
              "       [10.5, 10.5, 10.5, 10.5],\n",
              "       [10.5, 10.5, 10.5, 10.5],\n",
              "       [10.5, 10.5, 10.5, 10.5],\n",
              "       [10.5, 10.5, 10.5, 10.5]])"
            ]
          },
          "metadata": {},
          "execution_count": 47
        }
      ]
    },
    {
      "cell_type": "markdown",
      "source": [
        "#### np.zeros"
      ],
      "metadata": {
        "id": "82FpDSC4uW5T"
      }
    },
    {
      "cell_type": "code",
      "source": [
        "np.zeros(10)"
      ],
      "metadata": {
        "colab": {
          "base_uri": "https://localhost:8080/"
        },
        "id": "PU5UpZumuKx3",
        "outputId": "81b97c66-bdea-40f8-97a5-67e73c2443e1"
      },
      "execution_count": null,
      "outputs": [
        {
          "output_type": "execute_result",
          "data": {
            "text/plain": [
              "array([0., 0., 0., 0., 0., 0., 0., 0., 0., 0.])"
            ]
          },
          "metadata": {},
          "execution_count": 48
        }
      ]
    },
    {
      "cell_type": "code",
      "source": [
        "np.zeros((5,4))"
      ],
      "metadata": {
        "colab": {
          "base_uri": "https://localhost:8080/"
        },
        "id": "wAavk9T3v60t",
        "outputId": "55e39c94-d338-4367-a599-f8ef42152894"
      },
      "execution_count": null,
      "outputs": [
        {
          "output_type": "execute_result",
          "data": {
            "text/plain": [
              "array([[0., 0., 0., 0.],\n",
              "       [0., 0., 0., 0.],\n",
              "       [0., 0., 0., 0.],\n",
              "       [0., 0., 0., 0.],\n",
              "       [0., 0., 0., 0.]])"
            ]
          },
          "metadata": {},
          "execution_count": 52
        }
      ]
    },
    {
      "cell_type": "code",
      "source": [
        "np.zeros((5,4), dtype = 'int')"
      ],
      "metadata": {
        "colab": {
          "base_uri": "https://localhost:8080/"
        },
        "id": "iEYa7hWrvEcc",
        "outputId": "5d269b62-7c90-4e75-a776-2f1b70d2a06c"
      },
      "execution_count": null,
      "outputs": [
        {
          "output_type": "execute_result",
          "data": {
            "text/plain": [
              "array([[0, 0, 0, 0],\n",
              "       [0, 0, 0, 0],\n",
              "       [0, 0, 0, 0],\n",
              "       [0, 0, 0, 0],\n",
              "       [0, 0, 0, 0]])"
            ]
          },
          "metadata": {},
          "execution_count": 51
        }
      ]
    },
    {
      "cell_type": "markdown",
      "source": [
        "#### **np.eye**"
      ],
      "metadata": {
        "id": "_DLlSFXdf5d5"
      }
    },
    {
      "cell_type": "code",
      "source": [
        "np.eye(5)  #identity matrix"
      ],
      "metadata": {
        "id": "NfJfl-luvZwR",
        "colab": {
          "base_uri": "https://localhost:8080/"
        },
        "outputId": "96e0db50-00ee-4323-cd61-d018c88c912c"
      },
      "execution_count": null,
      "outputs": [
        {
          "output_type": "execute_result",
          "data": {
            "text/plain": [
              "array([[1., 0., 0., 0., 0.],\n",
              "       [0., 1., 0., 0., 0.],\n",
              "       [0., 0., 1., 0., 0.],\n",
              "       [0., 0., 0., 1., 0.],\n",
              "       [0., 0., 0., 0., 1.]])"
            ]
          },
          "metadata": {},
          "execution_count": 10
        }
      ]
    },
    {
      "cell_type": "code",
      "source": [
        "np.eye(3) * 5"
      ],
      "metadata": {
        "colab": {
          "base_uri": "https://localhost:8080/"
        },
        "id": "NTwcmmlxhzQA",
        "outputId": "e82f1f6f-beaf-40cd-f0ce-704ee39c9218"
      },
      "execution_count": null,
      "outputs": [
        {
          "output_type": "execute_result",
          "data": {
            "text/plain": [
              "array([[5., 0., 0.],\n",
              "       [0., 5., 0.],\n",
              "       [0., 0., 5.]])"
            ]
          },
          "metadata": {},
          "execution_count": 5
        }
      ]
    },
    {
      "cell_type": "markdown",
      "source": [
        "#### **np.diag**"
      ],
      "metadata": {
        "id": "fWCv893Vi36E"
      }
    },
    {
      "cell_type": "code",
      "source": [
        "np.diag([12, 6, 5, 78, 43])"
      ],
      "metadata": {
        "colab": {
          "base_uri": "https://localhost:8080/"
        },
        "id": "H4ycO2VVif0K",
        "outputId": "2d2b010b-69f8-4fb5-aa84-fc9d78b849e7"
      },
      "execution_count": null,
      "outputs": [
        {
          "output_type": "execute_result",
          "data": {
            "text/plain": [
              "array([[12,  0,  0,  0,  0],\n",
              "       [ 0,  6,  0,  0,  0],\n",
              "       [ 0,  0,  5,  0,  0],\n",
              "       [ 0,  0,  0, 78,  0],\n",
              "       [ 0,  0,  0,  0, 43]])"
            ]
          },
          "metadata": {},
          "execution_count": 6
        }
      ]
    },
    {
      "cell_type": "markdown",
      "source": [
        "#### **np.random.randint**"
      ],
      "metadata": {
        "id": "cRxlnlmvjTFD"
      }
    },
    {
      "cell_type": "code",
      "source": [
        "np.random.randint(10)"
      ],
      "metadata": {
        "colab": {
          "base_uri": "https://localhost:8080/"
        },
        "id": "0-4SVs_jjCuU",
        "outputId": "5d5ffc0a-66de-46e4-f11e-d061212e650f"
      },
      "execution_count": null,
      "outputs": [
        {
          "output_type": "execute_result",
          "data": {
            "text/plain": [
              "7"
            ]
          },
          "metadata": {},
          "execution_count": 14
        }
      ]
    },
    {
      "cell_type": "code",
      "source": [
        "np.random.randint(10, 51)"
      ],
      "metadata": {
        "colab": {
          "base_uri": "https://localhost:8080/"
        },
        "id": "h4YfRk-_j5qp",
        "outputId": "75bce4be-4eb5-4e48-869e-d7017c4805f3"
      },
      "execution_count": null,
      "outputs": [
        {
          "output_type": "execute_result",
          "data": {
            "text/plain": [
              "36"
            ]
          },
          "metadata": {},
          "execution_count": 21
        }
      ]
    },
    {
      "cell_type": "code",
      "source": [
        "np.random.randint(1, 7)"
      ],
      "metadata": {
        "colab": {
          "base_uri": "https://localhost:8080/"
        },
        "id": "lJo276aWkGwj",
        "outputId": "962ecc5f-efb7-46f1-b747-3187ef6a5c8f"
      },
      "execution_count": null,
      "outputs": [
        {
          "output_type": "execute_result",
          "data": {
            "text/plain": [
              "3"
            ]
          },
          "metadata": {},
          "execution_count": 19
        }
      ]
    },
    {
      "cell_type": "code",
      "source": [
        "np.random.randint(1000, 10000)"
      ],
      "metadata": {
        "colab": {
          "base_uri": "https://localhost:8080/"
        },
        "id": "jySMF0W7kUEe",
        "outputId": "2932469a-f2c2-4b69-d58e-463fa93a9bb4"
      },
      "execution_count": null,
      "outputs": [
        {
          "output_type": "execute_result",
          "data": {
            "text/plain": [
              "7666"
            ]
          },
          "metadata": {},
          "execution_count": 22
        }
      ]
    },
    {
      "cell_type": "code",
      "source": [
        "np.random.randint(1000, 10000, size = 10)"
      ],
      "metadata": {
        "colab": {
          "base_uri": "https://localhost:8080/"
        },
        "id": "aYjqL6Rek_-F",
        "outputId": "efa3482a-2c98-4d98-9803-a5bd27e52283"
      },
      "execution_count": null,
      "outputs": [
        {
          "output_type": "execute_result",
          "data": {
            "text/plain": [
              "array([7080, 9014, 5047, 9735, 2111, 6497, 7375, 7354, 1249, 2245])"
            ]
          },
          "metadata": {},
          "execution_count": 24
        }
      ]
    },
    {
      "cell_type": "code",
      "source": [
        "np.random.randint(100, 501, size = (5,4))"
      ],
      "metadata": {
        "colab": {
          "base_uri": "https://localhost:8080/"
        },
        "id": "FShv-XlvlPoC",
        "outputId": "073a338a-31ab-46a4-b5ad-ba205851ebb8"
      },
      "execution_count": null,
      "outputs": [
        {
          "output_type": "execute_result",
          "data": {
            "text/plain": [
              "array([[1890, 1970, 1390, 1820],\n",
              "       [3680, 4370, 3680, 1360],\n",
              "       [3090, 2910, 3630, 3930],\n",
              "       [4690, 4470, 3200, 3120],\n",
              "       [3200, 1990, 3510, 2150]])"
            ]
          },
          "metadata": {},
          "execution_count": 26
        }
      ]
    },
    {
      "cell_type": "markdown",
      "source": [
        "#### np.random.random"
      ],
      "metadata": {
        "id": "A-oIQUGumBBL"
      }
    },
    {
      "cell_type": "code",
      "source": [
        "np.random.random(5)  #random number between 0.0 and 1.0"
      ],
      "metadata": {
        "colab": {
          "base_uri": "https://localhost:8080/"
        },
        "id": "4f2WFncVmAWr",
        "outputId": "05b31738-194d-4cbc-9835-c038301f1bf4"
      },
      "execution_count": null,
      "outputs": [
        {
          "output_type": "execute_result",
          "data": {
            "text/plain": [
              "array([0.55224608, 0.87760212, 0.1841036 , 0.25246727, 0.35107692])"
            ]
          },
          "metadata": {},
          "execution_count": 29
        }
      ]
    },
    {
      "cell_type": "code",
      "source": [
        "np.random.random(5) * 10"
      ],
      "metadata": {
        "colab": {
          "base_uri": "https://localhost:8080/"
        },
        "id": "x9PUKDZ1lY2e",
        "outputId": "fa8aa281-1d27-4aa5-b1b5-952334bedc6a"
      },
      "execution_count": null,
      "outputs": [
        {
          "output_type": "execute_result",
          "data": {
            "text/plain": [
              "array([9.07988883, 3.39555147, 5.7363348 , 5.61085247, 7.51371201])"
            ]
          },
          "metadata": {},
          "execution_count": 31
        }
      ]
    },
    {
      "cell_type": "code",
      "source": [
        "np.round((np.random.random(5) * 10), 2)"
      ],
      "metadata": {
        "colab": {
          "base_uri": "https://localhost:8080/"
        },
        "id": "0KuNVUOrmhbj",
        "outputId": "82171998-65b5-43b0-9641-70fe1358072a"
      },
      "execution_count": null,
      "outputs": [
        {
          "output_type": "execute_result",
          "data": {
            "text/plain": [
              "array([5.24, 1.05, 6.97, 2.1 , 5.65])"
            ]
          },
          "metadata": {},
          "execution_count": 33
        }
      ]
    },
    {
      "cell_type": "code",
      "source": [],
      "metadata": {
        "id": "mhM0NQ1ym8wR"
      },
      "execution_count": null,
      "outputs": []
    },
    {
      "cell_type": "markdown",
      "source": [
        "### **Array Mathematics**\n",
        "\n",
        "1. Basic Mathematical Operations (Today)\n",
        "2. Advanced Mathematical Operations"
      ],
      "metadata": {
        "id": "tYQLfySKnQ9c"
      }
    },
    {
      "cell_type": "code",
      "source": [
        "arr1 = np.random.randint(10, 51, size = (3,3))\n",
        "arr2 = np.random.randint(10, 51, size = (3,3))"
      ],
      "metadata": {
        "id": "j2RoZmjCnkD3"
      },
      "execution_count": null,
      "outputs": []
    },
    {
      "cell_type": "code",
      "source": [
        "arr1"
      ],
      "metadata": {
        "colab": {
          "base_uri": "https://localhost:8080/"
        },
        "id": "SgFM4EeloDsW",
        "outputId": "ce0f17cf-83aa-453f-f5db-b0b1b09283eb"
      },
      "execution_count": null,
      "outputs": [
        {
          "output_type": "execute_result",
          "data": {
            "text/plain": [
              "array([[15, 45, 46],\n",
              "       [34, 18, 13],\n",
              "       [15, 11, 11]])"
            ]
          },
          "metadata": {},
          "execution_count": 35
        }
      ]
    },
    {
      "cell_type": "code",
      "source": [
        "arr2"
      ],
      "metadata": {
        "colab": {
          "base_uri": "https://localhost:8080/"
        },
        "id": "pj6fkNjUoElh",
        "outputId": "25450a96-290b-49eb-95fa-03b2807b610d"
      },
      "execution_count": null,
      "outputs": [
        {
          "output_type": "execute_result",
          "data": {
            "text/plain": [
              "array([[17, 39, 18],\n",
              "       [21, 43, 34],\n",
              "       [45, 46, 40]])"
            ]
          },
          "metadata": {},
          "execution_count": 36
        }
      ]
    },
    {
      "cell_type": "code",
      "source": [
        "arr1 + arr2"
      ],
      "metadata": {
        "colab": {
          "base_uri": "https://localhost:8080/"
        },
        "id": "dXnDsKdXpYtm",
        "outputId": "bb1ea258-a982-4b23-bd78-94684ce16e1e"
      },
      "execution_count": null,
      "outputs": [
        {
          "output_type": "execute_result",
          "data": {
            "text/plain": [
              "array([[32, 84, 64],\n",
              "       [55, 61, 47],\n",
              "       [60, 57, 51]])"
            ]
          },
          "metadata": {},
          "execution_count": 38
        }
      ]
    },
    {
      "cell_type": "code",
      "source": [
        "arr1 + 10"
      ],
      "metadata": {
        "colab": {
          "base_uri": "https://localhost:8080/"
        },
        "id": "Pdm0DTyNqDJD",
        "outputId": "af83fcd9-d8b6-444e-f0cb-ecae17ac041d"
      },
      "execution_count": null,
      "outputs": [
        {
          "output_type": "execute_result",
          "data": {
            "text/plain": [
              "array([[25, 55, 56],\n",
              "       [44, 28, 23],\n",
              "       [25, 21, 21]])"
            ]
          },
          "metadata": {},
          "execution_count": 43
        }
      ]
    },
    {
      "cell_type": "code",
      "source": [
        "arr1 - arr2"
      ],
      "metadata": {
        "colab": {
          "base_uri": "https://localhost:8080/"
        },
        "id": "KI1pD6VtpuqX",
        "outputId": "d35c23b0-2639-4768-eb8b-099c5e72be21"
      },
      "execution_count": null,
      "outputs": [
        {
          "output_type": "execute_result",
          "data": {
            "text/plain": [
              "array([[ -2,   6,  28],\n",
              "       [ 13, -25, -21],\n",
              "       [-30, -35, -29]])"
            ]
          },
          "metadata": {},
          "execution_count": 39
        }
      ]
    },
    {
      "cell_type": "code",
      "source": [
        "arr2 - arr1"
      ],
      "metadata": {
        "colab": {
          "base_uri": "https://localhost:8080/"
        },
        "id": "Qp5PY2Qip4w1",
        "outputId": "30d42d60-16f8-4ee6-e4c9-4b19e798e6c1"
      },
      "execution_count": null,
      "outputs": [
        {
          "output_type": "execute_result",
          "data": {
            "text/plain": [
              "array([[  2,  -6, -28],\n",
              "       [-13,  25,  21],\n",
              "       [ 30,  35,  29]])"
            ]
          },
          "metadata": {},
          "execution_count": 40
        }
      ]
    },
    {
      "cell_type": "code",
      "source": [
        "arr1 * arr2"
      ],
      "metadata": {
        "colab": {
          "base_uri": "https://localhost:8080/"
        },
        "id": "JRVR0Goup8B-",
        "outputId": "afb65936-0aa5-446a-a26a-2581c0be68b1"
      },
      "execution_count": null,
      "outputs": [
        {
          "output_type": "execute_result",
          "data": {
            "text/plain": [
              "array([[ 255, 1755,  828],\n",
              "       [ 714,  774,  442],\n",
              "       [ 675,  506,  440]])"
            ]
          },
          "metadata": {},
          "execution_count": 41
        }
      ]
    },
    {
      "cell_type": "code",
      "source": [
        "arr1 / arr2"
      ],
      "metadata": {
        "colab": {
          "base_uri": "https://localhost:8080/"
        },
        "id": "0oQ04Q5Ep-7k",
        "outputId": "1d007662-69e9-4821-c51f-9d2d0690d226"
      },
      "execution_count": null,
      "outputs": [
        {
          "output_type": "execute_result",
          "data": {
            "text/plain": [
              "array([[0.88235294, 1.15384615, 2.55555556],\n",
              "       [1.61904762, 0.41860465, 0.38235294],\n",
              "       [0.33333333, 0.23913043, 0.275     ]])"
            ]
          },
          "metadata": {},
          "execution_count": 42
        }
      ]
    },
    {
      "cell_type": "code",
      "source": [
        "arr1 / 2"
      ],
      "metadata": {
        "colab": {
          "base_uri": "https://localhost:8080/"
        },
        "id": "v0GRVUtFqBdU",
        "outputId": "aa211937-01d5-49fc-f3a2-06c94b973e38"
      },
      "execution_count": null,
      "outputs": [
        {
          "output_type": "execute_result",
          "data": {
            "text/plain": [
              "array([[ 7.5, 22.5, 23. ],\n",
              "       [17. ,  9. ,  6.5],\n",
              "       [ 7.5,  5.5,  5.5]])"
            ]
          },
          "metadata": {},
          "execution_count": 44
        }
      ]
    },
    {
      "cell_type": "markdown",
      "source": [
        "### **Mean, Sum, Min, Max of the given array**"
      ],
      "metadata": {
        "id": "q_As94IxrUOy"
      }
    },
    {
      "cell_type": "code",
      "source": [
        "arr_1d = np.random.randint(50, 100, size = 10)"
      ],
      "metadata": {
        "id": "K1z5kR5vuBNX"
      },
      "execution_count": null,
      "outputs": []
    },
    {
      "cell_type": "code",
      "source": [
        "arr_1d"
      ],
      "metadata": {
        "colab": {
          "base_uri": "https://localhost:8080/"
        },
        "id": "wkrIIlMQuBZc",
        "outputId": "5f40b948-49de-48ba-befa-b26416b48b4e"
      },
      "execution_count": null,
      "outputs": [
        {
          "output_type": "execute_result",
          "data": {
            "text/plain": [
              "array([96, 57, 57, 96, 96, 95, 50, 59, 56, 83])"
            ]
          },
          "metadata": {},
          "execution_count": 48
        }
      ]
    },
    {
      "cell_type": "code",
      "source": [
        "np.mean(arr_1d)"
      ],
      "metadata": {
        "colab": {
          "base_uri": "https://localhost:8080/"
        },
        "id": "5ujsY1I-uJ5w",
        "outputId": "160c49fa-57a6-458f-c9f7-b55edca7d7b3"
      },
      "execution_count": null,
      "outputs": [
        {
          "output_type": "execute_result",
          "data": {
            "text/plain": [
              "74.5"
            ]
          },
          "metadata": {},
          "execution_count": 49
        }
      ]
    },
    {
      "cell_type": "code",
      "source": [
        "np.sum(arr_1d)"
      ],
      "metadata": {
        "colab": {
          "base_uri": "https://localhost:8080/"
        },
        "id": "32B_ypLMuJ9Y",
        "outputId": "e0c59125-7c5c-473e-dc07-257567481a76"
      },
      "execution_count": null,
      "outputs": [
        {
          "output_type": "execute_result",
          "data": {
            "text/plain": [
              "745"
            ]
          },
          "metadata": {},
          "execution_count": 50
        }
      ]
    },
    {
      "cell_type": "code",
      "source": [
        "np.min(arr_1d)"
      ],
      "metadata": {
        "colab": {
          "base_uri": "https://localhost:8080/"
        },
        "id": "epoyLaKUuKAl",
        "outputId": "0107c251-5796-42e6-b0fe-e5e03bab3e58"
      },
      "execution_count": null,
      "outputs": [
        {
          "output_type": "execute_result",
          "data": {
            "text/plain": [
              "50"
            ]
          },
          "metadata": {},
          "execution_count": 51
        }
      ]
    },
    {
      "cell_type": "code",
      "source": [
        "np.max(arr_1d)"
      ],
      "metadata": {
        "colab": {
          "base_uri": "https://localhost:8080/"
        },
        "id": "prWH-NcfuSXc",
        "outputId": "04838baa-fbf4-419d-b12e-eeb5e75436ca"
      },
      "execution_count": null,
      "outputs": [
        {
          "output_type": "execute_result",
          "data": {
            "text/plain": [
              "96"
            ]
          },
          "metadata": {},
          "execution_count": 52
        }
      ]
    },
    {
      "cell_type": "code",
      "source": [
        "arr = np.random.randint(50, 100, size = (8,6))"
      ],
      "metadata": {
        "id": "U67sft2CqM20"
      },
      "execution_count": null,
      "outputs": []
    },
    {
      "cell_type": "code",
      "source": [
        "arr"
      ],
      "metadata": {
        "colab": {
          "base_uri": "https://localhost:8080/"
        },
        "id": "z3rWNXl1tMdM",
        "outputId": "5b83f1ae-2596-4207-d2a8-0fe63768ecb0"
      },
      "execution_count": null,
      "outputs": [
        {
          "output_type": "execute_result",
          "data": {
            "text/plain": [
              "array([[94, 67, 82, 90, 83, 87],\n",
              "       [90, 77, 84, 71, 74, 56],\n",
              "       [74, 72, 71, 54, 90, 75],\n",
              "       [93, 79, 95, 78, 94, 80],\n",
              "       [61, 81, 97, 65, 80, 75],\n",
              "       [79, 61, 93, 89, 99, 53],\n",
              "       [76, 99, 64, 52, 77, 74],\n",
              "       [52, 87, 94, 91, 75, 79]])"
            ]
          },
          "metadata": {},
          "execution_count": 46
        }
      ]
    },
    {
      "cell_type": "code",
      "source": [
        "np.mean(arr, axis = 0)"
      ],
      "metadata": {
        "colab": {
          "base_uri": "https://localhost:8080/"
        },
        "id": "BieE-kMStNKe",
        "outputId": "a0974329-0663-42b0-bbde-17a75568d5bf"
      },
      "execution_count": null,
      "outputs": [
        {
          "output_type": "execute_result",
          "data": {
            "text/plain": [
              "array([77.375, 77.875, 85.   , 73.75 , 84.   , 72.375])"
            ]
          },
          "metadata": {},
          "execution_count": 54
        }
      ]
    },
    {
      "cell_type": "code",
      "source": [
        "np.mean(arr, axis = 1)"
      ],
      "metadata": {
        "colab": {
          "base_uri": "https://localhost:8080/"
        },
        "id": "UmN6RtO7uoWx",
        "outputId": "c7800a9d-5628-4aaa-9f4f-0cedbabdb15f"
      },
      "execution_count": null,
      "outputs": [
        {
          "output_type": "execute_result",
          "data": {
            "text/plain": [
              "array([83.83333333, 75.33333333, 72.66666667, 86.5       , 76.5       ,\n",
              "       79.        , 73.66666667, 79.66666667])"
            ]
          },
          "metadata": {},
          "execution_count": 55
        }
      ]
    },
    {
      "cell_type": "code",
      "source": [
        "np.sum(arr, axis = 0)"
      ],
      "metadata": {
        "colab": {
          "base_uri": "https://localhost:8080/"
        },
        "id": "0pcW-SHou0FZ",
        "outputId": "30b58a58-aa16-4d43-c553-d75c3777cd52"
      },
      "execution_count": null,
      "outputs": [
        {
          "output_type": "execute_result",
          "data": {
            "text/plain": [
              "array([619, 623, 680, 590, 672, 579])"
            ]
          },
          "metadata": {},
          "execution_count": 56
        }
      ]
    },
    {
      "cell_type": "code",
      "source": [
        "np.sum(arr, axis = 1)"
      ],
      "metadata": {
        "colab": {
          "base_uri": "https://localhost:8080/"
        },
        "id": "u7ZQc7X2vi0d",
        "outputId": "11ed3b8b-29c9-46a8-a7f5-98b5a237b555"
      },
      "execution_count": null,
      "outputs": [
        {
          "output_type": "execute_result",
          "data": {
            "text/plain": [
              "array([503, 452, 436, 519, 459, 474, 442, 478])"
            ]
          },
          "metadata": {},
          "execution_count": 57
        }
      ]
    },
    {
      "cell_type": "code",
      "source": [
        "np.min(arr, axis = 0)"
      ],
      "metadata": {
        "colab": {
          "base_uri": "https://localhost:8080/"
        },
        "id": "C6Mj2gcjvlMC",
        "outputId": "3d7f9b7c-2751-46cc-8169-4fa8e96ca32b"
      },
      "execution_count": null,
      "outputs": [
        {
          "output_type": "execute_result",
          "data": {
            "text/plain": [
              "array([52, 61, 64, 52, 74, 53])"
            ]
          },
          "metadata": {},
          "execution_count": 58
        }
      ]
    },
    {
      "cell_type": "code",
      "source": [
        "np.min(arr, axis = 1)"
      ],
      "metadata": {
        "colab": {
          "base_uri": "https://localhost:8080/"
        },
        "id": "aiT24RdUv62h",
        "outputId": "0d8acb5e-bf52-40cb-e0c9-e648d4ec5720"
      },
      "execution_count": null,
      "outputs": [
        {
          "output_type": "execute_result",
          "data": {
            "text/plain": [
              "array([67, 56, 54, 78, 61, 53, 52, 52])"
            ]
          },
          "metadata": {},
          "execution_count": 60
        }
      ]
    },
    {
      "cell_type": "code",
      "source": [
        "np.max(arr, axis = 0)"
      ],
      "metadata": {
        "colab": {
          "base_uri": "https://localhost:8080/"
        },
        "id": "EPwrwFKyv8oQ",
        "outputId": "516c8eb7-6c05-44a2-b948-04c2cd570192"
      },
      "execution_count": null,
      "outputs": [
        {
          "output_type": "execute_result",
          "data": {
            "text/plain": [
              "array([94, 99, 97, 91, 99, 87])"
            ]
          },
          "metadata": {},
          "execution_count": 61
        }
      ]
    },
    {
      "cell_type": "code",
      "source": [
        "np.max(arr, axis = 1)"
      ],
      "metadata": {
        "colab": {
          "base_uri": "https://localhost:8080/"
        },
        "id": "c7rV5Q6VwZ2M",
        "outputId": "5fb31931-be79-49ae-a389-62df9cf9478d"
      },
      "execution_count": null,
      "outputs": [
        {
          "output_type": "execute_result",
          "data": {
            "text/plain": [
              "array([94, 90, 90, 95, 97, 99, 99, 94])"
            ]
          },
          "metadata": {},
          "execution_count": 62
        }
      ]
    },
    {
      "cell_type": "markdown",
      "source": [
        "#### **Sorting the Data**"
      ],
      "metadata": {
        "id": "Kgq4vBHFwwfD"
      }
    },
    {
      "cell_type": "code",
      "source": [
        "arr_1d"
      ],
      "metadata": {
        "colab": {
          "base_uri": "https://localhost:8080/"
        },
        "id": "tJAYadslwbhD",
        "outputId": "da36ab64-4ac3-4453-c46d-4ef6a4b32419"
      },
      "execution_count": null,
      "outputs": [
        {
          "output_type": "execute_result",
          "data": {
            "text/plain": [
              "array([96, 57, 57, 96, 96, 95, 50, 59, 56, 83])"
            ]
          },
          "metadata": {},
          "execution_count": 63
        }
      ]
    },
    {
      "cell_type": "code",
      "source": [
        "np.sort(arr_1d)  #arrange the data in ascending order by default"
      ],
      "metadata": {
        "colab": {
          "base_uri": "https://localhost:8080/"
        },
        "id": "6m9sbzyzw1IS",
        "outputId": "9538097a-df5d-45f2-fab0-0a8ff69de2a0"
      },
      "execution_count": null,
      "outputs": [
        {
          "output_type": "execute_result",
          "data": {
            "text/plain": [
              "array([50, 56, 57, 57, 59, 83, 95, 96, 96, 96])"
            ]
          },
          "metadata": {},
          "execution_count": 64
        }
      ]
    },
    {
      "cell_type": "code",
      "source": [
        "np.sort(arr_1d)[::-1]"
      ],
      "metadata": {
        "colab": {
          "base_uri": "https://localhost:8080/"
        },
        "id": "2gdpdoJ1w91r",
        "outputId": "6d6e0dd6-136a-401e-8868-98393d1fe96c"
      },
      "execution_count": null,
      "outputs": [
        {
          "output_type": "execute_result",
          "data": {
            "text/plain": [
              "array([96, 96, 96, 95, 83, 59, 57, 57, 56, 50])"
            ]
          },
          "metadata": {},
          "execution_count": 66
        },
        {
          "output_type": "execute_result",
          "data": {
            "text/plain": [
              "array([96, 96, 96, 95, 83, 59, 57, 57, 56, 50])"
            ]
          },
          "metadata": {},
          "execution_count": 67
        }
      ]
    },
    {
      "cell_type": "code",
      "source": [
        "np.sort(arr, axis = 0)"
      ],
      "metadata": {
        "colab": {
          "base_uri": "https://localhost:8080/"
        },
        "id": "LO8kWC2ExJCo",
        "outputId": "68e21b0d-1b62-4f09-a05f-ff541ae57547"
      },
      "execution_count": null,
      "outputs": [
        {
          "output_type": "execute_result",
          "data": {
            "text/plain": [
              "array([[52, 61, 64, 52, 74, 53],\n",
              "       [61, 67, 71, 54, 75, 56],\n",
              "       [74, 72, 82, 65, 77, 74],\n",
              "       [76, 77, 84, 71, 80, 75],\n",
              "       [79, 79, 93, 78, 83, 75],\n",
              "       [90, 81, 94, 89, 90, 79],\n",
              "       [93, 87, 95, 90, 94, 80],\n",
              "       [94, 99, 97, 91, 99, 87]])"
            ]
          },
          "metadata": {},
          "execution_count": 68
        }
      ]
    },
    {
      "cell_type": "code",
      "source": [
        "np.sort(arr, axis = 1)"
      ],
      "metadata": {
        "colab": {
          "base_uri": "https://localhost:8080/"
        },
        "id": "4SxQHRlNyTjH",
        "outputId": "5e29d989-f84f-48b0-ada7-61120dd4e7bc"
      },
      "execution_count": null,
      "outputs": [
        {
          "output_type": "execute_result",
          "data": {
            "text/plain": [
              "array([[67, 82, 83, 87, 90, 94],\n",
              "       [56, 71, 74, 77, 84, 90],\n",
              "       [54, 71, 72, 74, 75, 90],\n",
              "       [78, 79, 80, 93, 94, 95],\n",
              "       [61, 65, 75, 80, 81, 97],\n",
              "       [53, 61, 79, 89, 93, 99],\n",
              "       [52, 64, 74, 76, 77, 99],\n",
              "       [52, 75, 79, 87, 91, 94]])"
            ]
          },
          "metadata": {},
          "execution_count": 71
        }
      ]
    },
    {
      "cell_type": "code",
      "source": [
        "np.sort(arr, axis = 0)[::-1]"
      ],
      "metadata": {
        "colab": {
          "base_uri": "https://localhost:8080/"
        },
        "id": "2zSsYAl3y6dE",
        "outputId": "7152b020-9eb8-4bc6-d9fc-c765698bf384"
      },
      "execution_count": null,
      "outputs": [
        {
          "output_type": "execute_result",
          "data": {
            "text/plain": [
              "array([[94, 99, 97, 91, 99, 87],\n",
              "       [93, 87, 95, 90, 94, 80],\n",
              "       [90, 81, 94, 89, 90, 79],\n",
              "       [79, 79, 93, 78, 83, 75],\n",
              "       [76, 77, 84, 71, 80, 75],\n",
              "       [74, 72, 82, 65, 77, 74],\n",
              "       [61, 67, 71, 54, 75, 56],\n",
              "       [52, 61, 64, 52, 74, 53]])"
            ]
          },
          "metadata": {},
          "execution_count": 72
        }
      ]
    },
    {
      "cell_type": "markdown",
      "source": [
        "### **Indexing and Slicing of the arrays**"
      ],
      "metadata": {
        "id": "hcB5wAevyp88"
      }
    },
    {
      "cell_type": "code",
      "source": [
        "arr_1d"
      ],
      "metadata": {
        "colab": {
          "base_uri": "https://localhost:8080/"
        },
        "id": "UUVbuhC0yWSA",
        "outputId": "34ead113-d48c-4d69-91e7-6b75b4980eb8"
      },
      "execution_count": null,
      "outputs": [
        {
          "output_type": "execute_result",
          "data": {
            "text/plain": [
              "array([90, 70, 66, 50, 85, 52, 72, 99, 61, 90])"
            ]
          },
          "metadata": {},
          "execution_count": 4
        }
      ]
    },
    {
      "cell_type": "code",
      "source": [
        "arr_1d[3]"
      ],
      "metadata": {
        "id": "owLPdjibzm1J",
        "colab": {
          "base_uri": "https://localhost:8080/"
        },
        "outputId": "880247e5-8555-45d8-b73e-3d640a27234e"
      },
      "execution_count": null,
      "outputs": [
        {
          "output_type": "execute_result",
          "data": {
            "text/plain": [
              "50"
            ]
          },
          "metadata": {},
          "execution_count": 6
        }
      ]
    },
    {
      "cell_type": "code",
      "source": [
        "arr_1d[3:7]"
      ],
      "metadata": {
        "id": "WfYbtheb7E2q",
        "colab": {
          "base_uri": "https://localhost:8080/"
        },
        "outputId": "77565b90-0336-4bb6-def6-a6d6e322513e"
      },
      "execution_count": null,
      "outputs": [
        {
          "output_type": "execute_result",
          "data": {
            "text/plain": [
              "array([50, 85, 52, 72])"
            ]
          },
          "metadata": {},
          "execution_count": 7
        }
      ]
    },
    {
      "cell_type": "code",
      "source": [
        "arr_1d > 55"
      ],
      "metadata": {
        "colab": {
          "base_uri": "https://localhost:8080/"
        },
        "id": "KH07kAynpGWj",
        "outputId": "10942a3b-49cc-4880-9c36-88c8368c6174"
      },
      "execution_count": null,
      "outputs": [
        {
          "output_type": "execute_result",
          "data": {
            "text/plain": [
              "array([ True,  True,  True, False,  True, False,  True,  True,  True,\n",
              "        True])"
            ]
          },
          "metadata": {},
          "execution_count": 8
        }
      ]
    },
    {
      "cell_type": "code",
      "source": [
        "arr_1d[arr_1d > 55]"
      ],
      "metadata": {
        "colab": {
          "base_uri": "https://localhost:8080/"
        },
        "id": "tnL17J8qp5kM",
        "outputId": "142b61d1-c2ba-4a4b-d50e-31270eabcc3b"
      },
      "execution_count": null,
      "outputs": [
        {
          "output_type": "execute_result",
          "data": {
            "text/plain": [
              "array([90, 70, 66, 85, 72, 99, 61, 90])"
            ]
          },
          "metadata": {},
          "execution_count": 9
        }
      ]
    },
    {
      "cell_type": "code",
      "source": [
        "arr"
      ],
      "metadata": {
        "colab": {
          "base_uri": "https://localhost:8080/"
        },
        "id": "-HJNtWFUqnnS",
        "outputId": "a8ae4e2a-7289-4db0-eaca-862b94ef595d"
      },
      "execution_count": null,
      "outputs": [
        {
          "output_type": "execute_result",
          "data": {
            "text/plain": [
              "array([[57, 55, 70, 75, 87, 94],\n",
              "       [60, 52, 58, 86, 85, 67],\n",
              "       [62, 67, 77, 91, 61, 96],\n",
              "       [51, 52, 62, 73, 51, 72],\n",
              "       [83, 94, 73, 83, 84, 77],\n",
              "       [87, 76, 96, 92, 66, 63],\n",
              "       [74, 83, 72, 92, 70, 93],\n",
              "       [69, 73, 85, 55, 50, 83]])"
            ]
          },
          "metadata": {},
          "execution_count": 10
        }
      ]
    },
    {
      "cell_type": "code",
      "source": [
        "arr[2, 1]"
      ],
      "metadata": {
        "colab": {
          "base_uri": "https://localhost:8080/"
        },
        "id": "37OZBAAbqubQ",
        "outputId": "a5f3e5a6-872e-4c1b-c324-4ed8749d695c"
      },
      "execution_count": null,
      "outputs": [
        {
          "output_type": "execute_result",
          "data": {
            "text/plain": [
              "67"
            ]
          },
          "metadata": {},
          "execution_count": 11
        }
      ]
    },
    {
      "cell_type": "code",
      "source": [
        "arr[2][1]"
      ],
      "metadata": {
        "colab": {
          "base_uri": "https://localhost:8080/"
        },
        "id": "MeTSe_8trFpS",
        "outputId": "18ef51c7-b9af-4c74-e737-30d0a009c499"
      },
      "execution_count": null,
      "outputs": [
        {
          "output_type": "execute_result",
          "data": {
            "text/plain": [
              "67"
            ]
          },
          "metadata": {},
          "execution_count": 13
        }
      ]
    },
    {
      "cell_type": "code",
      "source": [
        "arr > 55"
      ],
      "metadata": {
        "colab": {
          "base_uri": "https://localhost:8080/"
        },
        "id": "9VLkVu4xrQsu",
        "outputId": "2ede977b-5da1-4b49-92ad-670a0303a5b9"
      },
      "execution_count": null,
      "outputs": [
        {
          "output_type": "execute_result",
          "data": {
            "text/plain": [
              "array([[ True, False,  True,  True,  True,  True],\n",
              "       [ True, False,  True,  True,  True,  True],\n",
              "       [ True,  True,  True,  True,  True,  True],\n",
              "       [False, False,  True,  True, False,  True],\n",
              "       [ True,  True,  True,  True,  True,  True],\n",
              "       [ True,  True,  True,  True,  True,  True],\n",
              "       [ True,  True,  True,  True,  True,  True],\n",
              "       [ True,  True,  True, False, False,  True]])"
            ]
          },
          "metadata": {},
          "execution_count": 14
        }
      ]
    },
    {
      "cell_type": "code",
      "source": [
        "arr[arr > 55]"
      ],
      "metadata": {
        "colab": {
          "base_uri": "https://localhost:8080/"
        },
        "id": "oNcIWSrlrypu",
        "outputId": "9876c266-46fd-4c9f-d975-874ffd2612f9"
      },
      "execution_count": null,
      "outputs": [
        {
          "output_type": "execute_result",
          "data": {
            "text/plain": [
              "array([57, 70, 75, 87, 94, 60, 58, 86, 85, 67, 62, 67, 77, 91, 61, 96, 62,\n",
              "       73, 72, 83, 94, 73, 83, 84, 77, 87, 76, 96, 92, 66, 63, 74, 83, 72,\n",
              "       92, 70, 93, 69, 73, 85, 83])"
            ]
          },
          "metadata": {},
          "execution_count": 15
        }
      ]
    },
    {
      "cell_type": "code",
      "source": [
        "arr[1:4, 1:4]"
      ],
      "metadata": {
        "colab": {
          "base_uri": "https://localhost:8080/"
        },
        "id": "jV9gSrlDr4vi",
        "outputId": "48152c5d-3b41-4d02-f6e0-6a67838fd90a"
      },
      "execution_count": null,
      "outputs": [
        {
          "output_type": "execute_result",
          "data": {
            "text/plain": [
              "array([[52, 58, 86],\n",
              "       [67, 77, 91],\n",
              "       [52, 62, 73]])"
            ]
          },
          "metadata": {},
          "execution_count": 16
        }
      ]
    },
    {
      "cell_type": "markdown",
      "source": [
        "### **Array Manipulation**\n",
        "\n",
        "- np.vstack\n",
        "- np.hstack\n",
        "- np.column_stack\n",
        "- np.hsplit\n",
        "- np.vsplit"
      ],
      "metadata": {
        "id": "OzLlPjYDsvJJ"
      }
    },
    {
      "cell_type": "code",
      "source": [
        "arr4 = np.random.randint(10, 51, size = (5,5))\n",
        "arr5 = np.random.randint(10, 51, size = (5,5))"
      ],
      "metadata": {
        "id": "02eFf7pPscqm"
      },
      "execution_count": null,
      "outputs": []
    },
    {
      "cell_type": "code",
      "source": [
        "arr4"
      ],
      "metadata": {
        "colab": {
          "base_uri": "https://localhost:8080/"
        },
        "id": "2L5jgO1qt439",
        "outputId": "932ab1b8-ea2f-46da-b5ee-d972969a9b27"
      },
      "execution_count": null,
      "outputs": [
        {
          "output_type": "execute_result",
          "data": {
            "text/plain": [
              "array([[45, 19, 47, 45, 33],\n",
              "       [14, 24, 21, 38, 15],\n",
              "       [24, 21, 23, 49, 16],\n",
              "       [18, 46, 15, 42, 44],\n",
              "       [39, 31, 15, 16, 11]])"
            ]
          },
          "metadata": {},
          "execution_count": 18
        }
      ]
    },
    {
      "cell_type": "code",
      "source": [
        "arr5"
      ],
      "metadata": {
        "colab": {
          "base_uri": "https://localhost:8080/"
        },
        "id": "1Xq7CLnLt50m",
        "outputId": "9f047bf6-8d7a-4895-9f07-51b46f8bc945"
      },
      "execution_count": null,
      "outputs": [
        {
          "output_type": "execute_result",
          "data": {
            "text/plain": [
              "array([[28, 18, 32, 40, 50],\n",
              "       [25, 21, 49, 10, 41],\n",
              "       [35, 25, 29, 39, 27],\n",
              "       [39, 32, 39, 19, 21],\n",
              "       [18, 29, 43, 18, 46]])"
            ]
          },
          "metadata": {},
          "execution_count": 19
        }
      ]
    },
    {
      "cell_type": "code",
      "source": [
        "np.vstack((arr4, arr5))"
      ],
      "metadata": {
        "colab": {
          "base_uri": "https://localhost:8080/"
        },
        "id": "0AHeVfOct6kB",
        "outputId": "e0d8044b-9575-452e-9209-cf4101dc528c"
      },
      "execution_count": null,
      "outputs": [
        {
          "output_type": "execute_result",
          "data": {
            "text/plain": [
              "array([[45, 19, 47, 45, 33],\n",
              "       [14, 24, 21, 38, 15],\n",
              "       [24, 21, 23, 49, 16],\n",
              "       [18, 46, 15, 42, 44],\n",
              "       [39, 31, 15, 16, 11],\n",
              "       [28, 18, 32, 40, 50],\n",
              "       [25, 21, 49, 10, 41],\n",
              "       [35, 25, 29, 39, 27],\n",
              "       [39, 32, 39, 19, 21],\n",
              "       [18, 29, 43, 18, 46]])"
            ]
          },
          "metadata": {},
          "execution_count": 20
        }
      ]
    },
    {
      "cell_type": "code",
      "source": [
        "np.hstack((arr4, arr5))"
      ],
      "metadata": {
        "colab": {
          "base_uri": "https://localhost:8080/"
        },
        "id": "_8hxdcgBuh2l",
        "outputId": "5ee08faa-5987-4ff6-c6e2-7ca3bbad5e21"
      },
      "execution_count": null,
      "outputs": [
        {
          "output_type": "execute_result",
          "data": {
            "text/plain": [
              "array([[45, 19, 47, 45, 33, 28, 18, 32, 40, 50],\n",
              "       [14, 24, 21, 38, 15, 25, 21, 49, 10, 41],\n",
              "       [24, 21, 23, 49, 16, 35, 25, 29, 39, 27],\n",
              "       [18, 46, 15, 42, 44, 39, 32, 39, 19, 21],\n",
              "       [39, 31, 15, 16, 11, 18, 29, 43, 18, 46]])"
            ]
          },
          "metadata": {},
          "execution_count": 21
        }
      ]
    },
    {
      "cell_type": "code",
      "source": [
        "np.concatenate((arr4, arr5), axis = 0)  #similar to vstack"
      ],
      "metadata": {
        "colab": {
          "base_uri": "https://localhost:8080/"
        },
        "id": "UXMxgcqYu_jz",
        "outputId": "b4b4cd16-d09e-4e46-b3db-7ff2d4bd2866"
      },
      "execution_count": null,
      "outputs": [
        {
          "output_type": "execute_result",
          "data": {
            "text/plain": [
              "array([[45, 19, 47, 45, 33],\n",
              "       [14, 24, 21, 38, 15],\n",
              "       [24, 21, 23, 49, 16],\n",
              "       [18, 46, 15, 42, 44],\n",
              "       [39, 31, 15, 16, 11],\n",
              "       [28, 18, 32, 40, 50],\n",
              "       [25, 21, 49, 10, 41],\n",
              "       [35, 25, 29, 39, 27],\n",
              "       [39, 32, 39, 19, 21],\n",
              "       [18, 29, 43, 18, 46]])"
            ]
          },
          "metadata": {},
          "execution_count": 22
        }
      ]
    },
    {
      "cell_type": "code",
      "source": [
        "np.concatenate((arr4, arr5), axis = 1)  #similar to hstack"
      ],
      "metadata": {
        "colab": {
          "base_uri": "https://localhost:8080/"
        },
        "id": "tLToVmzYwgU6",
        "outputId": "900d22e4-39f5-4b1c-85f3-01aacba586f8"
      },
      "execution_count": null,
      "outputs": [
        {
          "output_type": "execute_result",
          "data": {
            "text/plain": [
              "array([[45, 19, 47, 45, 33, 28, 18, 32, 40, 50],\n",
              "       [14, 24, 21, 38, 15, 25, 21, 49, 10, 41],\n",
              "       [24, 21, 23, 49, 16, 35, 25, 29, 39, 27],\n",
              "       [18, 46, 15, 42, 44, 39, 32, 39, 19, 21],\n",
              "       [39, 31, 15, 16, 11, 18, 29, 43, 18, 46]])"
            ]
          },
          "metadata": {},
          "execution_count": 23
        }
      ]
    },
    {
      "cell_type": "code",
      "source": [
        "arr_1 = np.arange(1, 6)"
      ],
      "metadata": {
        "id": "aMc8iydjxGC6"
      },
      "execution_count": null,
      "outputs": []
    },
    {
      "cell_type": "code",
      "source": [
        "arr_1"
      ],
      "metadata": {
        "colab": {
          "base_uri": "https://localhost:8080/"
        },
        "id": "dyNZ_CxaxMi6",
        "outputId": "6b608603-29a4-49b7-e463-9d2a07ab8e02"
      },
      "execution_count": null,
      "outputs": [
        {
          "output_type": "execute_result",
          "data": {
            "text/plain": [
              "array([1, 2, 3, 4, 5])"
            ]
          },
          "metadata": {},
          "execution_count": 34
        }
      ]
    },
    {
      "cell_type": "code",
      "source": [
        "arr4"
      ],
      "metadata": {
        "colab": {
          "base_uri": "https://localhost:8080/"
        },
        "id": "mOtnHaMCxOdV",
        "outputId": "b1a790ba-862c-43af-8a46-dc4fe13feaa9"
      },
      "execution_count": null,
      "outputs": [
        {
          "output_type": "execute_result",
          "data": {
            "text/plain": [
              "array([[45, 19, 47, 45, 33],\n",
              "       [14, 24, 21, 38, 15],\n",
              "       [24, 21, 23, 49, 16],\n",
              "       [18, 46, 15, 42, 44],\n",
              "       [39, 31, 15, 16, 11]])"
            ]
          },
          "metadata": {},
          "execution_count": 35
        }
      ]
    },
    {
      "cell_type": "code",
      "source": [
        "np.column_stack((arr4, arr_1))"
      ],
      "metadata": {
        "colab": {
          "base_uri": "https://localhost:8080/"
        },
        "id": "tAdvLGYHw2D2",
        "outputId": "8a158952-1e13-489f-ecf6-73440a89e522"
      },
      "execution_count": null,
      "outputs": [
        {
          "output_type": "execute_result",
          "data": {
            "text/plain": [
              "array([[45, 19, 47, 45, 33,  1],\n",
              "       [14, 24, 21, 38, 15,  2],\n",
              "       [24, 21, 23, 49, 16,  3],\n",
              "       [18, 46, 15, 42, 44,  4],\n",
              "       [39, 31, 15, 16, 11,  5]])"
            ]
          },
          "metadata": {},
          "execution_count": 36
        }
      ]
    },
    {
      "cell_type": "code",
      "source": [
        "np.row_stack((arr4, arr_1))"
      ],
      "metadata": {
        "colab": {
          "base_uri": "https://localhost:8080/"
        },
        "id": "xi6isGUyxgnf",
        "outputId": "5abca23e-00e7-46eb-d0ce-8de39fac04b8"
      },
      "execution_count": null,
      "outputs": [
        {
          "output_type": "execute_result",
          "data": {
            "text/plain": [
              "array([[45, 19, 47, 45, 33],\n",
              "       [14, 24, 21, 38, 15],\n",
              "       [24, 21, 23, 49, 16],\n",
              "       [18, 46, 15, 42, 44],\n",
              "       [39, 31, 15, 16, 11],\n",
              "       [ 1,  2,  3,  4,  5]])"
            ]
          },
          "metadata": {},
          "execution_count": 37
        }
      ]
    },
    {
      "cell_type": "code",
      "source": [
        "arr"
      ],
      "metadata": {
        "colab": {
          "base_uri": "https://localhost:8080/"
        },
        "id": "_Np2jFxOyM5w",
        "outputId": "33798bb1-75c1-48c7-b645-3e428d7a2a3a"
      },
      "execution_count": null,
      "outputs": [
        {
          "output_type": "execute_result",
          "data": {
            "text/plain": [
              "array([[57, 55, 70, 75, 87, 94],\n",
              "       [60, 52, 58, 86, 85, 67],\n",
              "       [62, 67, 77, 91, 61, 96],\n",
              "       [51, 52, 62, 73, 51, 72],\n",
              "       [83, 94, 73, 83, 84, 77],\n",
              "       [87, 76, 96, 92, 66, 63],\n",
              "       [74, 83, 72, 92, 70, 93],\n",
              "       [69, 73, 85, 55, 50, 83]])"
            ]
          },
          "metadata": {},
          "execution_count": 38
        }
      ]
    },
    {
      "cell_type": "code",
      "source": [
        "arr10, arr11 = np.hsplit(arr, 2)"
      ],
      "metadata": {
        "colab": {
          "base_uri": "https://localhost:8080/"
        },
        "id": "hXxQNsbjykXA",
        "outputId": "1950ee9d-78cc-499c-9007-d31f8ea3181d"
      },
      "execution_count": null,
      "outputs": [
        {
          "output_type": "execute_result",
          "data": {
            "text/plain": [
              "[array([[57, 55, 70],\n",
              "        [60, 52, 58],\n",
              "        [62, 67, 77],\n",
              "        [51, 52, 62],\n",
              "        [83, 94, 73],\n",
              "        [87, 76, 96],\n",
              "        [74, 83, 72],\n",
              "        [69, 73, 85]]),\n",
              " array([[75, 87, 94],\n",
              "        [86, 85, 67],\n",
              "        [91, 61, 96],\n",
              "        [73, 51, 72],\n",
              "        [83, 84, 77],\n",
              "        [92, 66, 63],\n",
              "        [92, 70, 93],\n",
              "        [55, 50, 83]])]"
            ]
          },
          "metadata": {},
          "execution_count": 39
        }
      ]
    },
    {
      "cell_type": "code",
      "source": [
        "np.vsplit(arr, 2)"
      ],
      "metadata": {
        "colab": {
          "base_uri": "https://localhost:8080/"
        },
        "id": "7oV62uT1zhSD",
        "outputId": "e2aea649-8bfe-422f-b75b-05d6f649f304"
      },
      "execution_count": null,
      "outputs": [
        {
          "output_type": "execute_result",
          "data": {
            "text/plain": [
              "[array([[57, 55, 70, 75, 87, 94],\n",
              "        [60, 52, 58, 86, 85, 67],\n",
              "        [62, 67, 77, 91, 61, 96],\n",
              "        [51, 52, 62, 73, 51, 72]]),\n",
              " array([[83, 94, 73, 83, 84, 77],\n",
              "        [87, 76, 96, 92, 66, 63],\n",
              "        [74, 83, 72, 92, 70, 93],\n",
              "        [69, 73, 85, 55, 50, 83]])]"
            ]
          },
          "metadata": {},
          "execution_count": 40
        }
      ]
    },
    {
      "cell_type": "code",
      "source": [],
      "metadata": {
        "id": "n0lHZtGf03K9"
      },
      "execution_count": null,
      "outputs": []
    }
  ]
}