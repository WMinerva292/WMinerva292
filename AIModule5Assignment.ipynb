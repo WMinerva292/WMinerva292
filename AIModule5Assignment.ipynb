{
  "nbformat": 4,
  "nbformat_minor": 0,
  "metadata": {
    "colab": {
      "provenance": [],
      "authorship_tag": "ABX9TyP637VAGTsk4bNAJ4McJNrC",
      "include_colab_link": true
    },
    "kernelspec": {
      "name": "python3",
      "display_name": "Python 3"
    },
    "language_info": {
      "name": "python"
    }
  },
  "cells": [
    {
      "cell_type": "markdown",
      "metadata": {
        "id": "view-in-github",
        "colab_type": "text"
      },
      "source": [
        "<a href=\"https://colab.research.google.com/github/WMinerva292/WMinerva292/blob/main/AIModule5Assignment.ipynb\" target=\"_parent\"><img src=\"https://colab.research.google.com/assets/colab-badge.svg\" alt=\"Open In Colab\"/></a>"
      ]
    },
    {
      "cell_type": "markdown",
      "source": [
        "# **Artificial Intelligence**\n",
        "\n",
        "# **Module 5: Introduction to Convolutional Neural Network - Assignment**"
      ],
      "metadata": {
        "id": "u7VSbwc2yZCE"
      }
    },
    {
      "cell_type": "markdown",
      "source": [
        "### **Problem Statement:**\n",
        "The task at hand involves classifying images of cats and dogs using a\n",
        "Convolutional Neural Network (CNN). We have a dataset containing images of\n",
        "cats and dogs and the objective is to train a CNN model to accurately predict the class of each image.\n",
        "\n",
        "### **Objectives:**\n",
        "\n",
        "**Data Preparation:**\n",
        "\n",
        "● Download and extract the cats vs. dogs dataset.\n",
        "\n",
        "● Organize the dataset into a structured directory format suitable for\n",
        "TensorFlow’s ImageDataGenerator.\n",
        "\n",
        "● Split the dataset into training and testing sets.\n",
        "\n",
        "**Data Augmentation and Preprocessing:**\n",
        "\n",
        "● Implement data augmentation techniques to increase the diversity of the\n",
        "training dataset, aiding in the model's ability to generalize.\n",
        "\n",
        "● Normalize the pixel values of the images for optimal model performance.\n",
        "Model Building:\n",
        "\n",
        "● Construct a Convolutional Neural Network using TensorFlow and Keras.\n",
        "\n",
        "● The model should contain multiple convolutional layers, pooling layers, and\n",
        "fully connected layers.\n",
        "\n",
        "**Training:**\n",
        "\n",
        "● Compile the model and train it on the prepared dataset.\n",
        "\n",
        "● Utilize categorical cross entropy as the loss function and stochastic\n",
        "gradient descent as the optimizer.\n",
        "\n",
        "● Train the model for a sufficient number of epochs to achieve good\n",
        "performance.\n",
        "\n",
        "**Evaluation:**\n",
        "\n",
        "● Evaluate the model's performance on the validation set during training to\n",
        "monitor for overfitting.\n",
        "\n",
        "● After training, assess the model's accuracy and make predictions on the\n",
        "test set.\n",
        "\n",
        "**Prediction:**\n",
        "\n",
        "● Implement a system to make predictions on new images, categorizing\n",
        "them as either cat or dog.\n",
        "\n",
        "● The system should be able to take an image (or a batch of images),\n",
        "preprocess it, and pass it through the model for prediction."
      ],
      "metadata": {
        "id": "qULDSohOy2iJ"
      }
    },
    {
      "cell_type": "markdown",
      "source": [
        "### **Step 1: Import Libraries**"
      ],
      "metadata": {
        "id": "Ew-xjruBGoze"
      }
    },
    {
      "cell_type": "code",
      "source": [
        "import tensorflow as tf\n",
        "from tensorflow.keras.preprocessing.image import ImageDataGenerator\n",
        "import matplotlib.pyplot as plt\n",
        "import numpy as np\n",
        "import os\n",
        "from sklearn.model_selection import train_test_split\n",
        "import shutil"
      ],
      "metadata": {
        "id": "8XxsVSlUHtDH"
      },
      "execution_count": null,
      "outputs": []
    },
    {
      "cell_type": "markdown",
      "source": [
        "### **Step 2: Data Preparation**"
      ],
      "metadata": {
        "id": "KjU1bEmhG_Gw"
      }
    },
    {
      "cell_type": "code",
      "source": [
        "import zipfile\n",
        "\n",
        "# Define the dataset URL\n",
        "url = 'https://storage.googleapis.com/mledu-datasets/cats_and_dogs_filtered.zip'\n",
        "\n",
        "# Download the dataset\n",
        "path_to_zip = tf.keras.utils.get_file('cats_and_dogs.zip', origin=url, extract=False)\n",
        "\n",
        "# Define base directory where the dataset should be extracted\n",
        "base_dir = os.path.join(os.path.dirname(path_to_zip), 'cats_and_dogs_filtered')\n",
        "\n",
        "# Extract manually if not already extracted\n",
        "if not os.path.exists(base_dir):\n",
        "    with zipfile.ZipFile(path_to_zip, 'r') as zip_ref:\n",
        "        zip_ref.extractall(os.path.dirname(path_to_zip))\n",
        "\n",
        "# Verify extraction\n",
        "print(\"Base Directory Exists:\", os.path.exists(base_dir))\n",
        "print(\"Contents of Base Directory:\", os.listdir(base_dir) if os.path.exists(base_dir) else \"Not found\")\n"
      ],
      "metadata": {
        "colab": {
          "base_uri": "https://localhost:8080/"
        },
        "id": "ZNTnCUpovJjh",
        "outputId": "44a439e9-3a14-438a-b581-5602b96ef69d"
      },
      "execution_count": null,
      "outputs": [
        {
          "output_type": "stream",
          "name": "stdout",
          "text": [
            "Downloading data from https://storage.googleapis.com/mledu-datasets/cats_and_dogs_filtered.zip\n",
            "\u001b[1m68606236/68606236\u001b[0m \u001b[32m━━━━━━━━━━━━━━━━━━━━\u001b[0m\u001b[37m\u001b[0m \u001b[1m1s\u001b[0m 0us/step\n",
            "Base Directory Exists: True\n",
            "Contents of Base Directory: ['train', 'validation', 'vectorize.py']\n"
          ]
        }
      ]
    },
    {
      "cell_type": "code",
      "source": [
        "train_dir = os.path.join(base_dir, 'train')\n",
        "print(\"Train Directory Exists:\", os.path.exists(train_dir))\n",
        "print(\"Contents of Base Directory:\", os.listdir(base_dir))\n"
      ],
      "metadata": {
        "colab": {
          "base_uri": "https://localhost:8080/"
        },
        "id": "VuO9heInvQ2g",
        "outputId": "562e72c3-96e6-4808-aea5-6846def19070"
      },
      "execution_count": null,
      "outputs": [
        {
          "output_type": "stream",
          "name": "stdout",
          "text": [
            "Train Directory Exists: True\n",
            "Contents of Base Directory: ['train', 'validation', 'vectorize.py']\n"
          ]
        }
      ]
    },
    {
      "cell_type": "code",
      "source": [
        "# Define Paths for Dataset\n",
        "original_train_dir = os.path.join(base_dir, 'train')\n",
        "train_dir = os.path.join(base_dir, 'train_split')\n",
        "test_dir = os.path.join(base_dir, 'test_split')"
      ],
      "metadata": {
        "id": "UQdj3lOiH3ia"
      },
      "execution_count": null,
      "outputs": []
    },
    {
      "cell_type": "code",
      "source": [
        "# Create train and test directories\n",
        "os.makedirs(train_dir, exist_ok=True)\n",
        "os.makedirs(test_dir, exist_ok=True)"
      ],
      "metadata": {
        "id": "NPICnNzjIBV1"
      },
      "execution_count": null,
      "outputs": []
    },
    {
      "cell_type": "code",
      "source": [
        "def split_data(source_dir, train_dir, test_dir, split_size=0.8):\n",
        "    categories = ['cats', 'dogs']\n",
        "    for category in categories:\n",
        "        source_category_dir = os.path.join(source_dir, category)\n",
        "        if not os.path.exists(source_category_dir):\n",
        "            print(f\"Error: Source directory {source_category_dir} not found!\")\n",
        "            continue  # Skip if category folder is missing\n",
        "\n",
        "        train_category_dir = os.path.join(train_dir, category)\n",
        "        test_category_dir = os.path.join(test_dir, category)\n",
        "\n",
        "        os.makedirs(train_category_dir, exist_ok=True)\n",
        "        os.makedirs(test_category_dir, exist_ok=True)\n",
        "\n",
        "        files = os.listdir(source_category_dir)\n",
        "        if len(files) == 0:\n",
        "            print(f\"Warning: No files found in {source_category_dir}\")\n",
        "            continue\n",
        "\n",
        "        train_files, test_files = train_test_split(files, train_size=split_size, random_state=42)\n",
        "\n",
        "        for file in train_files:\n",
        "            shutil.copy(os.path.join(source_category_dir, file), os.path.join(train_category_dir, file))\n",
        "\n",
        "        for file in test_files:\n",
        "            shutil.copy(os.path.join(source_category_dir, file), os.path.join(test_category_dir, file))\n",
        "\n",
        "split_data(original_train_dir, train_dir, test_dir)\n"
      ],
      "metadata": {
        "id": "vzhmYNB_QFC9"
      },
      "execution_count": null,
      "outputs": []
    },
    {
      "cell_type": "code",
      "source": [
        "# Call the split_data function to populate train_dir and test_dir\n",
        "split_data(original_train_dir, train_dir, test_dir, split_size=0.8) # This line is crucial!"
      ],
      "metadata": {
        "id": "92xv12gjKqen"
      },
      "execution_count": null,
      "outputs": []
    },
    {
      "cell_type": "markdown",
      "source": [
        "### **Step 3: Data Augmentation and Preprocessing**"
      ],
      "metadata": {
        "id": "mjAbky3FIGw0"
      }
    },
    {
      "cell_type": "code",
      "source": [
        "# Data Augmentation and Preprocessing\n",
        "train_datagen = ImageDataGenerator(\n",
        "    rescale=1./255,\n",
        "    rotation_range=40,\n",
        "    width_shift_range=0.2,\n",
        "    height_shift_range=0.2,\n",
        "    shear_range=0.2,\n",
        "    zoom_range=0.2,\n",
        "    horizontal_flip=True,\n",
        "    fill_mode='nearest')\n",
        "\n",
        "validation_datagen = ImageDataGenerator(rescale=1./255)\n",
        "\n",
        "train_generator = train_datagen.flow_from_directory(\n",
        "    train_dir,\n",
        "    target_size=(150, 150),\n",
        "    batch_size=32,\n",
        "    class_mode='binary')\n",
        "\n",
        "validation_generator = validation_datagen.flow_from_directory(\n",
        "    test_dir,\n",
        "    target_size=(150, 150),\n",
        "    batch_size=32,\n",
        "    class_mode='binary')"
      ],
      "metadata": {
        "colab": {
          "base_uri": "https://localhost:8080/"
        },
        "id": "OMD2oJXqJpeA",
        "outputId": "a5563dde-028b-49a9-ce39-aad47e4c2826"
      },
      "execution_count": null,
      "outputs": [
        {
          "output_type": "stream",
          "name": "stdout",
          "text": [
            "Found 1600 images belonging to 2 classes.\n",
            "Found 400 images belonging to 2 classes.\n"
          ]
        }
      ]
    },
    {
      "cell_type": "code",
      "source": [
        "# Build the CNN Model\n",
        "model = tf.keras.models.Sequential([\n",
        "    tf.keras.layers.Input(shape=(150, 150, 3)),\n",
        "    tf.keras.layers.Conv2D(32, (3,3), activation='relu'),\n",
        "    tf.keras.layers.MaxPooling2D(2,2),\n",
        "    tf.keras.layers.Conv2D(64, (3,3), activation='relu'),\n",
        "    tf.keras.layers.MaxPooling2D(2,2),\n",
        "    tf.keras.layers.Conv2D(128, (3,3), activation='relu'),\n",
        "    tf.keras.layers.MaxPooling2D(2,2),\n",
        "    tf.keras.layers.Conv2D(128, (3,3), activation='relu'),\n",
        "    tf.keras.layers.MaxPooling2D(2,2),\n",
        "    tf.keras.layers.Flatten(),\n",
        "    tf.keras.layers.Dense(512, activation='relu'),\n",
        "    tf.keras.layers.Dense(1, activation='sigmoid')\n",
        "])"
      ],
      "metadata": {
        "id": "ivLE_JMcJra5"
      },
      "execution_count": null,
      "outputs": []
    },
    {
      "cell_type": "markdown",
      "source": [
        "### **Step 4: Training the Model**"
      ],
      "metadata": {
        "id": "99VfzZRHLmbU"
      }
    },
    {
      "cell_type": "code",
      "source": [
        " # Compile the Model\n",
        "model.compile(loss='binary_crossentropy',\n",
        "              optimizer=tf.keras.optimizers.Adam(),\n",
        "              metrics=['accuracy'])\n"
      ],
      "metadata": {
        "id": "5EdC6reFJwfT"
      },
      "execution_count": null,
      "outputs": []
    },
    {
      "cell_type": "code",
      "source": [
        "print(\"Training directory:\", train_dir, \"->\", os.listdir(train_dir))\n",
        "print(\"Testing directory:\", test_dir, \"->\", os.listdir(test_dir))\n",
        "\n",
        "for category in ['cats', 'dogs']:\n",
        "    print(f\"{category} in training set:\", len(os.listdir(os.path.join(train_dir, category))))\n",
        "    print(f\"{category} in test set:\", len(os.listdir(os.path.join(test_dir, category))))\n"
      ],
      "metadata": {
        "colab": {
          "base_uri": "https://localhost:8080/"
        },
        "id": "eEGaottgPr4o",
        "outputId": "f7fa8d78-e461-4ae7-9f5e-52d6137496af"
      },
      "execution_count": null,
      "outputs": [
        {
          "output_type": "stream",
          "name": "stdout",
          "text": [
            "Training directory: /root/.keras/datasets/cats_and_dogs_filtered/train_split -> ['cats', 'dogs']\n",
            "Testing directory: /root/.keras/datasets/cats_and_dogs_filtered/test_split -> ['cats', 'dogs']\n",
            "cats in training set: 800\n",
            "cats in test set: 200\n",
            "dogs in training set: 800\n",
            "dogs in test set: 200\n"
          ]
        }
      ]
    },
    {
      "cell_type": "code",
      "source": [
        "# Step 6: Train the Model\n",
        "epochs = 15  # Define the number of epochs\n",
        "\n",
        "history = model.fit(\n",
        "    train_generator,\n",
        "    steps_per_epoch=len(train_generator),  # Dynamically set based on available data\n",
        "    epochs=epochs,\n",
        "    validation_data=validation_generator,\n",
        "    validation_steps=len(validation_generator)\n",
        ")\n"
      ],
      "metadata": {
        "colab": {
          "base_uri": "https://localhost:8080/"
        },
        "id": "O_I1lzSjv7ds",
        "outputId": "c8038582-9a85-48e8-edf3-099734dfe9f5"
      },
      "execution_count": null,
      "outputs": [
        {
          "output_type": "stream",
          "name": "stderr",
          "text": [
            "/usr/local/lib/python3.11/dist-packages/keras/src/trainers/data_adapters/py_dataset_adapter.py:121: UserWarning: Your `PyDataset` class should call `super().__init__(**kwargs)` in its constructor. `**kwargs` can include `workers`, `use_multiprocessing`, `max_queue_size`. Do not pass these arguments to `fit()`, as they will be ignored.\n",
            "  self._warn_if_super_not_called()\n"
          ]
        },
        {
          "output_type": "stream",
          "name": "stdout",
          "text": [
            "Epoch 1/15\n",
            "\u001b[1m50/50\u001b[0m \u001b[32m━━━━━━━━━━━━━━━━━━━━\u001b[0m\u001b[37m\u001b[0m \u001b[1m79s\u001b[0m 1s/step - accuracy: 0.4854 - loss: 0.7062 - val_accuracy: 0.5000 - val_loss: 0.7545\n",
            "Epoch 2/15\n",
            "\u001b[1m50/50\u001b[0m \u001b[32m━━━━━━━━━━━━━━━━━━━━\u001b[0m\u001b[37m\u001b[0m \u001b[1m61s\u001b[0m 1s/step - accuracy: 0.5444 - loss: 0.6953 - val_accuracy: 0.5200 - val_loss: 0.6907\n",
            "Epoch 3/15\n",
            "\u001b[1m50/50\u001b[0m \u001b[32m━━━━━━━━━━━━━━━━━━━━\u001b[0m\u001b[37m\u001b[0m \u001b[1m83s\u001b[0m 1s/step - accuracy: 0.5078 - loss: 0.6942 - val_accuracy: 0.5000 - val_loss: 0.6930\n",
            "Epoch 4/15\n",
            "\u001b[1m50/50\u001b[0m \u001b[32m━━━━━━━━━━━━━━━━━━━━\u001b[0m\u001b[37m\u001b[0m \u001b[1m61s\u001b[0m 1s/step - accuracy: 0.5207 - loss: 0.6926 - val_accuracy: 0.5000 - val_loss: 0.6994\n",
            "Epoch 5/15\n",
            "\u001b[1m50/50\u001b[0m \u001b[32m━━━━━━━━━━━━━━━━━━━━\u001b[0m\u001b[37m\u001b[0m \u001b[1m81s\u001b[0m 1s/step - accuracy: 0.5171 - loss: 0.6939 - val_accuracy: 0.5450 - val_loss: 0.6924\n",
            "Epoch 6/15\n",
            "\u001b[1m50/50\u001b[0m \u001b[32m━━━━━━━━━━━━━━━━━━━━\u001b[0m\u001b[37m\u001b[0m \u001b[1m90s\u001b[0m 1s/step - accuracy: 0.5275 - loss: 0.6928 - val_accuracy: 0.5650 - val_loss: 0.6914\n",
            "Epoch 7/15\n",
            "\u001b[1m50/50\u001b[0m \u001b[32m━━━━━━━━━━━━━━━━━━━━\u001b[0m\u001b[37m\u001b[0m \u001b[1m65s\u001b[0m 1s/step - accuracy: 0.5549 - loss: 0.6896 - val_accuracy: 0.5275 - val_loss: 0.6924\n",
            "Epoch 8/15\n",
            "\u001b[1m50/50\u001b[0m \u001b[32m━━━━━━━━━━━━━━━━━━━━\u001b[0m\u001b[37m\u001b[0m \u001b[1m79s\u001b[0m 1s/step - accuracy: 0.5067 - loss: 0.6937 - val_accuracy: 0.5900 - val_loss: 0.6895\n",
            "Epoch 9/15\n",
            "\u001b[1m50/50\u001b[0m \u001b[32m━━━━━━━━━━━━━━━━━━━━\u001b[0m\u001b[37m\u001b[0m \u001b[1m70s\u001b[0m 1s/step - accuracy: 0.5658 - loss: 0.6885 - val_accuracy: 0.5650 - val_loss: 0.6768\n",
            "Epoch 10/15\n",
            "\u001b[1m50/50\u001b[0m \u001b[32m━━━━━━━━━━━━━━━━━━━━\u001b[0m\u001b[37m\u001b[0m \u001b[1m75s\u001b[0m 1s/step - accuracy: 0.5724 - loss: 0.6840 - val_accuracy: 0.5425 - val_loss: 0.6857\n",
            "Epoch 11/15\n",
            "\u001b[1m50/50\u001b[0m \u001b[32m━━━━━━━━━━━━━━━━━━━━\u001b[0m\u001b[37m\u001b[0m \u001b[1m82s\u001b[0m 1s/step - accuracy: 0.5737 - loss: 0.6812 - val_accuracy: 0.6125 - val_loss: 0.6724\n",
            "Epoch 12/15\n",
            "\u001b[1m50/50\u001b[0m \u001b[32m━━━━━━━━━━━━━━━━━━━━\u001b[0m\u001b[37m\u001b[0m \u001b[1m82s\u001b[0m 1s/step - accuracy: 0.5818 - loss: 0.6726 - val_accuracy: 0.6075 - val_loss: 0.6745\n",
            "Epoch 13/15\n",
            "\u001b[1m50/50\u001b[0m \u001b[32m━━━━━━━━━━━━━━━━━━━━\u001b[0m\u001b[37m\u001b[0m \u001b[1m63s\u001b[0m 1s/step - accuracy: 0.5923 - loss: 0.6745 - val_accuracy: 0.5775 - val_loss: 0.6901\n",
            "Epoch 14/15\n",
            "\u001b[1m50/50\u001b[0m \u001b[32m━━━━━━━━━━━━━━━━━━━━\u001b[0m\u001b[37m\u001b[0m \u001b[1m67s\u001b[0m 1s/step - accuracy: 0.5801 - loss: 0.6767 - val_accuracy: 0.5075 - val_loss: 0.6965\n",
            "Epoch 15/15\n",
            "\u001b[1m50/50\u001b[0m \u001b[32m━━━━━━━━━━━━━━━━━━━━\u001b[0m\u001b[37m\u001b[0m \u001b[1m77s\u001b[0m 1s/step - accuracy: 0.5576 - loss: 0.6713 - val_accuracy: 0.6300 - val_loss: 0.6431\n"
          ]
        }
      ]
    },
    {
      "cell_type": "markdown",
      "source": [
        "### **Step 5: Model Evaluation**"
      ],
      "metadata": {
        "id": "NEalC9zDMmM6"
      }
    },
    {
      "cell_type": "code",
      "source": [
        "# Evaluate the Model\n",
        "acc = history.history['accuracy']\n",
        "val_acc = history.history['val_accuracy']\n",
        "loss = history.history['loss']\n",
        "val_loss = history.history['val_loss']\n",
        "\n",
        "plt.figure(figsize=(8, 4))\n",
        "plt.subplot(1, 2, 1)\n",
        "plt.plot(range(epochs), acc, label='Training Accuracy')\n",
        "plt.plot(range(epochs), val_acc, label='Validation Accuracy')\n",
        "plt.legend()\n",
        "plt.title('Training and Validation Accuracy')\n",
        "\n",
        "plt.subplot(1, 2, 2)\n",
        "plt.plot(range(epochs), loss, label='Training Loss')\n",
        "plt.plot(range(epochs), val_loss, label='Validation Loss')\n",
        "plt.legend()\n",
        "plt.title('Training and Validation Loss')\n",
        "plt.show()"
      ],
      "metadata": {
        "colab": {
          "base_uri": "https://localhost:8080/",
          "height": 391
        },
        "id": "5mmvnhTSwtc1",
        "outputId": "83392fd2-92a9-4cd8-8afb-263bdace92ae"
      },
      "execution_count": null,
      "outputs": [
        {
          "output_type": "display_data",
          "data": {
            "text/plain": [
              "<Figure size 800x400 with 2 Axes>"
            ],
            "image/png": "[encoded data removed]"
          },
          "metadata": {}
        }
      ]
    },
    {
      "cell_type": "markdown",
      "source": [
        "### **Step 6: Model Prediction**"
      ],
      "metadata": {
        "id": "YNGUZ3nXMxUu"
      }
    },
    {
      "cell_type": "code",
      "source": [
        "# Step 8: Predict on New Images\n",
        "def predict_image(image_path, model):\n",
        "    from tensorflow.keras.preprocessing import image\n",
        "    img = image.load_img(image_path, target_size=(150, 150))\n",
        "    img_array = image.img_to_array(img)\n",
        "    img_array = np.expand_dims(img_array, axis=0) / 255.0\n",
        "    prediction = model.predict(img_array)\n",
        "    return 'Dog' if prediction[0] > 0.5 else 'Cat'"
      ],
      "metadata": {
        "id": "2UCRzGBAwvJ_"
      },
      "execution_count": null,
      "outputs": []
    }
  ]
}