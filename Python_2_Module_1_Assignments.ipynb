{
  "nbformat": 4,
  "nbformat_minor": 0,
  "metadata": {
    "colab": {
      "provenance": [],
      "authorship_tag": "ABX9TyNxX4UUNxMhawJ3RUyyY6/5",
      "include_colab_link": true
    },
    "kernelspec": {
      "name": "python3",
      "display_name": "Python 3"
    },
    "language_info": {
      "name": "python"
    }
  },
  "cells": [
    {
      "cell_type": "markdown",
      "metadata": {
        "id": "view-in-github",
        "colab_type": "text"
      },
      "source": [
        "<a href=\"https://colab.research.google.com/github/WMinerva292/WMinerva292/blob/main/Python_2_Module_1_Assignments.ipynb\" target=\"_parent\"><img src=\"https://colab.research.google.com/assets/colab-badge.svg\" alt=\"Open In Colab\"/></a>"
      ]
    },
    {
      "cell_type": "markdown",
      "source": [
        "# **Module 1 Assignments**"
      ],
      "metadata": {
        "id": "H9E9CVk9kK13"
      }
    },
    {
      "cell_type": "markdown",
      "source": [
        "## **Assignment 1: If-Else Statement**\n",
        "\n",
        "**Problem Statement:** You work in XYZ Corporation as a Data Analyst. Your company has told you to work with the if-else condition.\n",
        "\n",
        "**Tasks To Be Perform:**\n",
        "1. Input the values of a and b as 10 and 20 respectively. Now check if a is greater or b is greater using if condition. Think about all the edge cases, and print the statements accordingly."
      ],
      "metadata": {
        "id": "X7_jF_sPhMI-"
      }
    },
    {
      "cell_type": "code",
      "source": [
        "# Input values\n",
        "a = 10\n",
        "b = 20\n",
        "\n",
        "# Check if a is greater or b is greater\n",
        "if a > b:\n",
        "    print(\"a is greater than b\")\n",
        "else:\n",
        "    print(\"b is greater than a\")"
      ],
      "metadata": {
        "colab": {
          "base_uri": "https://localhost:8080/"
        },
        "id": "b2vVDnFaiQkL",
        "outputId": "7236df50-d944-4059-ca9a-5581f7acbdfd"
      },
      "execution_count": null,
      "outputs": [
        {
          "output_type": "stream",
          "name": "stdout",
          "text": [
            "b is greater than a\n"
          ]
        }
      ]
    },
    {
      "cell_type": "markdown",
      "source": [
        "## **Assignment 2 - Conditional Statements**\n",
        "\n",
        "**Problem Statement:** You work in XYZ Corporation as a Data Analyst. Your company has told you to work with the if-else condition.\n",
        "\n",
        "**Tasks To Be Performed:**\n",
        "1. Take three user inputs and print the greatest number from those inputs using if-else condition. Edge cases, if any, should also be handled."
      ],
      "metadata": {
        "id": "CCI6leDvkWnY"
      }
    },
    {
      "cell_type": "code",
      "source": [
        "# Input values\n",
        "a = float(input(\"Enter the first number: \"))\n",
        "b = float(input(\"Enter the second number: \"))\n",
        "c = float(input(\"Enter the third number: \"))\n",
        "\n",
        "# Check the greatest\n",
        "if a >= b and a >= c:\n",
        "    print(\"The greatest number is:\", a)\n",
        "elif b >= a and b >= c:\n",
        "    print(\"The greatest number is:\", b)\n",
        "else:\n",
        "    print(\"The greatest number is:\", c)"
      ],
      "metadata": {
        "colab": {
          "base_uri": "https://localhost:8080/"
        },
        "id": "3UejLGQ5leBM",
        "outputId": "f64597e0-cf06-4039-fa5f-24b3404598d0"
      },
      "execution_count": null,
      "outputs": [
        {
          "output_type": "stream",
          "name": "stdout",
          "text": [
            "Enter the first number: 10\n",
            "Enter the second number: 20\n",
            "Enter the third number: 30\n",
            "The greatest number is: 30.0\n"
          ]
        }
      ]
    },
    {
      "cell_type": "code",
      "source": [
        "#Input values\n",
        "a = 10\n",
        "b = 20\n",
        "c = 30\n",
        "\n",
        "# Check the greatest number\n",
        "if a >= b and a >= c:\n",
        "    print(\"The greatest number is a\")\n",
        "elif b >= a and b >= c:\n",
        "    print(\"The greatest number is b\")\n",
        "else:\n",
        "    print(\"The greatest number is c\")"
      ],
      "metadata": {
        "colab": {
          "base_uri": "https://localhost:8080/"
        },
        "id": "u14q_x4SmME_",
        "outputId": "857b598a-9e76-48df-9b10-559d973f0189"
      },
      "execution_count": 6,
      "outputs": [
        {
          "output_type": "stream",
          "name": "stdout",
          "text": [
            "The greatest number is c\n"
          ]
        }
      ]
    },
    {
      "cell_type": "markdown",
      "source": [
        "## **Assignment 3 - Loops Assignment 1**\n",
        "\n",
        "**Problem Statement:** You work in XYZ Corporation as a Data Analyst. Your company has told you to work with the looping statements.\n",
        "\n",
        "**Tasks To Be Performed:**\n",
        "1. Print the numbers from 1 to 10 using while loop."
      ],
      "metadata": {
        "id": "aBuCU8YpnsH4"
      }
    },
    {
      "cell_type": "code",
      "source": [
        "# While loop:\n",
        "\n",
        "i = 1\n",
        "while i <= 10:\n",
        "    print(i)\n",
        "    i += 1"
      ],
      "metadata": {
        "colab": {
          "base_uri": "https://localhost:8080/"
        },
        "id": "gIeroBFwu5C_",
        "outputId": "081c7281-e046-4778-9687-20f5a83978aa"
      },
      "execution_count": 2,
      "outputs": [
        {
          "output_type": "stream",
          "name": "stdout",
          "text": [
            "1\n",
            "2\n",
            "3\n",
            "4\n",
            "5\n",
            "6\n",
            "7\n",
            "8\n",
            "9\n",
            "10\n"
          ]
        }
      ]
    },
    {
      "cell_type": "markdown",
      "source": [
        "## **Assignment 4 - Loops Assignment 2**\n",
        "\n",
        "**Problem Statement:** You work in XYZ Corporation as a Data Analyst. Your company has told you to work with the looping statements.\n",
        "\n",
        "**Tasks to Be Performed:**\n",
        "1. Create a list that has 10, 23, 4, 26, 4, 75, 24, 54 values and with the help of while loop fetch the even numbers and print the numbers."
      ],
      "metadata": {
        "id": "f8W-Kc8mvQ_F"
      }
    },
    {
      "cell_type": "code",
      "source": [
        "# List\n",
        "values = [10, 23, 4, 26, 4, 75, 24, 54]\n",
        "\n",
        "# While loop\n",
        "i = 0\n",
        "while i < len(values):\n",
        "    if values[i] % 2 == 0:\n",
        "        print(values[i])\n",
        "    i += 1"
      ],
      "metadata": {
        "colab": {
          "base_uri": "https://localhost:8080/"
        },
        "id": "Jup5_ghlwcjF",
        "outputId": "4b682bb6-4560-4fd7-b862-8e82873b3c5b"
      },
      "execution_count": 3,
      "outputs": [
        {
          "output_type": "stream",
          "name": "stdout",
          "text": [
            "10\n",
            "4\n",
            "26\n",
            "4\n",
            "24\n",
            "54\n"
          ]
        }
      ]
    },
    {
      "cell_type": "markdown",
      "source": [
        "## **Assignment 5 - Loops Assignment 3**\n",
        "\n",
        "**Problem Statement:** You work in XYZ Corporation as a Data Analyst. Your company has told you to work with the looping statements.\n",
        "\n",
        "**Tasks To Be Performed:**\n",
        "1. Create an array that has user defined inputs and with the help of for loop, fetch all the prime numbers and print the numbers."
      ],
      "metadata": {
        "id": "wqOsNC_8xORk"
      }
    },
    {
      "cell_type": "code",
      "source": [
        "# User-Defined Inputs\n",
        "array = [1, 2, 3, 4, 5, 6, 7, 8, 9, 10]\n",
        "\n",
        "# For loop\n",
        "for num in array:\n",
        "    if num > 1:\n",
        "        for i in range(2, num):\n",
        "            if (num % i) == 0:\n",
        "                break\n",
        "        else:\n",
        "            print(num)"
      ],
      "metadata": {
        "colab": {
          "base_uri": "https://localhost:8080/"
        },
        "id": "I4vux89dvPtP",
        "outputId": "3d843a81-e658-4535-8ba1-2609266fe17d"
      },
      "execution_count": 4,
      "outputs": [
        {
          "output_type": "stream",
          "name": "stdout",
          "text": [
            "2\n",
            "3\n",
            "5\n",
            "7\n"
          ]
        }
      ]
    },
    {
      "cell_type": "markdown",
      "source": [
        "## **Case Study 1 - Getting Started With Python**\n",
        "\n",
        "**Problem Statement:**\n",
        "Consider yourself to be Sam who is a Data Scientist. He has been invited as a guest lecturer at a college to take an introductory session on Python.\n",
        "\n",
        "**Tasks To Be Performed:**\n",
        "1. Create a list containing squares of numbers from 1 to 10 (HINT: Use List Comprehension).\n",
        "2. Write a function to check if the year number is a leap year.\n",
        "3. Write a function to take an array and return another array that contains the members of the first array that are even.\n",
        "4. Write a function that takes 2 arrays and prints the members of the first array that are present in the second array. (HINT: Use Membership Comprehension)"
      ],
      "metadata": {
        "id": "Ms_n6_Ovyp3w"
      }
    },
    {
      "cell_type": "code",
      "source": [
        "# 1. List containing squares of numbers from 1 to 10\n",
        "\n",
        "x = [x**2 for x in range(1, 11)]\n",
        "print(x)"
      ],
      "metadata": {
        "colab": {
          "base_uri": "https://localhost:8080/"
        },
        "id": "xRHIF9X309s_",
        "outputId": "633641dc-30f6-467f-8638-6c1468b8abc1"
      },
      "execution_count": 5,
      "outputs": [
        {
          "output_type": "stream",
          "name": "stdout",
          "text": [
            "[1, 4, 9, 16, 25, 36, 49, 64, 81, 100]\n"
          ]
        }
      ]
    },
    {
      "cell_type": "code",
      "source": [
        "# 2. To write a function to check if the year is a leap year.\n",
        "\n",
        "def is_leap_year(year):\n",
        "    if (year % 4 == 0 and year % 100 != 0) or (year % 400 == 0):\n",
        "        return True\n",
        "    else:\n",
        "        return False"
      ],
      "metadata": {
        "id": "t-kZYDKF1wji"
      },
      "execution_count": 7,
      "outputs": []
    },
    {
      "cell_type": "code",
      "source": [
        "# Example usage:\n",
        "\n",
        "year = 2024\n",
        "if is_leap_year(year):\n",
        "    print(f\"{year} is a leap year.\")\n",
        "else:\n",
        "    print(f\"{year} is not a leap year.\")"
      ],
      "metadata": {
        "colab": {
          "base_uri": "https://localhost:8080/"
        },
        "id": "u3Mp5KxB5fbd",
        "outputId": "3861b79a-976f-4955-ccaa-1d06b8cd2c10"
      },
      "execution_count": 11,
      "outputs": [
        {
          "output_type": "stream",
          "name": "stdout",
          "text": [
            "2024 is a leap year.\n"
          ]
        }
      ]
    },
    {
      "cell_type": "code",
      "source": [
        "# Example Usage 2:\n",
        "\n",
        "print(is_leap_year(2023))"
      ],
      "metadata": {
        "colab": {
          "base_uri": "https://localhost:8080/"
        },
        "id": "zksY8ce8548q",
        "outputId": "a2f21cc6-6eec-4226-a04f-908fdb44ad60"
      },
      "execution_count": 13,
      "outputs": [
        {
          "output_type": "stream",
          "name": "stdout",
          "text": [
            "False\n"
          ]
        }
      ]
    },
    {
      "cell_type": "code",
      "source": [
        "# 3. Function to return even numbers from an array\n",
        "\n",
        "def get_even_numbers(arr):\n",
        "    return [x for x in arr if x % 2 == 0]\n",
        "\n",
        "# Example Usage:\n",
        "\n",
        "print (get_even_numbers([1, 2, 3, 4, 5, 6]))\n"
      ],
      "metadata": {
        "colab": {
          "base_uri": "https://localhost:8080/"
        },
        "id": "acWhVZ8m8Upk",
        "outputId": "a04687b5-5b5a-4931-952f-f506ed640357"
      },
      "execution_count": 19,
      "outputs": [
        {
          "output_type": "stream",
          "name": "stdout",
          "text": [
            "[2, 4, 6]\n"
          ]
        }
      ]
    },
    {
      "cell_type": "code",
      "source": [
        "# 4. Function to print members of the first array that are present in the second array.\n",
        "\n",
        "def print_common_elements(arr1, arr2):\n",
        "  common_elements = [x for x in arr1 if x in arr2]\n",
        "  print(common_elements)\n",
        "\n",
        "# Example usages:\n",
        "\n",
        "print_common_elements([1, 2, 3, 4, 5], [3, 4, 5, 6, 7])"
      ],
      "metadata": {
        "colab": {
          "base_uri": "https://localhost:8080/"
        },
        "id": "2DDFd5uS8GV0",
        "outputId": "e030d70a-d46b-4cc5-8421-777805497e04"
      },
      "execution_count": 18,
      "outputs": [
        {
          "output_type": "stream",
          "name": "stdout",
          "text": [
            "[3, 4, 5]\n"
          ]
        }
      ]
    },
    {
      "cell_type": "markdown",
      "source": [
        "## **Case Study 2 - Introduction To Python**\n",
        "\n",
        "**Problem Statement:**\n",
        "\n",
        "Consider yourself to be Sam who is a data scientist. He has been invited as a\n",
        "guest lecturer at a college to take an introductory session on Python.\n",
        "\n",
        "**Tasks To Be Performed:**\n",
        "1. Create 1st tuple with values -> (10, 20, 30), 2nd tuple with values -> (40,\n",
        "50, 60):\n",
        "\n",
        "a. Concatenate the two tuples and store it in “t_combine”\n",
        "\n",
        "b. Repeat the elements of “t_combine” 3 times\n",
        "\n",
        "c. Access the 3rd element from “t_combine”\n",
        "\n",
        "d. Access the first three elements from “t_combine”\n",
        "\n",
        "e. Access the last three elements from “t_combine”\n",
        "\n",
        "2. Create a list ‘my_list’ with these elements:\n",
        "\n",
        "a. First element is a tuple with values 1, 2, 3\n",
        "\n",
        "b. Second element is a tuple with values “a”, “b”, “c”\n",
        "\n",
        "c. Third element is a tuple with values True, False\n",
        "\n",
        "3. Append a new tuple – (1, ‘a’, True) to ‘my_list’:\n",
        "\n",
        "a. Append a new list – [“sparta”, 123] to my_list\n",
        "\n",
        "4. Create a dictionary ‘fruit’ where:\n",
        "\n",
        "a. The first key is ‘Fruit’ and the values are (“Apple”, “Banana”, “Mango”,\n",
        "“Guava”)\n",
        "\n",
        "b. The second key is ‘Cost’ and the values are (85, 54, 120, 70)\n",
        "\n",
        "c. Extract all the keys from ‘fruit’\n",
        "\n",
        "d. Extract all the values from ‘fruit’\n",
        "\n",
        "5. Create a set named ‘my_set’ with values (1, 1, “a”, “a”, True, True) and\n",
        "print the result."
      ],
      "metadata": {
        "id": "4jmLxGar8GFa"
      }
    },
    {
      "cell_type": "code",
      "source": [
        "# Task 1: To create tuples\n",
        "\n",
        "tuple1 = (10, 20, 30)\n",
        "tuple2 = (40, 50, 60)"
      ],
      "metadata": {
        "id": "U8cZx8HA_Cxi"
      },
      "execution_count": 1,
      "outputs": []
    },
    {
      "cell_type": "code",
      "source": [
        "# a. To concatenate the tuples\n",
        "\n",
        "t_combine = tuple1 + tuple2\n",
        "print(\"Concatenated tuple:\", t_combine)"
      ],
      "metadata": {
        "colab": {
          "base_uri": "https://localhost:8080/"
        },
        "id": "krFElw874gWw",
        "outputId": "abb55e06-2328-420c-b177-8bd2d0f803c3"
      },
      "execution_count": 2,
      "outputs": [
        {
          "output_type": "stream",
          "name": "stdout",
          "text": [
            "Concatenated tuple: (10, 20, 30, 40, 50, 60)\n"
          ]
        }
      ]
    },
    {
      "cell_type": "code",
      "source": [
        "# b. To repeat the elements of t_combine 3 times\n",
        "\n",
        "t_repeated = t_combine * 3\n",
        "print (\"Repeated element:\", t_repeated)"
      ],
      "metadata": {
        "colab": {
          "base_uri": "https://localhost:8080/"
        },
        "id": "Mswjh59b4_Ya",
        "outputId": "3d597262-d90f-49fc-9512-dcd27296e222"
      },
      "execution_count": 3,
      "outputs": [
        {
          "output_type": "stream",
          "name": "stdout",
          "text": [
            "Repeated element: (10, 20, 30, 40, 50, 60, 10, 20, 30, 40, 50, 60, 10, 20, 30, 40, 50, 60)\n"
          ]
        }
      ]
    },
    {
      "cell_type": "code",
      "source": [
        "# c. To access the 3rd element from t_combine\n",
        "\n",
        "third_element = t_combine[2]\n",
        "print (\"Third element of t_combine:\", third_element)"
      ],
      "metadata": {
        "colab": {
          "base_uri": "https://localhost:8080/"
        },
        "id": "x2qpoUz86I2X",
        "outputId": "0e62c2e0-021f-41b4-f959-4fa4bbd59cb7"
      },
      "execution_count": 4,
      "outputs": [
        {
          "output_type": "stream",
          "name": "stdout",
          "text": [
            "Third element of t_combine: 30\n"
          ]
        }
      ]
    },
    {
      "cell_type": "code",
      "source": [
        "# d. To access the first three elements from t_combine\n",
        "\n",
        "first_three_elements = t_combine[:3]\n",
        "print (\"First three elements from t_combine:\", first_three_elements)"
      ],
      "metadata": {
        "colab": {
          "base_uri": "https://localhost:8080/"
        },
        "id": "Cr1kNGW76nwo",
        "outputId": "6e9b852e-57f3-42f4-ec42-d8689368e721"
      },
      "execution_count": 5,
      "outputs": [
        {
          "output_type": "stream",
          "name": "stdout",
          "text": [
            "First three elements from t_combine: (10, 20, 30)\n"
          ]
        }
      ]
    },
    {
      "cell_type": "code",
      "source": [
        "# e. To access the last three elements from t_combine\n",
        "\n",
        "last_three_elements = t_combine[-3:]\n",
        "print (\"Last three elements from t_combine:\", last_three_elements)"
      ],
      "metadata": {
        "colab": {
          "base_uri": "https://localhost:8080/"
        },
        "id": "YUaa-dct7Uyc",
        "outputId": "c91f62c1-04eb-43f0-da8e-fb8a8326454d"
      },
      "execution_count": 6,
      "outputs": [
        {
          "output_type": "stream",
          "name": "stdout",
          "text": [
            "Last three elements from t_combine: (40, 50, 60)\n"
          ]
        }
      ]
    },
    {
      "cell_type": "code",
      "source": [
        "# Task 2: To create a list 'my list'\n",
        "\n",
        "my_list =  [(1, 2, 3), # a. first element as a tuple\n",
        "      (\"a\", \"b\", \"c\"), # b. second element as a tuple\n",
        "       (True, False)]  # c. third element as a tuple\n",
        "print(\"The list:\", my_list)"
      ],
      "metadata": {
        "colab": {
          "base_uri": "https://localhost:8080/"
        },
        "id": "sTb-sSVd7xXj",
        "outputId": "bc991cd0-f814-4a7f-95d7-553156151276"
      },
      "execution_count": 2,
      "outputs": [
        {
          "output_type": "stream",
          "name": "stdout",
          "text": [
            "The list: [(1, 2, 3), ('a', 'b', 'c'), (True, False)]\n"
          ]
        }
      ]
    },
    {
      "cell_type": "code",
      "source": [
        "# Task 3: To append a new tuple to my_list\n",
        "\n",
        "my_list.append((1, 'a', True))\n",
        "print(\"Updated list:\", my_list)"
      ],
      "metadata": {
        "colab": {
          "base_uri": "https://localhost:8080/"
        },
        "id": "6F5Ak3Nz9j-R",
        "outputId": "da2a7d78-0894-4ee8-80aa-d04f4bd90933"
      },
      "execution_count": 3,
      "outputs": [
        {
          "output_type": "stream",
          "name": "stdout",
          "text": [
            "Updated list: [(1, 2, 3), ('a', 'b', 'c'), (True, False), (1, 'a', True)]\n"
          ]
        }
      ]
    },
    {
      "cell_type": "code",
      "source": [
        "# a. To append a new list to my_list\n",
        "\n",
        "my_list.append([\"sparta\", 123])\n",
        "print(\"Updated list:\", my_list)"
      ],
      "metadata": {
        "colab": {
          "base_uri": "https://localhost:8080/"
        },
        "id": "yK5dovbbOLNr",
        "outputId": "2780d73b-2e70-4c36-e7c2-89f4e43464ef"
      },
      "execution_count": 4,
      "outputs": [
        {
          "output_type": "stream",
          "name": "stdout",
          "text": [
            "Updated list: [(1, 2, 3), ('a', 'b', 'c'), (True, False), (1, 'a', True), ['sparta', 123]]\n"
          ]
        }
      ]
    },
    {
      "cell_type": "code",
      "source": [
        "# Task 4: To create a dictionary 'fruit'\n",
        "\n",
        "fruit = {\n",
        "    'Fruit': ('Apple', 'Banana', 'Mango', 'Guava'), # a. The first given key-values pairs\n",
        "    'Cost': (85, 54, 120, 70)                       # b. The second given key-values pairs\n",
        "}"
      ],
      "metadata": {
        "id": "TvHnUfNiOjV0"
      },
      "execution_count": 5,
      "outputs": []
    },
    {
      "cell_type": "code",
      "source": [
        "# c. To extract all the keys from 'fruit'\n",
        "\n",
        "fruit_keys = fruit.keys()\n",
        "print(\"All the keys from 'fruit':\", fruit_keys)"
      ],
      "metadata": {
        "colab": {
          "base_uri": "https://localhost:8080/"
        },
        "id": "1p9h83EpPtp9",
        "outputId": "e30169cf-ffd6-496f-c4b7-0246448bb04a"
      },
      "execution_count": 7,
      "outputs": [
        {
          "output_type": "stream",
          "name": "stdout",
          "text": [
            "All the keys from 'fruit': dict_keys(['Fruit', 'Cost'])\n"
          ]
        }
      ]
    },
    {
      "cell_type": "code",
      "source": [
        "# d. To extract all the values from 'fruit'\n",
        "\n",
        "fruit_values = fruit.values()\n",
        "print(\"All the values from 'fruit':\", fruit_values)"
      ],
      "metadata": {
        "colab": {
          "base_uri": "https://localhost:8080/"
        },
        "id": "GUdTlJaLQUdz",
        "outputId": "124f6006-a30a-4b23-cdf9-26ef85709951"
      },
      "execution_count": 8,
      "outputs": [
        {
          "output_type": "stream",
          "name": "stdout",
          "text": [
            "All the values from 'fruit': dict_values([('Apple', 'Banana', 'Mango', 'Guava'), (85, 54, 120, 70)])\n"
          ]
        }
      ]
    },
    {
      "cell_type": "code",
      "source": [
        "# Task 5: To create a set named 'my_set'\n",
        "\n",
        "my_set = {1, 1, 'a', 'a', True, True}\n",
        "print(\"The set:\", my_set)"
      ],
      "metadata": {
        "colab": {
          "base_uri": "https://localhost:8080/"
        },
        "id": "Z3nWAzGSQqIP",
        "outputId": "f4783657-0fdc-4bd8-92d9-485f246a6539"
      },
      "execution_count": 9,
      "outputs": [
        {
          "output_type": "stream",
          "name": "stdout",
          "text": [
            "The set: {1, 'a'}\n"
          ]
        }
      ]
    },
    {
      "cell_type": "code",
      "source": [],
      "metadata": {
        "id": "UWx2jS08SXeH"
      },
      "execution_count": null,
      "outputs": []
    }
  ]
}