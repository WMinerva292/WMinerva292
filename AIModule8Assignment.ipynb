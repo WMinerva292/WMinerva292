{
  "nbformat": 4,
  "nbformat_minor": 0,
  "metadata": {
    "colab": {
      "provenance": [],
      "authorship_tag": "ABX9TyPJ9+rzv3SfEoImV3Ebf7DP",
      "include_colab_link": true
    },
    "kernelspec": {
      "name": "python3",
      "display_name": "Python 3"
    },
    "language_info": {
      "name": "python"
    }
  },
  "cells": [
    {
      "cell_type": "markdown",
      "metadata": {
        "id": "view-in-github",
        "colab_type": "text"
      },
      "source": [
        "<a href=\"https://colab.research.google.com/github/WMinerva292/WMinerva292/blob/main/AIModule8Assignment.ipynb\" target=\"_parent\"><img src=\"https://colab.research.google.com/assets/colab-badge.svg\" alt=\"Open In Colab\"/></a>"
      ]
    },
    {
      "cell_type": "markdown",
      "source": [
        "# **Artificial Intelligence**\n",
        "\n",
        "# **Module 8: Recurrent Neural Networks - Assignment**"
      ],
      "metadata": {
        "id": "cTHySbIYvDHw"
      }
    },
    {
      "cell_type": "markdown",
      "source": [
        "### **Problem Statement:**\n",
        "\n",
        "Build a sentiment analysis model using Recurrent Neural Networks (RNNs) to\n",
        "classify movie reviews from the IMDB dataset into positive or negative\n",
        "sentiments.\n",
        "\n",
        "### **Dataset:**\n",
        "\n",
        "The dataset comprises 25,000 movie reviews from IMDB, labeled by sentiment\n",
        "(positive/negative). Reviews have been preprocessed, and each review is\n",
        "encoded as a sequence of word indices (integers). The words in the dataset are\n",
        "indexed by overall frequency in the dataset, allowing for quick filtering operations such as: \"only consider the top 10,000 most common words, but eliminate the top 20 most common words\".\n",
        "\n",
        "### **Tasks to be Performed:**\n",
        "\n",
        "**Data Preprocessing:**\n",
        "\n",
        "● Load the IMDB dataset, keeping only the top 10,000 most frequently\n",
        "occurring words.\n",
        "\n",
        "● Pad the sequences so that they all have the same length.\n",
        "\n",
        "**Model Building:**\n",
        "\n",
        "● Create a Sequential RNN model using TensorFlow and Keras.\n",
        "\n",
        "● The model should consist of an Embedding layer, a SimpleRNN layer, and\n",
        "a Dense output layer.\n",
        "\n",
        "● Compile the model, specifying the appropriate optimizer, loss function, and\n",
        "metrics.\n",
        "\n",
        "**Training:**\n",
        "\n",
        "● Train the model on the preprocessed movie reviews, using a batch size of\n",
        "128 and validating on 20% of the training data.\n",
        "\n",
        "● Run the training for 10 epochs.\n",
        "\n",
        "**Evaluation:**\n",
        "\n",
        "Evaluate the model on the test set and report the accuracy.\n",
        "\n",
        "**Expected Outcome:**\n",
        "\n",
        "A trained RNN model that can classify movie reviews into positive or negative\n",
        "sentiments, with an accuracy metric provided at the end of the training process.\n"
      ],
      "metadata": {
        "id": "yvCwNt7KvtvS"
      }
    },
    {
      "cell_type": "markdown",
      "source": [
        "### **Step 1: Import Libraries**"
      ],
      "metadata": {
        "id": "YrzGfOWszDF7"
      }
    },
    {
      "cell_type": "code",
      "execution_count": 1,
      "metadata": {
        "id": "DuZvmgjcu_H2"
      },
      "outputs": [],
      "source": [
        "import tensorflow as tf\n",
        "from tensorflow import keras\n",
        "from tensorflow.keras.preprocessing import sequence\n",
        "from tensorflow.keras.models import Sequential\n",
        "from tensorflow.keras.layers import Embedding, SimpleRNN, Dense"
      ]
    },
    {
      "cell_type": "markdown",
      "source": [
        "### **Step 2: Data Preprocessing**"
      ],
      "metadata": {
        "id": "doEJcDuezP05"
      }
    },
    {
      "cell_type": "code",
      "source": [
        "# Load the IMDB dataset\n",
        "max_features = 10000  # Only consider the top 10,000 words\n",
        "maxlen = 500  # Pad sequences to a maximum length of 500\n",
        "batch_size = 128\n"
      ],
      "metadata": {
        "id": "MT027FDwzXHK"
      },
      "execution_count": 2,
      "outputs": []
    },
    {
      "cell_type": "code",
      "source": [
        "(x_train, y_train), (x_test, y_test) = keras.datasets.imdb.load_data(num_words=max_features)"
      ],
      "metadata": {
        "colab": {
          "base_uri": "https://localhost:8080/"
        },
        "id": "UkJb4nPzzeBq",
        "outputId": "13970a70-cbb0-4581-ffb8-e4f902246904"
      },
      "execution_count": 3,
      "outputs": [
        {
          "output_type": "stream",
          "name": "stdout",
          "text": [
            "Downloading data from https://storage.googleapis.com/tensorflow/tf-keras-datasets/imdb.npz\n",
            "\u001b[1m17464789/17464789\u001b[0m \u001b[32m━━━━━━━━━━━━━━━━━━━━\u001b[0m\u001b[37m\u001b[0m \u001b[1m0s\u001b[0m 0us/step\n"
          ]
        }
      ]
    },
    {
      "cell_type": "code",
      "source": [
        "# Pad sequences so they all have the same length\n",
        "x_train = sequence.pad_sequences(x_train, maxlen=maxlen)\n",
        "x_test = sequence.pad_sequences(x_test, maxlen=maxlen)"
      ],
      "metadata": {
        "id": "N0j0TNI5zkDX"
      },
      "execution_count": 4,
      "outputs": []
    },
    {
      "cell_type": "markdown",
      "source": [
        "### **Step 3: Model Building**"
      ],
      "metadata": {
        "id": "mpM8cGFGzoji"
      }
    },
    {
      "cell_type": "code",
      "source": [
        "# Build the RNN model\n",
        "model = Sequential([\n",
        "    Embedding(max_features, 128, input_length=maxlen),\n",
        "    SimpleRNN(64, activation='relu'),\n",
        "    Dense(1, activation='sigmoid')\n",
        "])"
      ],
      "metadata": {
        "colab": {
          "base_uri": "https://localhost:8080/"
        },
        "id": "qXJRn-jJzv8B",
        "outputId": "b152af60-2e18-4a6e-99a5-d14870f2c4d3"
      },
      "execution_count": 5,
      "outputs": [
        {
          "output_type": "stream",
          "name": "stderr",
          "text": [
            "/usr/local/lib/python3.11/dist-packages/keras/src/layers/core/embedding.py:90: UserWarning: Argument `input_length` is deprecated. Just remove it.\n",
            "  warnings.warn(\n"
          ]
        }
      ]
    },
    {
      "cell_type": "code",
      "source": [
        "# Compile the model\n",
        "model.compile(optimizer='adam', loss='binary_crossentropy', metrics=['accuracy'])"
      ],
      "metadata": {
        "id": "BWJvk10Pz0kf"
      },
      "execution_count": 6,
      "outputs": []
    },
    {
      "cell_type": "markdown",
      "source": [
        "### **Step 4: Model Training**"
      ],
      "metadata": {
        "id": "cNUjydkfz7pz"
      }
    },
    {
      "cell_type": "code",
      "source": [
        "# Train the model\n",
        "history = model.fit(x_train, y_train,\n",
        "                    epochs=10,\n",
        "                    batch_size=batch_size,\n",
        "                    validation_split=0.2)"
      ],
      "metadata": {
        "colab": {
          "base_uri": "https://localhost:8080/"
        },
        "id": "iHU05mzQ0B75",
        "outputId": "ea3213e7-21e4-4c59-97a6-d1e636ddf0a4"
      },
      "execution_count": 7,
      "outputs": [
        {
          "output_type": "stream",
          "name": "stdout",
          "text": [
            "Epoch 1/10\n",
            "\u001b[1m157/157\u001b[0m \u001b[32m━━━━━━━━━━━━━━━━━━━━\u001b[0m\u001b[37m\u001b[0m \u001b[1m57s\u001b[0m 348ms/step - accuracy: 0.5540 - loss: 0.6851 - val_accuracy: 0.6742 - val_loss: 0.5965\n",
            "Epoch 2/10\n",
            "\u001b[1m157/157\u001b[0m \u001b[32m━━━━━━━━━━━━━━━━━━━━\u001b[0m\u001b[37m\u001b[0m \u001b[1m85s\u001b[0m 367ms/step - accuracy: 0.7423 - loss: 0.5345 - val_accuracy: 0.6914 - val_loss: 0.5696\n",
            "Epoch 3/10\n",
            "\u001b[1m157/157\u001b[0m \u001b[32m━━━━━━━━━━━━━━━━━━━━\u001b[0m\u001b[37m\u001b[0m \u001b[1m81s\u001b[0m 359ms/step - accuracy: 0.8223 - loss: 0.4069 - val_accuracy: 0.7770 - val_loss: 0.4755\n",
            "Epoch 4/10\n",
            "\u001b[1m157/157\u001b[0m \u001b[32m━━━━━━━━━━━━━━━━━━━━\u001b[0m\u001b[37m\u001b[0m \u001b[1m82s\u001b[0m 359ms/step - accuracy: 0.8055 - loss: 0.4101 - val_accuracy: 0.6782 - val_loss: 0.6204\n",
            "Epoch 5/10\n",
            "\u001b[1m157/157\u001b[0m \u001b[32m━━━━━━━━━━━━━━━━━━━━\u001b[0m\u001b[37m\u001b[0m \u001b[1m81s\u001b[0m 353ms/step - accuracy: 0.8433 - loss: 0.3557 - val_accuracy: 0.7554 - val_loss: 0.5518\n",
            "Epoch 6/10\n",
            "\u001b[1m157/157\u001b[0m \u001b[32m━━━━━━━━━━━━━━━━━━━━\u001b[0m\u001b[37m\u001b[0m \u001b[1m57s\u001b[0m 364ms/step - accuracy: 0.9219 - loss: 0.2105 - val_accuracy: 0.7668 - val_loss: 0.5351\n",
            "Epoch 7/10\n",
            "\u001b[1m157/157\u001b[0m \u001b[32m━━━━━━━━━━━━━━━━━━━━\u001b[0m\u001b[37m\u001b[0m \u001b[1m56s\u001b[0m 357ms/step - accuracy: 0.9433 - loss: 0.1590 - val_accuracy: 0.8004 - val_loss: 0.5658\n",
            "Epoch 8/10\n",
            "\u001b[1m157/157\u001b[0m \u001b[32m━━━━━━━━━━━━━━━━━━━━\u001b[0m\u001b[37m\u001b[0m \u001b[1m79s\u001b[0m 336ms/step - accuracy: 0.9615 - loss: 0.1127 - val_accuracy: 0.7760 - val_loss: 0.5984\n",
            "Epoch 9/10\n",
            "\u001b[1m157/157\u001b[0m \u001b[32m━━━━━━━━━━━━━━━━━━━━\u001b[0m\u001b[37m\u001b[0m \u001b[1m85s\u001b[0m 355ms/step - accuracy: 0.9691 - loss: 0.0972 - val_accuracy: 0.8174 - val_loss: 0.6508\n",
            "Epoch 10/10\n",
            "\u001b[1m157/157\u001b[0m \u001b[32m━━━━━━━━━━━━━━━━━━━━\u001b[0m\u001b[37m\u001b[0m \u001b[1m87s\u001b[0m 387ms/step - accuracy: 0.9791 - loss: 0.0653 - val_accuracy: 0.8030 - val_loss: 0.7490\n"
          ]
        }
      ]
    },
    {
      "cell_type": "markdown",
      "source": [
        "### **Step 5: Model Evaluation**"
      ],
      "metadata": {
        "id": "zITg7wJo0WdV"
      }
    },
    {
      "cell_type": "code",
      "source": [
        "# Evaluate the model\n",
        "test_loss, test_acc = model.evaluate(x_test, y_test)\n",
        "print(f\"Test Accuracy: {test_acc:.4f}\")"
      ],
      "metadata": {
        "colab": {
          "base_uri": "https://localhost:8080/"
        },
        "id": "cd3Zi82M0eMU",
        "outputId": "874366fa-febc-4453-8b23-0233bf1db257"
      },
      "execution_count": 8,
      "outputs": [
        {
          "output_type": "stream",
          "name": "stdout",
          "text": [
            "\u001b[1m782/782\u001b[0m \u001b[32m━━━━━━━━━━━━━━━━━━━━\u001b[0m\u001b[37m\u001b[0m \u001b[1m30s\u001b[0m 38ms/step - accuracy: 0.7913 - loss: 0.7523\n",
            "Test Accuracy: 0.7959\n"
          ]
        }
      ]
    }
  ]
}