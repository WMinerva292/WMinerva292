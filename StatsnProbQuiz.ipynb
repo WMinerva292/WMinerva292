{
  "nbformat": 4,
  "nbformat_minor": 0,
  "metadata": {
    "colab": {
      "provenance": [],
      "authorship_tag": "ABX9TyM9estBkIF26xHEl9Pip9p4",
      "include_colab_link": true
    },
    "kernelspec": {
      "name": "python3",
      "display_name": "Python 3"
    },
    "language_info": {
      "name": "python"
    }
  },
  "cells": [
    {
      "cell_type": "markdown",
      "metadata": {
        "id": "view-in-github",
        "colab_type": "text"
      },
      "source": [
        "<a href=\"https://colab.research.google.com/github/WMinerva292/WMinerva292/blob/main/StatsnProbQuiz.ipynb\" target=\"_parent\"><img src=\"https://colab.research.google.com/assets/colab-badge.svg\" alt=\"Open In Colab\"/></a>"
      ]
    },
    {
      "cell_type": "markdown",
      "source": [
        "Given a sample, find the standard deviation and variance of the same. Sample = [42 61 39 70 8 30 52 28 95 86 35 77 80 86 1 84 90 57 45 6 1 56 60 83 24 63 93 59 92 53]\n",
        "28.94, 819.15\n",
        "28.49, 811.95\n",
        "24.89, 811.59\n",
        "28.44, 800.49"
      ],
      "metadata": {
        "id": "0tLhmKX2aCFG"
      }
    },
    {
      "cell_type": "code",
      "execution_count": null,
      "metadata": {
        "colab": {
          "base_uri": "https://localhost:8080/"
        },
        "id": "lbZjRkrgZ74W",
        "outputId": "d3b32aa0-36eb-4e26-cef2-41a4d56084ae"
      },
      "outputs": [
        {
          "output_type": "stream",
          "name": "stdout",
          "text": [
            "28.49491182649983 811.9599999999999\n"
          ]
        }
      ],
      "source": [
        "import numpy as np\n",
        "import pandas as pd\n",
        "import matplotlib.pyplot as plt\n",
        "Sample = [42, 61, 39, 70, 8, 30, 52, 28, 95, 86, 35, 77, 80, 86, 1, 84, 90, 57, 45, 6, 1, 56, 60, 83, 24, 63, 93, 59, 92, 53]\n",
        "\n",
        "# Find standard deviation and variance of the Sample\n",
        "std = np.std(Sample)\n",
        "var = np.var(Sample)\n",
        "print(std, var)"
      ]
    },
    {
      "cell_type": "markdown",
      "source": [
        "For a given unsorted array, find the range of the array, and the Interquartile range(IQR) of the array. array = numpy.array([17, 27, 80, 39, 72, 95, 52, 85, 8, 64, 36, 15, 62, 76, 66, 67, 59, 92])\n",
        "87, 38.25\n",
        "87, 46.25\n",
        "95, 35.28\n",
        "95, 26.25"
      ],
      "metadata": {
        "id": "ukjNW7n7bRHa"
      }
    },
    {
      "cell_type": "code",
      "source": [
        "array = np.array([17, 27, 80, 39, 72, 95, 52, 85, 8, 64, 36, 15, 62, 76, 66, 67, 59, 92])\n",
        "\n",
        "# Find the range of the array and the Interquartile range (IQR) of the array.\n",
        "range = np.max(array) - np.min(array)\n",
        "q1 = np.percentile(array, 25)\n",
        "q3 = np.percentile(array, 75)\n",
        "iqr = q3 - q1\n",
        "print(range, iqr)\n"
      ],
      "metadata": {
        "colab": {
          "base_uri": "https://localhost:8080/"
        },
        "id": "UgZ_XRDYbYba",
        "outputId": "d7371f47-cf48-4739-ebfa-b9b5e41c3b99"
      },
      "execution_count": null,
      "outputs": [
        {
          "output_type": "stream",
          "name": "stdout",
          "text": [
            "87 38.25\n"
          ]
        }
      ]
    },
    {
      "cell_type": "markdown",
      "source": [
        "Calculate the 95% confidence interval of the given sample using the t-distribution. Sample = [78 65 20 69 36 81 85 71 44 71 47 37 89 25 73 55 80 52 46 77].\n",
        "(45.450 , 67.599)\n",
        "(50.400 , 69.699)\n",
        "(40.500 , 63.659)\n",
        "(54.500 , 68.649)"
      ],
      "metadata": {
        "id": "_l41erEedjSU"
      }
    },
    {
      "cell_type": "code",
      "source": [
        "from scipy.stats import t\n",
        "Sample = [78, 65, 20, 69, 36, 81, 85, 71, 44, 71, 47, 37, 89, 25, 73, 55, 80, 52, 46, 77]\n",
        "\n",
        "# Calculate the 95% confidence interval of the given sample using the t-distribution.\n",
        "n = len(Sample)\n",
        "df = n - 1\n",
        "t_value = t.ppf(0.975, df)\n",
        "mean = np.mean(Sample)\n",
        "\n",
        "# find margin of error\n",
        "margin_of_error = t_value * (np.std(Sample) / np.sqrt(n))\n",
        "\n",
        "# find confidence interval\n",
        "confidence_interval = (mean - margin_of_error, mean + margin_of_error)\n",
        "\n",
        "print(confidence_interval)\n"
      ],
      "metadata": {
        "colab": {
          "base_uri": "https://localhost:8080/"
        },
        "id": "YP4zQUTXdlf_",
        "outputId": "fca45971-bba1-456b-a395-ca93a2188b4d"
      },
      "execution_count": null,
      "outputs": [
        {
          "output_type": "stream",
          "name": "stdout",
          "text": [
            "(50.644802470511614, 69.45519752948837)\n"
          ]
        }
      ]
    },
    {
      "cell_type": "markdown",
      "source": [
        "If the mean value is 100 and standard deviation is 15 for a normally distributed sample. Calculate the p-value from the given sample after performing the one sample z-test on the following data. Sample = [88, 92, 84, 64, 96, 97, 67, 97, 96, 99,115, 119, 119, 129, 130, 142, 102, 123, 134, 105]\n",
        "0.32\n",
        "1.30\n",
        "1.03\n",
        "0.30"
      ],
      "metadata": {
        "id": "bkjz2O1tgbds"
      }
    },
    {
      "cell_type": "code",
      "source": [
        "from scipy.stats import norm\n",
        "mean = 100\n",
        "std = 15\n",
        "Sample = [88, 92, 84, 64, 96, 97, 67, 97, 96, 99,115, 119, 119, 129, 130, 142, 102, 123, 134, 105]\n",
        "\n",
        "#Calculate the p-value from the given sample after performing the one sample z-test on the following data.\n",
        "#Claculate sample mean and size\n",
        "sample_mean = np.mean(Sample)\n",
        "n = len(Sample)\n",
        "\n",
        "#Calculate the z-score\n",
        "z_score = (sample_mean - mean) / (std / np.sqrt(n))\n",
        "\n",
        "#Calculate the p-value\n",
        "p_value = 2 * (1 - norm.cdf(abs(z_score)))\n",
        "\n",
        "print(p_value)\n",
        "\n"
      ],
      "metadata": {
        "colab": {
          "base_uri": "https://localhost:8080/"
        },
        "id": "3ON0t5TPgdWf",
        "outputId": "6cd7a5e4-2de1-44c8-c6b0-16d7cb06674f"
      },
      "execution_count": null,
      "outputs": [
        {
          "output_type": "stream",
          "name": "stdout",
          "text": [
            "0.07202175274266209\n"
          ]
        }
      ]
    }
  ]
}