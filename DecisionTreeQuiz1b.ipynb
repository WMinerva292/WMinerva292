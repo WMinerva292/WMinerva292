{
  "nbformat": 4,
  "nbformat_minor": 0,
  "metadata": {
    "colab": {
      "provenance": [],
      "authorship_tag": "ABX9TyMA34RdpouXEo9kcH9xTNR6",
      "include_colab_link": true
    },
    "kernelspec": {
      "name": "python3",
      "display_name": "Python 3"
    },
    "language_info": {
      "name": "python"
    }
  },
  "cells": [
    {
      "cell_type": "markdown",
      "metadata": {
        "id": "view-in-github",
        "colab_type": "text"
      },
      "source": [
        "<a href=\"https://colab.research.google.com/github/WMinerva292/WMinerva292/blob/main/DecisionTreeQuiz1b.ipynb\" target=\"_parent\"><img src=\"https://colab.research.google.com/assets/colab-badge.svg\" alt=\"Open In Colab\"/></a>"
      ]
    },
    {
      "cell_type": "code",
      "execution_count": null,
      "metadata": {
        "colab": {
          "base_uri": "https://localhost:8080/"
        },
        "id": "G4Gs0sw-dG7P",
        "outputId": "d3c78160-e564-4c66-ed8f-237d2a1e89ee"
      },
      "outputs": [
        {
          "output_type": "stream",
          "name": "stdout",
          "text": [
            "Precision for False Targets: 0.98\n"
          ]
        }
      ],
      "source": [
        "import pandas as pd\n",
        "from sklearn.model_selection import train_test_split\n",
        "from sklearn.tree import DecisionTreeClassifier\n",
        "from sklearn.metrics import classification_report, precision_score\n",
        "from sklearn.preprocessing import LabelEncoder\n",
        "\n",
        "# Load the dataset\n",
        "# Replace with the actual path of your dataset\n",
        "df = pd.read_csv('/content/Pokemon.csv')\n",
        "\n",
        "# Handle missing values (Example: Fill NaN with the mean of each column)\n",
        "# Iterate over numeric columns only\n",
        "numeric_columns = df.select_dtypes(include=['number']).columns\n",
        "df[numeric_columns] = df[numeric_columns].apply(pd.to_numeric, errors='coerce')\n",
        "df[numeric_columns] = df[numeric_columns].fillna(df[numeric_columns].mean())\n",
        "\n",
        "# For string or object columns, fill with a placeholder like 'unknown'\n",
        "object_columns = df.select_dtypes(include=['object']).columns\n",
        "df[object_columns] = df[object_columns].fillna('unknown')\n",
        "\n",
        "#Convert categorical features to numerical using Label Encoding\n",
        "for col in object_columns:\n",
        "    # Create a LabelEncoder object\n",
        "    le = LabelEncoder()\n",
        "    # Fit the encoder to the unique values in the column\n",
        "    le.fit(df[col].unique())\n",
        "    # Transform the column using the encoder\n",
        "    df[col] = le.transform(df[col])\n",
        "\n",
        "# Define features (X) and target (y)\n",
        "X = df.drop(columns=[\"Legendary\"])\n",
        "y = df[\"Legendary\"]\n",
        "\n",
        "# Split the data into training and testing sets (70:30 ratio, random state = 1)\n",
        "X_train, X_test, y_train, y_test = train_test_split(X, y, test_size=0.3, random_state=1)\n",
        "\n",
        "# Build the Decision Tree model\n",
        "model = DecisionTreeClassifier(random_state=1)\n",
        "model.fit(X_train, y_train)\n",
        "\n",
        "# Make predictions\n",
        "y_pred = model.predict(X_test)\n",
        "\n",
        "# Calculate precision for when the target is False\n",
        "precision_false = precision_score(y_test, y_pred, pos_label=False)\n",
        "\n",
        "# Print the precision score\n",
        "print(f\"Precision for False Targets: {precision_false:.2f}\")\n"
      ]
    },
    {
      "cell_type": "code",
      "source": [
        "# What is the sensitivity of the above model when the target is True?\n",
        "sensitivity_true = precision_score(y_test, y_pred, pos_label=True)\n",
        "print(f\"Sensitivity for True Targets: {sensitivity_true:.2f}\")"
      ],
      "metadata": {
        "colab": {
          "base_uri": "https://localhost:8080/"
        },
        "id": "7t0DJZHDf-C7",
        "outputId": "5873a81a-4a91-4f34-8bd5-449bdae1e85c"
      },
      "execution_count": null,
      "outputs": [
        {
          "output_type": "stream",
          "name": "stdout",
          "text": [
            "Sensitivity for True Targets: 0.77\n"
          ]
        }
      ]
    },
    {
      "cell_type": "code",
      "source": [
        "# How much misclassified data has been retrieved from the above model?\n",
        "misclassified_data = sum(y_test != y_pred)\n",
        "print(f\"Misclassified Data: {misclassified_data}\")"
      ],
      "metadata": {
        "colab": {
          "base_uri": "https://localhost:8080/"
        },
        "id": "kwnSmPhzgaaB",
        "outputId": "087723aa-9a77-4639-e49c-b4bc572ec96c"
      },
      "execution_count": null,
      "outputs": [
        {
          "output_type": "stream",
          "name": "stdout",
          "text": [
            "Misclassified Data: 9\n"
          ]
        }
      ]
    },
    {
      "cell_type": "code",
      "source": [
        "# What is the nature of the target variable\n",
        "target_variable_nature = \"Binary\"\n",
        "print(f\"Nature of Target Variable: {target_variable_nature}\")\n",
        "#"
      ],
      "metadata": {
        "id": "nMJ0eSl-hlAR",
        "outputId": "12325947-ffee-4fa8-cb1e-1a1df9b8b21f",
        "colab": {
          "base_uri": "https://localhost:8080/"
        }
      },
      "execution_count": null,
      "outputs": [
        {
          "output_type": "stream",
          "name": "stdout",
          "text": [
            "Nature of Target Variable: Binary\n"
          ]
        }
      ]
    }
  ]
}